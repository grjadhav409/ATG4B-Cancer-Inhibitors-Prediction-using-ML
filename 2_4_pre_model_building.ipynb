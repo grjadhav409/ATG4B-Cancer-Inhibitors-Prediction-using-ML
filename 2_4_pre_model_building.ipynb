{
  "nbformat": 4,
  "nbformat_minor": 0,
  "metadata": {
    "colab": {
      "name": "2.4_pre_model_building",
      "provenance": [],
      "collapsed_sections": [
        "Prq5jzRWpNWT",
        "kbadyFIRo8M8",
        "oLltzQQZAJkd",
        "3d4a9664"
      ],
      "mount_file_id": "1raf3rAo0zzCmnFzZdPg9SHaPcR6EaSVV",
      "authorship_tag": "ABX9TyNEdq6LM4WgAkxIrUyi8b+Z",
      "include_colab_link": true
    },
    "kernelspec": {
      "name": "python3",
      "display_name": "Python 3"
    },
    "language_info": {
      "name": "python"
    }
  },
  "cells": [
    {
      "cell_type": "markdown",
      "metadata": {
        "id": "view-in-github",
        "colab_type": "text"
      },
      "source": [
        "<a href=\"https://colab.research.google.com/github/grjadhav409/ATG4B-inhibitors-prediction-using-ML/blob/main/2_4_pre_model_building.ipynb\" target=\"_parent\"><img src=\"https://colab.research.google.com/assets/colab-badge.svg\" alt=\"Open In Colab\"/></a>"
      ]
    },
    {
      "cell_type": "markdown",
      "source": [
        "## lib"
      ],
      "metadata": {
        "id": "Prq5jzRWpNWT"
      }
    },
    {
      "cell_type": "code",
      "execution_count": null,
      "metadata": {
        "execution": {
          "iopub.execute_input": "2022-04-19T17:43:05.990011Z",
          "iopub.status.busy": "2022-04-19T17:43:05.989669Z",
          "iopub.status.idle": "2022-04-19T17:43:08.550676Z",
          "shell.execute_reply": "2022-04-19T17:43:08.549503Z"
        },
        "papermill": {
          "duration": 2.686695,
          "end_time": "2022-04-19T17:43:08.553801",
          "exception": false,
          "start_time": "2022-04-19T17:43:05.867106",
          "status": "completed"
        },
        "tags": [],
        "id": "4afd9b6f",
        "colab": {
          "base_uri": "https://localhost:8080/"
        },
        "outputId": "0469134f-77f3-49b6-afac-af4466649246"
      },
      "outputs": [
        {
          "output_type": "stream",
          "name": "stderr",
          "text": [
            "/usr/local/lib/python3.7/dist-packages/statsmodels/tools/_testing.py:19: FutureWarning: pandas.util.testing is deprecated. Use the functions in the public API at pandas.testing instead.\n",
            "  import pandas.util.testing as tm\n"
          ]
        }
      ],
      "source": [
        "# Load librarie\n",
        "import pandas as pd\n",
        "import matplotlib.pyplot as plt\n",
        "import seaborn as sns\n",
        "import numpy as np\n",
        "import warnings\n",
        "import statsmodels.api as sm\n",
        "import statsmodels.formula.api as smf\n",
        "import statsmodels.api as sm\n",
        "import sklearn\n",
        "\n",
        "from statsmodels.stats.outliers_influence import variance_inflation_factor\n",
        "from scipy.stats import norm\n",
        "from sklearn.preprocessing import StandardScaler\n",
        "from sklearn.feature_selection import VarianceThreshold\n",
        "from scipy import stats\n",
        "from scipy.stats import chi2_contingency\n",
        "from sklearn.impute import SimpleImputer\n",
        "from sklearn.model_selection import train_test_split\n",
        "from sklearn import preprocessing\n",
        "\n",
        "warnings.filterwarnings(\"ignore\")\n",
        "%matplotlib inline\n",
        "sns.set(rc={\"figure.figsize\": (20, 15)})\n",
        "sns.set_style(\"whitegrid\")"
      ]
    },
    {
      "cell_type": "markdown",
      "source": [
        "## data load"
      ],
      "metadata": {
        "id": "kbadyFIRo8M8"
      }
    },
    {
      "cell_type": "code",
      "execution_count": null,
      "metadata": {
        "id": "aFiejRzBkJ9M"
      },
      "outputs": [],
      "source": [
        "import pandas as pd"
      ]
    },
    {
      "cell_type": "code",
      "source": [
        "df1= pd.read_csv(\"/content/drive/MyDrive/Colab Notebooks/drug discovery/ATG4B/data_atg4b/X_padel.csv\")\n",
        "df2= pd.read_csv(\"/content/drive/MyDrive/Colab Notebooks/drug discovery/ATG4B/data_atg4b/y_pic50.csv\")\n",
        "df4= pd.concat([df1,df2],axis=1)\n",
        "df5 = df4.loc[:,~df4.columns.str.match(\"Unnamed\")]\n",
        "df5"
      ],
      "metadata": {
        "colab": {
          "base_uri": "https://localhost:8080/",
          "height": 487
        },
        "id": "0t_B8barmfEV",
        "outputId": "cf8e009a-1855-428a-ce70-9c5c2e7d759d"
      },
      "execution_count": null,
      "outputs": [
        {
          "output_type": "execute_result",
          "data": {
            "text/plain": [
              "     nAcid   ALogP    ALogp2      AMR       apol  naAromAtom  nAromBond  \\\n",
              "0        0 -0.2098  0.044016  56.4955  68.375446          20         22   \n",
              "1        0  1.3986  1.956082  36.8320  42.410344          12         12   \n",
              "2        0  0.8315  0.691392  27.5014  42.058895          12         12   \n",
              "3        1  1.7036  2.902253  71.8077  50.561481           6          6   \n",
              "4        0 -1.4759  2.178281  59.1836  60.832204          11         11   \n",
              "..     ...     ...       ...      ...        ...         ...        ...   \n",
              "369      0 -1.9079  3.640082  44.5948  55.167653          12         12   \n",
              "370      0  1.3296  1.767836  47.6401  52.458309          16         16   \n",
              "371      0 -2.0054  4.021629  37.0838  69.884688          26         35   \n",
              "372      0 -0.8215  0.674862  39.4075  55.348653          17         17   \n",
              "373      0 -0.7816  0.610899  49.1010  49.087516          12         12   \n",
              "\n",
              "     nAtom  nHeavyAtom  nH  ...  PubchemFP872  PubchemFP873  PubchemFP874  \\\n",
              "0       55          33  22  ...             0             0             0   \n",
              "1       34          26   8  ...             0             0             0   \n",
              "2       34          19  15  ...             0             0             0   \n",
              "3       40          23  17  ...             0             0             0   \n",
              "4       54          26  28  ...             0             0             0   \n",
              "..     ...         ...  ..  ...           ...           ...           ...   \n",
              "369     48          27  21  ...             0             0             0   \n",
              "370     42          29  13  ...             0             0             0   \n",
              "371     54          38  16  ...             0             0             0   \n",
              "372     48          27  21  ...             0             0             0   \n",
              "373     38          26  12  ...             0             0             0   \n",
              "\n",
              "     PubchemFP875  PubchemFP876  PubchemFP877  PubchemFP878  PubchemFP879  \\\n",
              "0               0             0             0             0             0   \n",
              "1               0             0             0             0             0   \n",
              "2               0             0             0             0             0   \n",
              "3               0             0             0             0             0   \n",
              "4               0             0             0             0             0   \n",
              "..            ...           ...           ...           ...           ...   \n",
              "369             0             0             0             0             0   \n",
              "370             0             0             0             0             0   \n",
              "371             0             0             0             0             0   \n",
              "372             0             0             0             0             0   \n",
              "373             0             0             0             0             0   \n",
              "\n",
              "     PubchemFP880     pIC50  \n",
              "0               0  4.876148  \n",
              "1               0  5.048662  \n",
              "2               0  4.735182  \n",
              "3               0  4.767004  \n",
              "4               0  4.928118  \n",
              "..            ...       ...  \n",
              "369             0  4.464706  \n",
              "370             0  4.677781  \n",
              "371             0  4.244125  \n",
              "372             0  4.701147  \n",
              "373             0  3.501689  \n",
              "\n",
              "[374 rows x 2757 columns]"
            ],
            "text/html": [
              "\n",
              "  <div id=\"df-c259df3f-11bd-4411-8fe2-3b2cc064e17a\">\n",
              "    <div class=\"colab-df-container\">\n",
              "      <div>\n",
              "<style scoped>\n",
              "    .dataframe tbody tr th:only-of-type {\n",
              "        vertical-align: middle;\n",
              "    }\n",
              "\n",
              "    .dataframe tbody tr th {\n",
              "        vertical-align: top;\n",
              "    }\n",
              "\n",
              "    .dataframe thead th {\n",
              "        text-align: right;\n",
              "    }\n",
              "</style>\n",
              "<table border=\"1\" class=\"dataframe\">\n",
              "  <thead>\n",
              "    <tr style=\"text-align: right;\">\n",
              "      <th></th>\n",
              "      <th>nAcid</th>\n",
              "      <th>ALogP</th>\n",
              "      <th>ALogp2</th>\n",
              "      <th>AMR</th>\n",
              "      <th>apol</th>\n",
              "      <th>naAromAtom</th>\n",
              "      <th>nAromBond</th>\n",
              "      <th>nAtom</th>\n",
              "      <th>nHeavyAtom</th>\n",
              "      <th>nH</th>\n",
              "      <th>...</th>\n",
              "      <th>PubchemFP872</th>\n",
              "      <th>PubchemFP873</th>\n",
              "      <th>PubchemFP874</th>\n",
              "      <th>PubchemFP875</th>\n",
              "      <th>PubchemFP876</th>\n",
              "      <th>PubchemFP877</th>\n",
              "      <th>PubchemFP878</th>\n",
              "      <th>PubchemFP879</th>\n",
              "      <th>PubchemFP880</th>\n",
              "      <th>pIC50</th>\n",
              "    </tr>\n",
              "  </thead>\n",
              "  <tbody>\n",
              "    <tr>\n",
              "      <th>0</th>\n",
              "      <td>0</td>\n",
              "      <td>-0.2098</td>\n",
              "      <td>0.044016</td>\n",
              "      <td>56.4955</td>\n",
              "      <td>68.375446</td>\n",
              "      <td>20</td>\n",
              "      <td>22</td>\n",
              "      <td>55</td>\n",
              "      <td>33</td>\n",
              "      <td>22</td>\n",
              "      <td>...</td>\n",
              "      <td>0</td>\n",
              "      <td>0</td>\n",
              "      <td>0</td>\n",
              "      <td>0</td>\n",
              "      <td>0</td>\n",
              "      <td>0</td>\n",
              "      <td>0</td>\n",
              "      <td>0</td>\n",
              "      <td>0</td>\n",
              "      <td>4.876148</td>\n",
              "    </tr>\n",
              "    <tr>\n",
              "      <th>1</th>\n",
              "      <td>0</td>\n",
              "      <td>1.3986</td>\n",
              "      <td>1.956082</td>\n",
              "      <td>36.8320</td>\n",
              "      <td>42.410344</td>\n",
              "      <td>12</td>\n",
              "      <td>12</td>\n",
              "      <td>34</td>\n",
              "      <td>26</td>\n",
              "      <td>8</td>\n",
              "      <td>...</td>\n",
              "      <td>0</td>\n",
              "      <td>0</td>\n",
              "      <td>0</td>\n",
              "      <td>0</td>\n",
              "      <td>0</td>\n",
              "      <td>0</td>\n",
              "      <td>0</td>\n",
              "      <td>0</td>\n",
              "      <td>0</td>\n",
              "      <td>5.048662</td>\n",
              "    </tr>\n",
              "    <tr>\n",
              "      <th>2</th>\n",
              "      <td>0</td>\n",
              "      <td>0.8315</td>\n",
              "      <td>0.691392</td>\n",
              "      <td>27.5014</td>\n",
              "      <td>42.058895</td>\n",
              "      <td>12</td>\n",
              "      <td>12</td>\n",
              "      <td>34</td>\n",
              "      <td>19</td>\n",
              "      <td>15</td>\n",
              "      <td>...</td>\n",
              "      <td>0</td>\n",
              "      <td>0</td>\n",
              "      <td>0</td>\n",
              "      <td>0</td>\n",
              "      <td>0</td>\n",
              "      <td>0</td>\n",
              "      <td>0</td>\n",
              "      <td>0</td>\n",
              "      <td>0</td>\n",
              "      <td>4.735182</td>\n",
              "    </tr>\n",
              "    <tr>\n",
              "      <th>3</th>\n",
              "      <td>1</td>\n",
              "      <td>1.7036</td>\n",
              "      <td>2.902253</td>\n",
              "      <td>71.8077</td>\n",
              "      <td>50.561481</td>\n",
              "      <td>6</td>\n",
              "      <td>6</td>\n",
              "      <td>40</td>\n",
              "      <td>23</td>\n",
              "      <td>17</td>\n",
              "      <td>...</td>\n",
              "      <td>0</td>\n",
              "      <td>0</td>\n",
              "      <td>0</td>\n",
              "      <td>0</td>\n",
              "      <td>0</td>\n",
              "      <td>0</td>\n",
              "      <td>0</td>\n",
              "      <td>0</td>\n",
              "      <td>0</td>\n",
              "      <td>4.767004</td>\n",
              "    </tr>\n",
              "    <tr>\n",
              "      <th>4</th>\n",
              "      <td>0</td>\n",
              "      <td>-1.4759</td>\n",
              "      <td>2.178281</td>\n",
              "      <td>59.1836</td>\n",
              "      <td>60.832204</td>\n",
              "      <td>11</td>\n",
              "      <td>11</td>\n",
              "      <td>54</td>\n",
              "      <td>26</td>\n",
              "      <td>28</td>\n",
              "      <td>...</td>\n",
              "      <td>0</td>\n",
              "      <td>0</td>\n",
              "      <td>0</td>\n",
              "      <td>0</td>\n",
              "      <td>0</td>\n",
              "      <td>0</td>\n",
              "      <td>0</td>\n",
              "      <td>0</td>\n",
              "      <td>0</td>\n",
              "      <td>4.928118</td>\n",
              "    </tr>\n",
              "    <tr>\n",
              "      <th>...</th>\n",
              "      <td>...</td>\n",
              "      <td>...</td>\n",
              "      <td>...</td>\n",
              "      <td>...</td>\n",
              "      <td>...</td>\n",
              "      <td>...</td>\n",
              "      <td>...</td>\n",
              "      <td>...</td>\n",
              "      <td>...</td>\n",
              "      <td>...</td>\n",
              "      <td>...</td>\n",
              "      <td>...</td>\n",
              "      <td>...</td>\n",
              "      <td>...</td>\n",
              "      <td>...</td>\n",
              "      <td>...</td>\n",
              "      <td>...</td>\n",
              "      <td>...</td>\n",
              "      <td>...</td>\n",
              "      <td>...</td>\n",
              "      <td>...</td>\n",
              "    </tr>\n",
              "    <tr>\n",
              "      <th>369</th>\n",
              "      <td>0</td>\n",
              "      <td>-1.9079</td>\n",
              "      <td>3.640082</td>\n",
              "      <td>44.5948</td>\n",
              "      <td>55.167653</td>\n",
              "      <td>12</td>\n",
              "      <td>12</td>\n",
              "      <td>48</td>\n",
              "      <td>27</td>\n",
              "      <td>21</td>\n",
              "      <td>...</td>\n",
              "      <td>0</td>\n",
              "      <td>0</td>\n",
              "      <td>0</td>\n",
              "      <td>0</td>\n",
              "      <td>0</td>\n",
              "      <td>0</td>\n",
              "      <td>0</td>\n",
              "      <td>0</td>\n",
              "      <td>0</td>\n",
              "      <td>4.464706</td>\n",
              "    </tr>\n",
              "    <tr>\n",
              "      <th>370</th>\n",
              "      <td>0</td>\n",
              "      <td>1.3296</td>\n",
              "      <td>1.767836</td>\n",
              "      <td>47.6401</td>\n",
              "      <td>52.458309</td>\n",
              "      <td>16</td>\n",
              "      <td>16</td>\n",
              "      <td>42</td>\n",
              "      <td>29</td>\n",
              "      <td>13</td>\n",
              "      <td>...</td>\n",
              "      <td>0</td>\n",
              "      <td>0</td>\n",
              "      <td>0</td>\n",
              "      <td>0</td>\n",
              "      <td>0</td>\n",
              "      <td>0</td>\n",
              "      <td>0</td>\n",
              "      <td>0</td>\n",
              "      <td>0</td>\n",
              "      <td>4.677781</td>\n",
              "    </tr>\n",
              "    <tr>\n",
              "      <th>371</th>\n",
              "      <td>0</td>\n",
              "      <td>-2.0054</td>\n",
              "      <td>4.021629</td>\n",
              "      <td>37.0838</td>\n",
              "      <td>69.884688</td>\n",
              "      <td>26</td>\n",
              "      <td>35</td>\n",
              "      <td>54</td>\n",
              "      <td>38</td>\n",
              "      <td>16</td>\n",
              "      <td>...</td>\n",
              "      <td>0</td>\n",
              "      <td>0</td>\n",
              "      <td>0</td>\n",
              "      <td>0</td>\n",
              "      <td>0</td>\n",
              "      <td>0</td>\n",
              "      <td>0</td>\n",
              "      <td>0</td>\n",
              "      <td>0</td>\n",
              "      <td>4.244125</td>\n",
              "    </tr>\n",
              "    <tr>\n",
              "      <th>372</th>\n",
              "      <td>0</td>\n",
              "      <td>-0.8215</td>\n",
              "      <td>0.674862</td>\n",
              "      <td>39.4075</td>\n",
              "      <td>55.348653</td>\n",
              "      <td>17</td>\n",
              "      <td>17</td>\n",
              "      <td>48</td>\n",
              "      <td>27</td>\n",
              "      <td>21</td>\n",
              "      <td>...</td>\n",
              "      <td>0</td>\n",
              "      <td>0</td>\n",
              "      <td>0</td>\n",
              "      <td>0</td>\n",
              "      <td>0</td>\n",
              "      <td>0</td>\n",
              "      <td>0</td>\n",
              "      <td>0</td>\n",
              "      <td>0</td>\n",
              "      <td>4.701147</td>\n",
              "    </tr>\n",
              "    <tr>\n",
              "      <th>373</th>\n",
              "      <td>0</td>\n",
              "      <td>-0.7816</td>\n",
              "      <td>0.610899</td>\n",
              "      <td>49.1010</td>\n",
              "      <td>49.087516</td>\n",
              "      <td>12</td>\n",
              "      <td>12</td>\n",
              "      <td>38</td>\n",
              "      <td>26</td>\n",
              "      <td>12</td>\n",
              "      <td>...</td>\n",
              "      <td>0</td>\n",
              "      <td>0</td>\n",
              "      <td>0</td>\n",
              "      <td>0</td>\n",
              "      <td>0</td>\n",
              "      <td>0</td>\n",
              "      <td>0</td>\n",
              "      <td>0</td>\n",
              "      <td>0</td>\n",
              "      <td>3.501689</td>\n",
              "    </tr>\n",
              "  </tbody>\n",
              "</table>\n",
              "<p>374 rows × 2757 columns</p>\n",
              "</div>\n",
              "      <button class=\"colab-df-convert\" onclick=\"convertToInteractive('df-c259df3f-11bd-4411-8fe2-3b2cc064e17a')\"\n",
              "              title=\"Convert this dataframe to an interactive table.\"\n",
              "              style=\"display:none;\">\n",
              "        \n",
              "  <svg xmlns=\"http://www.w3.org/2000/svg\" height=\"24px\"viewBox=\"0 0 24 24\"\n",
              "       width=\"24px\">\n",
              "    <path d=\"M0 0h24v24H0V0z\" fill=\"none\"/>\n",
              "    <path d=\"M18.56 5.44l.94 2.06.94-2.06 2.06-.94-2.06-.94-.94-2.06-.94 2.06-2.06.94zm-11 1L8.5 8.5l.94-2.06 2.06-.94-2.06-.94L8.5 2.5l-.94 2.06-2.06.94zm10 10l.94 2.06.94-2.06 2.06-.94-2.06-.94-.94-2.06-.94 2.06-2.06.94z\"/><path d=\"M17.41 7.96l-1.37-1.37c-.4-.4-.92-.59-1.43-.59-.52 0-1.04.2-1.43.59L10.3 9.45l-7.72 7.72c-.78.78-.78 2.05 0 2.83L4 21.41c.39.39.9.59 1.41.59.51 0 1.02-.2 1.41-.59l7.78-7.78 2.81-2.81c.8-.78.8-2.07 0-2.86zM5.41 20L4 18.59l7.72-7.72 1.47 1.35L5.41 20z\"/>\n",
              "  </svg>\n",
              "      </button>\n",
              "      \n",
              "  <style>\n",
              "    .colab-df-container {\n",
              "      display:flex;\n",
              "      flex-wrap:wrap;\n",
              "      gap: 12px;\n",
              "    }\n",
              "\n",
              "    .colab-df-convert {\n",
              "      background-color: #E8F0FE;\n",
              "      border: none;\n",
              "      border-radius: 50%;\n",
              "      cursor: pointer;\n",
              "      display: none;\n",
              "      fill: #1967D2;\n",
              "      height: 32px;\n",
              "      padding: 0 0 0 0;\n",
              "      width: 32px;\n",
              "    }\n",
              "\n",
              "    .colab-df-convert:hover {\n",
              "      background-color: #E2EBFA;\n",
              "      box-shadow: 0px 1px 2px rgba(60, 64, 67, 0.3), 0px 1px 3px 1px rgba(60, 64, 67, 0.15);\n",
              "      fill: #174EA6;\n",
              "    }\n",
              "\n",
              "    [theme=dark] .colab-df-convert {\n",
              "      background-color: #3B4455;\n",
              "      fill: #D2E3FC;\n",
              "    }\n",
              "\n",
              "    [theme=dark] .colab-df-convert:hover {\n",
              "      background-color: #434B5C;\n",
              "      box-shadow: 0px 1px 3px 1px rgba(0, 0, 0, 0.15);\n",
              "      filter: drop-shadow(0px 1px 2px rgba(0, 0, 0, 0.3));\n",
              "      fill: #FFFFFF;\n",
              "    }\n",
              "  </style>\n",
              "\n",
              "      <script>\n",
              "        const buttonEl =\n",
              "          document.querySelector('#df-c259df3f-11bd-4411-8fe2-3b2cc064e17a button.colab-df-convert');\n",
              "        buttonEl.style.display =\n",
              "          google.colab.kernel.accessAllowed ? 'block' : 'none';\n",
              "\n",
              "        async function convertToInteractive(key) {\n",
              "          const element = document.querySelector('#df-c259df3f-11bd-4411-8fe2-3b2cc064e17a');\n",
              "          const dataTable =\n",
              "            await google.colab.kernel.invokeFunction('convertToInteractive',\n",
              "                                                     [key], {});\n",
              "          if (!dataTable) return;\n",
              "\n",
              "          const docLinkHtml = 'Like what you see? Visit the ' +\n",
              "            '<a target=\"_blank\" href=https://colab.research.google.com/notebooks/data_table.ipynb>data table notebook</a>'\n",
              "            + ' to learn more about interactive tables.';\n",
              "          element.innerHTML = '';\n",
              "          dataTable['output_type'] = 'display_data';\n",
              "          await google.colab.output.renderOutput(dataTable, element);\n",
              "          const docLink = document.createElement('div');\n",
              "          docLink.innerHTML = docLinkHtml;\n",
              "          element.appendChild(docLink);\n",
              "        }\n",
              "      </script>\n",
              "    </div>\n",
              "  </div>\n",
              "  "
            ]
          },
          "metadata": {},
          "execution_count": 3
        }
      ]
    },
    {
      "cell_type": "code",
      "source": [
        "# Replace to drop rows or columns infinite values\n",
        "df6 = df5.replace([np.inf, -np.inf], np.nan).dropna(axis=0)\n",
        "df6"
      ],
      "metadata": {
        "colab": {
          "base_uri": "https://localhost:8080/",
          "height": 487
        },
        "id": "1LZL3pP1scIX",
        "outputId": "ad59786d-e59d-4335-ae1e-0a520537c8aa"
      },
      "execution_count": null,
      "outputs": [
        {
          "output_type": "execute_result",
          "data": {
            "text/plain": [
              "     nAcid   ALogP    ALogp2      AMR       apol  naAromAtom  nAromBond  \\\n",
              "1        0  1.3986  1.956082  36.8320  42.410344          12         12   \n",
              "4        0 -1.4759  2.178281  59.1836  60.832204          11         11   \n",
              "6        0 -1.2775  1.632006  14.9141  33.345137          12         13   \n",
              "7        0  1.6560  2.742336  80.4116  65.128653          12         17   \n",
              "8        0 -0.4942  0.244234  41.5289  58.759860          17         17   \n",
              "..     ...     ...       ...      ...        ...         ...        ...   \n",
              "367      0 -0.1764  0.031117  57.0806  66.392653          16         17   \n",
              "368      0 -0.4191  0.175645  49.0791  58.261239          12         12   \n",
              "369      0 -1.9079  3.640082  44.5948  55.167653          12         12   \n",
              "371      0 -2.0054  4.021629  37.0838  69.884688          26         35   \n",
              "372      0 -0.8215  0.674862  39.4075  55.348653          17         17   \n",
              "\n",
              "     nAtom  nHeavyAtom  nH  ...  PubchemFP872  PubchemFP873  PubchemFP874  \\\n",
              "1       34          26   8  ...             0             0             0   \n",
              "4       54          26  28  ...             0             0             0   \n",
              "6       26          17   9  ...             0             0             0   \n",
              "7       51          30  21  ...             0             0             0   \n",
              "8       47          27  20  ...             0             0             0   \n",
              "..     ...         ...  ..  ...           ...           ...           ...   \n",
              "367     54          33  21  ...             0             0             0   \n",
              "368     51          28  23  ...             0             0             0   \n",
              "369     48          27  21  ...             0             0             0   \n",
              "371     54          38  16  ...             0             0             0   \n",
              "372     48          27  21  ...             0             0             0   \n",
              "\n",
              "     PubchemFP875  PubchemFP876  PubchemFP877  PubchemFP878  PubchemFP879  \\\n",
              "1               0             0             0             0             0   \n",
              "4               0             0             0             0             0   \n",
              "6               0             0             0             0             0   \n",
              "7               0             0             0             0             0   \n",
              "8               0             0             0             0             0   \n",
              "..            ...           ...           ...           ...           ...   \n",
              "367             0             0             0             0             0   \n",
              "368             0             0             0             0             0   \n",
              "369             0             0             0             0             0   \n",
              "371             0             0             0             0             0   \n",
              "372             0             0             0             0             0   \n",
              "\n",
              "     PubchemFP880     pIC50  \n",
              "1               0  5.048662  \n",
              "4               0  4.928118  \n",
              "6               0  5.806875  \n",
              "7               0  4.709965  \n",
              "8               0  4.818156  \n",
              "..            ...       ...  \n",
              "367             0  4.096910  \n",
              "368             0  4.258848  \n",
              "369             0  4.464706  \n",
              "371             0  4.244125  \n",
              "372             0  4.701147  \n",
              "\n",
              "[243 rows x 2757 columns]"
            ],
            "text/html": [
              "\n",
              "  <div id=\"df-118252cf-0f3a-4ccf-b4f2-11856d185de6\">\n",
              "    <div class=\"colab-df-container\">\n",
              "      <div>\n",
              "<style scoped>\n",
              "    .dataframe tbody tr th:only-of-type {\n",
              "        vertical-align: middle;\n",
              "    }\n",
              "\n",
              "    .dataframe tbody tr th {\n",
              "        vertical-align: top;\n",
              "    }\n",
              "\n",
              "    .dataframe thead th {\n",
              "        text-align: right;\n",
              "    }\n",
              "</style>\n",
              "<table border=\"1\" class=\"dataframe\">\n",
              "  <thead>\n",
              "    <tr style=\"text-align: right;\">\n",
              "      <th></th>\n",
              "      <th>nAcid</th>\n",
              "      <th>ALogP</th>\n",
              "      <th>ALogp2</th>\n",
              "      <th>AMR</th>\n",
              "      <th>apol</th>\n",
              "      <th>naAromAtom</th>\n",
              "      <th>nAromBond</th>\n",
              "      <th>nAtom</th>\n",
              "      <th>nHeavyAtom</th>\n",
              "      <th>nH</th>\n",
              "      <th>...</th>\n",
              "      <th>PubchemFP872</th>\n",
              "      <th>PubchemFP873</th>\n",
              "      <th>PubchemFP874</th>\n",
              "      <th>PubchemFP875</th>\n",
              "      <th>PubchemFP876</th>\n",
              "      <th>PubchemFP877</th>\n",
              "      <th>PubchemFP878</th>\n",
              "      <th>PubchemFP879</th>\n",
              "      <th>PubchemFP880</th>\n",
              "      <th>pIC50</th>\n",
              "    </tr>\n",
              "  </thead>\n",
              "  <tbody>\n",
              "    <tr>\n",
              "      <th>1</th>\n",
              "      <td>0</td>\n",
              "      <td>1.3986</td>\n",
              "      <td>1.956082</td>\n",
              "      <td>36.8320</td>\n",
              "      <td>42.410344</td>\n",
              "      <td>12</td>\n",
              "      <td>12</td>\n",
              "      <td>34</td>\n",
              "      <td>26</td>\n",
              "      <td>8</td>\n",
              "      <td>...</td>\n",
              "      <td>0</td>\n",
              "      <td>0</td>\n",
              "      <td>0</td>\n",
              "      <td>0</td>\n",
              "      <td>0</td>\n",
              "      <td>0</td>\n",
              "      <td>0</td>\n",
              "      <td>0</td>\n",
              "      <td>0</td>\n",
              "      <td>5.048662</td>\n",
              "    </tr>\n",
              "    <tr>\n",
              "      <th>4</th>\n",
              "      <td>0</td>\n",
              "      <td>-1.4759</td>\n",
              "      <td>2.178281</td>\n",
              "      <td>59.1836</td>\n",
              "      <td>60.832204</td>\n",
              "      <td>11</td>\n",
              "      <td>11</td>\n",
              "      <td>54</td>\n",
              "      <td>26</td>\n",
              "      <td>28</td>\n",
              "      <td>...</td>\n",
              "      <td>0</td>\n",
              "      <td>0</td>\n",
              "      <td>0</td>\n",
              "      <td>0</td>\n",
              "      <td>0</td>\n",
              "      <td>0</td>\n",
              "      <td>0</td>\n",
              "      <td>0</td>\n",
              "      <td>0</td>\n",
              "      <td>4.928118</td>\n",
              "    </tr>\n",
              "    <tr>\n",
              "      <th>6</th>\n",
              "      <td>0</td>\n",
              "      <td>-1.2775</td>\n",
              "      <td>1.632006</td>\n",
              "      <td>14.9141</td>\n",
              "      <td>33.345137</td>\n",
              "      <td>12</td>\n",
              "      <td>13</td>\n",
              "      <td>26</td>\n",
              "      <td>17</td>\n",
              "      <td>9</td>\n",
              "      <td>...</td>\n",
              "      <td>0</td>\n",
              "      <td>0</td>\n",
              "      <td>0</td>\n",
              "      <td>0</td>\n",
              "      <td>0</td>\n",
              "      <td>0</td>\n",
              "      <td>0</td>\n",
              "      <td>0</td>\n",
              "      <td>0</td>\n",
              "      <td>5.806875</td>\n",
              "    </tr>\n",
              "    <tr>\n",
              "      <th>7</th>\n",
              "      <td>0</td>\n",
              "      <td>1.6560</td>\n",
              "      <td>2.742336</td>\n",
              "      <td>80.4116</td>\n",
              "      <td>65.128653</td>\n",
              "      <td>12</td>\n",
              "      <td>17</td>\n",
              "      <td>51</td>\n",
              "      <td>30</td>\n",
              "      <td>21</td>\n",
              "      <td>...</td>\n",
              "      <td>0</td>\n",
              "      <td>0</td>\n",
              "      <td>0</td>\n",
              "      <td>0</td>\n",
              "      <td>0</td>\n",
              "      <td>0</td>\n",
              "      <td>0</td>\n",
              "      <td>0</td>\n",
              "      <td>0</td>\n",
              "      <td>4.709965</td>\n",
              "    </tr>\n",
              "    <tr>\n",
              "      <th>8</th>\n",
              "      <td>0</td>\n",
              "      <td>-0.4942</td>\n",
              "      <td>0.244234</td>\n",
              "      <td>41.5289</td>\n",
              "      <td>58.759860</td>\n",
              "      <td>17</td>\n",
              "      <td>17</td>\n",
              "      <td>47</td>\n",
              "      <td>27</td>\n",
              "      <td>20</td>\n",
              "      <td>...</td>\n",
              "      <td>0</td>\n",
              "      <td>0</td>\n",
              "      <td>0</td>\n",
              "      <td>0</td>\n",
              "      <td>0</td>\n",
              "      <td>0</td>\n",
              "      <td>0</td>\n",
              "      <td>0</td>\n",
              "      <td>0</td>\n",
              "      <td>4.818156</td>\n",
              "    </tr>\n",
              "    <tr>\n",
              "      <th>...</th>\n",
              "      <td>...</td>\n",
              "      <td>...</td>\n",
              "      <td>...</td>\n",
              "      <td>...</td>\n",
              "      <td>...</td>\n",
              "      <td>...</td>\n",
              "      <td>...</td>\n",
              "      <td>...</td>\n",
              "      <td>...</td>\n",
              "      <td>...</td>\n",
              "      <td>...</td>\n",
              "      <td>...</td>\n",
              "      <td>...</td>\n",
              "      <td>...</td>\n",
              "      <td>...</td>\n",
              "      <td>...</td>\n",
              "      <td>...</td>\n",
              "      <td>...</td>\n",
              "      <td>...</td>\n",
              "      <td>...</td>\n",
              "      <td>...</td>\n",
              "    </tr>\n",
              "    <tr>\n",
              "      <th>367</th>\n",
              "      <td>0</td>\n",
              "      <td>-0.1764</td>\n",
              "      <td>0.031117</td>\n",
              "      <td>57.0806</td>\n",
              "      <td>66.392653</td>\n",
              "      <td>16</td>\n",
              "      <td>17</td>\n",
              "      <td>54</td>\n",
              "      <td>33</td>\n",
              "      <td>21</td>\n",
              "      <td>...</td>\n",
              "      <td>0</td>\n",
              "      <td>0</td>\n",
              "      <td>0</td>\n",
              "      <td>0</td>\n",
              "      <td>0</td>\n",
              "      <td>0</td>\n",
              "      <td>0</td>\n",
              "      <td>0</td>\n",
              "      <td>0</td>\n",
              "      <td>4.096910</td>\n",
              "    </tr>\n",
              "    <tr>\n",
              "      <th>368</th>\n",
              "      <td>0</td>\n",
              "      <td>-0.4191</td>\n",
              "      <td>0.175645</td>\n",
              "      <td>49.0791</td>\n",
              "      <td>58.261239</td>\n",
              "      <td>12</td>\n",
              "      <td>12</td>\n",
              "      <td>51</td>\n",
              "      <td>28</td>\n",
              "      <td>23</td>\n",
              "      <td>...</td>\n",
              "      <td>0</td>\n",
              "      <td>0</td>\n",
              "      <td>0</td>\n",
              "      <td>0</td>\n",
              "      <td>0</td>\n",
              "      <td>0</td>\n",
              "      <td>0</td>\n",
              "      <td>0</td>\n",
              "      <td>0</td>\n",
              "      <td>4.258848</td>\n",
              "    </tr>\n",
              "    <tr>\n",
              "      <th>369</th>\n",
              "      <td>0</td>\n",
              "      <td>-1.9079</td>\n",
              "      <td>3.640082</td>\n",
              "      <td>44.5948</td>\n",
              "      <td>55.167653</td>\n",
              "      <td>12</td>\n",
              "      <td>12</td>\n",
              "      <td>48</td>\n",
              "      <td>27</td>\n",
              "      <td>21</td>\n",
              "      <td>...</td>\n",
              "      <td>0</td>\n",
              "      <td>0</td>\n",
              "      <td>0</td>\n",
              "      <td>0</td>\n",
              "      <td>0</td>\n",
              "      <td>0</td>\n",
              "      <td>0</td>\n",
              "      <td>0</td>\n",
              "      <td>0</td>\n",
              "      <td>4.464706</td>\n",
              "    </tr>\n",
              "    <tr>\n",
              "      <th>371</th>\n",
              "      <td>0</td>\n",
              "      <td>-2.0054</td>\n",
              "      <td>4.021629</td>\n",
              "      <td>37.0838</td>\n",
              "      <td>69.884688</td>\n",
              "      <td>26</td>\n",
              "      <td>35</td>\n",
              "      <td>54</td>\n",
              "      <td>38</td>\n",
              "      <td>16</td>\n",
              "      <td>...</td>\n",
              "      <td>0</td>\n",
              "      <td>0</td>\n",
              "      <td>0</td>\n",
              "      <td>0</td>\n",
              "      <td>0</td>\n",
              "      <td>0</td>\n",
              "      <td>0</td>\n",
              "      <td>0</td>\n",
              "      <td>0</td>\n",
              "      <td>4.244125</td>\n",
              "    </tr>\n",
              "    <tr>\n",
              "      <th>372</th>\n",
              "      <td>0</td>\n",
              "      <td>-0.8215</td>\n",
              "      <td>0.674862</td>\n",
              "      <td>39.4075</td>\n",
              "      <td>55.348653</td>\n",
              "      <td>17</td>\n",
              "      <td>17</td>\n",
              "      <td>48</td>\n",
              "      <td>27</td>\n",
              "      <td>21</td>\n",
              "      <td>...</td>\n",
              "      <td>0</td>\n",
              "      <td>0</td>\n",
              "      <td>0</td>\n",
              "      <td>0</td>\n",
              "      <td>0</td>\n",
              "      <td>0</td>\n",
              "      <td>0</td>\n",
              "      <td>0</td>\n",
              "      <td>0</td>\n",
              "      <td>4.701147</td>\n",
              "    </tr>\n",
              "  </tbody>\n",
              "</table>\n",
              "<p>243 rows × 2757 columns</p>\n",
              "</div>\n",
              "      <button class=\"colab-df-convert\" onclick=\"convertToInteractive('df-118252cf-0f3a-4ccf-b4f2-11856d185de6')\"\n",
              "              title=\"Convert this dataframe to an interactive table.\"\n",
              "              style=\"display:none;\">\n",
              "        \n",
              "  <svg xmlns=\"http://www.w3.org/2000/svg\" height=\"24px\"viewBox=\"0 0 24 24\"\n",
              "       width=\"24px\">\n",
              "    <path d=\"M0 0h24v24H0V0z\" fill=\"none\"/>\n",
              "    <path d=\"M18.56 5.44l.94 2.06.94-2.06 2.06-.94-2.06-.94-.94-2.06-.94 2.06-2.06.94zm-11 1L8.5 8.5l.94-2.06 2.06-.94-2.06-.94L8.5 2.5l-.94 2.06-2.06.94zm10 10l.94 2.06.94-2.06 2.06-.94-2.06-.94-.94-2.06-.94 2.06-2.06.94z\"/><path d=\"M17.41 7.96l-1.37-1.37c-.4-.4-.92-.59-1.43-.59-.52 0-1.04.2-1.43.59L10.3 9.45l-7.72 7.72c-.78.78-.78 2.05 0 2.83L4 21.41c.39.39.9.59 1.41.59.51 0 1.02-.2 1.41-.59l7.78-7.78 2.81-2.81c.8-.78.8-2.07 0-2.86zM5.41 20L4 18.59l7.72-7.72 1.47 1.35L5.41 20z\"/>\n",
              "  </svg>\n",
              "      </button>\n",
              "      \n",
              "  <style>\n",
              "    .colab-df-container {\n",
              "      display:flex;\n",
              "      flex-wrap:wrap;\n",
              "      gap: 12px;\n",
              "    }\n",
              "\n",
              "    .colab-df-convert {\n",
              "      background-color: #E8F0FE;\n",
              "      border: none;\n",
              "      border-radius: 50%;\n",
              "      cursor: pointer;\n",
              "      display: none;\n",
              "      fill: #1967D2;\n",
              "      height: 32px;\n",
              "      padding: 0 0 0 0;\n",
              "      width: 32px;\n",
              "    }\n",
              "\n",
              "    .colab-df-convert:hover {\n",
              "      background-color: #E2EBFA;\n",
              "      box-shadow: 0px 1px 2px rgba(60, 64, 67, 0.3), 0px 1px 3px 1px rgba(60, 64, 67, 0.15);\n",
              "      fill: #174EA6;\n",
              "    }\n",
              "\n",
              "    [theme=dark] .colab-df-convert {\n",
              "      background-color: #3B4455;\n",
              "      fill: #D2E3FC;\n",
              "    }\n",
              "\n",
              "    [theme=dark] .colab-df-convert:hover {\n",
              "      background-color: #434B5C;\n",
              "      box-shadow: 0px 1px 3px 1px rgba(0, 0, 0, 0.15);\n",
              "      filter: drop-shadow(0px 1px 2px rgba(0, 0, 0, 0.3));\n",
              "      fill: #FFFFFF;\n",
              "    }\n",
              "  </style>\n",
              "\n",
              "      <script>\n",
              "        const buttonEl =\n",
              "          document.querySelector('#df-118252cf-0f3a-4ccf-b4f2-11856d185de6 button.colab-df-convert');\n",
              "        buttonEl.style.display =\n",
              "          google.colab.kernel.accessAllowed ? 'block' : 'none';\n",
              "\n",
              "        async function convertToInteractive(key) {\n",
              "          const element = document.querySelector('#df-118252cf-0f3a-4ccf-b4f2-11856d185de6');\n",
              "          const dataTable =\n",
              "            await google.colab.kernel.invokeFunction('convertToInteractive',\n",
              "                                                     [key], {});\n",
              "          if (!dataTable) return;\n",
              "\n",
              "          const docLinkHtml = 'Like what you see? Visit the ' +\n",
              "            '<a target=\"_blank\" href=https://colab.research.google.com/notebooks/data_table.ipynb>data table notebook</a>'\n",
              "            + ' to learn more about interactive tables.';\n",
              "          element.innerHTML = '';\n",
              "          dataTable['output_type'] = 'display_data';\n",
              "          await google.colab.output.renderOutput(dataTable, element);\n",
              "          const docLink = document.createElement('div');\n",
              "          docLink.innerHTML = docLinkHtml;\n",
              "          element.appendChild(docLink);\n",
              "        }\n",
              "      </script>\n",
              "    </div>\n",
              "  </div>\n",
              "  "
            ]
          },
          "metadata": {},
          "execution_count": 15
        }
      ]
    },
    {
      "cell_type": "code",
      "source": [
        "# Load Train set\n",
        "df_train = df6.iloc[ :300, :]\n",
        "\n",
        "# Load Test set\n",
        "df_test = df6.iloc[ 300: , :]"
      ],
      "metadata": {
        "id": "CJARP8Cqniu9"
      },
      "execution_count": null,
      "outputs": []
    },
    {
      "cell_type": "code",
      "source": [
        "df_train"
      ],
      "metadata": {
        "colab": {
          "base_uri": "https://localhost:8080/",
          "height": 487
        },
        "id": "oFtYGgI5onAq",
        "outputId": "961fce09-278f-41cd-94d6-0540e417b90c"
      },
      "execution_count": null,
      "outputs": [
        {
          "output_type": "execute_result",
          "data": {
            "text/plain": [
              "     nAcid   ALogP    ALogp2      AMR       apol  naAromAtom  nAromBond  \\\n",
              "1        0  1.3986  1.956082  36.8320  42.410344          12         12   \n",
              "4        0 -1.4759  2.178281  59.1836  60.832204          11         11   \n",
              "6        0 -1.2775  1.632006  14.9141  33.345137          12         13   \n",
              "7        0  1.6560  2.742336  80.4116  65.128653          12         17   \n",
              "8        0 -0.4942  0.244234  41.5289  58.759860          17         17   \n",
              "..     ...     ...       ...      ...        ...         ...        ...   \n",
              "367      0 -0.1764  0.031117  57.0806  66.392653          16         17   \n",
              "368      0 -0.4191  0.175645  49.0791  58.261239          12         12   \n",
              "369      0 -1.9079  3.640082  44.5948  55.167653          12         12   \n",
              "371      0 -2.0054  4.021629  37.0838  69.884688          26         35   \n",
              "372      0 -0.8215  0.674862  39.4075  55.348653          17         17   \n",
              "\n",
              "     nAtom  nHeavyAtom  nH  ...  PubchemFP872  PubchemFP873  PubchemFP874  \\\n",
              "1       34          26   8  ...             0             0             0   \n",
              "4       54          26  28  ...             0             0             0   \n",
              "6       26          17   9  ...             0             0             0   \n",
              "7       51          30  21  ...             0             0             0   \n",
              "8       47          27  20  ...             0             0             0   \n",
              "..     ...         ...  ..  ...           ...           ...           ...   \n",
              "367     54          33  21  ...             0             0             0   \n",
              "368     51          28  23  ...             0             0             0   \n",
              "369     48          27  21  ...             0             0             0   \n",
              "371     54          38  16  ...             0             0             0   \n",
              "372     48          27  21  ...             0             0             0   \n",
              "\n",
              "     PubchemFP875  PubchemFP876  PubchemFP877  PubchemFP878  PubchemFP879  \\\n",
              "1               0             0             0             0             0   \n",
              "4               0             0             0             0             0   \n",
              "6               0             0             0             0             0   \n",
              "7               0             0             0             0             0   \n",
              "8               0             0             0             0             0   \n",
              "..            ...           ...           ...           ...           ...   \n",
              "367             0             0             0             0             0   \n",
              "368             0             0             0             0             0   \n",
              "369             0             0             0             0             0   \n",
              "371             0             0             0             0             0   \n",
              "372             0             0             0             0             0   \n",
              "\n",
              "     PubchemFP880     pIC50  \n",
              "1               0  5.048662  \n",
              "4               0  4.928118  \n",
              "6               0  5.806875  \n",
              "7               0  4.709965  \n",
              "8               0  4.818156  \n",
              "..            ...       ...  \n",
              "367             0  4.096910  \n",
              "368             0  4.258848  \n",
              "369             0  4.464706  \n",
              "371             0  4.244125  \n",
              "372             0  4.701147  \n",
              "\n",
              "[243 rows x 2757 columns]"
            ],
            "text/html": [
              "\n",
              "  <div id=\"df-d58c860d-9e37-49d8-9218-bc028367ed31\">\n",
              "    <div class=\"colab-df-container\">\n",
              "      <div>\n",
              "<style scoped>\n",
              "    .dataframe tbody tr th:only-of-type {\n",
              "        vertical-align: middle;\n",
              "    }\n",
              "\n",
              "    .dataframe tbody tr th {\n",
              "        vertical-align: top;\n",
              "    }\n",
              "\n",
              "    .dataframe thead th {\n",
              "        text-align: right;\n",
              "    }\n",
              "</style>\n",
              "<table border=\"1\" class=\"dataframe\">\n",
              "  <thead>\n",
              "    <tr style=\"text-align: right;\">\n",
              "      <th></th>\n",
              "      <th>nAcid</th>\n",
              "      <th>ALogP</th>\n",
              "      <th>ALogp2</th>\n",
              "      <th>AMR</th>\n",
              "      <th>apol</th>\n",
              "      <th>naAromAtom</th>\n",
              "      <th>nAromBond</th>\n",
              "      <th>nAtom</th>\n",
              "      <th>nHeavyAtom</th>\n",
              "      <th>nH</th>\n",
              "      <th>...</th>\n",
              "      <th>PubchemFP872</th>\n",
              "      <th>PubchemFP873</th>\n",
              "      <th>PubchemFP874</th>\n",
              "      <th>PubchemFP875</th>\n",
              "      <th>PubchemFP876</th>\n",
              "      <th>PubchemFP877</th>\n",
              "      <th>PubchemFP878</th>\n",
              "      <th>PubchemFP879</th>\n",
              "      <th>PubchemFP880</th>\n",
              "      <th>pIC50</th>\n",
              "    </tr>\n",
              "  </thead>\n",
              "  <tbody>\n",
              "    <tr>\n",
              "      <th>1</th>\n",
              "      <td>0</td>\n",
              "      <td>1.3986</td>\n",
              "      <td>1.956082</td>\n",
              "      <td>36.8320</td>\n",
              "      <td>42.410344</td>\n",
              "      <td>12</td>\n",
              "      <td>12</td>\n",
              "      <td>34</td>\n",
              "      <td>26</td>\n",
              "      <td>8</td>\n",
              "      <td>...</td>\n",
              "      <td>0</td>\n",
              "      <td>0</td>\n",
              "      <td>0</td>\n",
              "      <td>0</td>\n",
              "      <td>0</td>\n",
              "      <td>0</td>\n",
              "      <td>0</td>\n",
              "      <td>0</td>\n",
              "      <td>0</td>\n",
              "      <td>5.048662</td>\n",
              "    </tr>\n",
              "    <tr>\n",
              "      <th>4</th>\n",
              "      <td>0</td>\n",
              "      <td>-1.4759</td>\n",
              "      <td>2.178281</td>\n",
              "      <td>59.1836</td>\n",
              "      <td>60.832204</td>\n",
              "      <td>11</td>\n",
              "      <td>11</td>\n",
              "      <td>54</td>\n",
              "      <td>26</td>\n",
              "      <td>28</td>\n",
              "      <td>...</td>\n",
              "      <td>0</td>\n",
              "      <td>0</td>\n",
              "      <td>0</td>\n",
              "      <td>0</td>\n",
              "      <td>0</td>\n",
              "      <td>0</td>\n",
              "      <td>0</td>\n",
              "      <td>0</td>\n",
              "      <td>0</td>\n",
              "      <td>4.928118</td>\n",
              "    </tr>\n",
              "    <tr>\n",
              "      <th>6</th>\n",
              "      <td>0</td>\n",
              "      <td>-1.2775</td>\n",
              "      <td>1.632006</td>\n",
              "      <td>14.9141</td>\n",
              "      <td>33.345137</td>\n",
              "      <td>12</td>\n",
              "      <td>13</td>\n",
              "      <td>26</td>\n",
              "      <td>17</td>\n",
              "      <td>9</td>\n",
              "      <td>...</td>\n",
              "      <td>0</td>\n",
              "      <td>0</td>\n",
              "      <td>0</td>\n",
              "      <td>0</td>\n",
              "      <td>0</td>\n",
              "      <td>0</td>\n",
              "      <td>0</td>\n",
              "      <td>0</td>\n",
              "      <td>0</td>\n",
              "      <td>5.806875</td>\n",
              "    </tr>\n",
              "    <tr>\n",
              "      <th>7</th>\n",
              "      <td>0</td>\n",
              "      <td>1.6560</td>\n",
              "      <td>2.742336</td>\n",
              "      <td>80.4116</td>\n",
              "      <td>65.128653</td>\n",
              "      <td>12</td>\n",
              "      <td>17</td>\n",
              "      <td>51</td>\n",
              "      <td>30</td>\n",
              "      <td>21</td>\n",
              "      <td>...</td>\n",
              "      <td>0</td>\n",
              "      <td>0</td>\n",
              "      <td>0</td>\n",
              "      <td>0</td>\n",
              "      <td>0</td>\n",
              "      <td>0</td>\n",
              "      <td>0</td>\n",
              "      <td>0</td>\n",
              "      <td>0</td>\n",
              "      <td>4.709965</td>\n",
              "    </tr>\n",
              "    <tr>\n",
              "      <th>8</th>\n",
              "      <td>0</td>\n",
              "      <td>-0.4942</td>\n",
              "      <td>0.244234</td>\n",
              "      <td>41.5289</td>\n",
              "      <td>58.759860</td>\n",
              "      <td>17</td>\n",
              "      <td>17</td>\n",
              "      <td>47</td>\n",
              "      <td>27</td>\n",
              "      <td>20</td>\n",
              "      <td>...</td>\n",
              "      <td>0</td>\n",
              "      <td>0</td>\n",
              "      <td>0</td>\n",
              "      <td>0</td>\n",
              "      <td>0</td>\n",
              "      <td>0</td>\n",
              "      <td>0</td>\n",
              "      <td>0</td>\n",
              "      <td>0</td>\n",
              "      <td>4.818156</td>\n",
              "    </tr>\n",
              "    <tr>\n",
              "      <th>...</th>\n",
              "      <td>...</td>\n",
              "      <td>...</td>\n",
              "      <td>...</td>\n",
              "      <td>...</td>\n",
              "      <td>...</td>\n",
              "      <td>...</td>\n",
              "      <td>...</td>\n",
              "      <td>...</td>\n",
              "      <td>...</td>\n",
              "      <td>...</td>\n",
              "      <td>...</td>\n",
              "      <td>...</td>\n",
              "      <td>...</td>\n",
              "      <td>...</td>\n",
              "      <td>...</td>\n",
              "      <td>...</td>\n",
              "      <td>...</td>\n",
              "      <td>...</td>\n",
              "      <td>...</td>\n",
              "      <td>...</td>\n",
              "      <td>...</td>\n",
              "    </tr>\n",
              "    <tr>\n",
              "      <th>367</th>\n",
              "      <td>0</td>\n",
              "      <td>-0.1764</td>\n",
              "      <td>0.031117</td>\n",
              "      <td>57.0806</td>\n",
              "      <td>66.392653</td>\n",
              "      <td>16</td>\n",
              "      <td>17</td>\n",
              "      <td>54</td>\n",
              "      <td>33</td>\n",
              "      <td>21</td>\n",
              "      <td>...</td>\n",
              "      <td>0</td>\n",
              "      <td>0</td>\n",
              "      <td>0</td>\n",
              "      <td>0</td>\n",
              "      <td>0</td>\n",
              "      <td>0</td>\n",
              "      <td>0</td>\n",
              "      <td>0</td>\n",
              "      <td>0</td>\n",
              "      <td>4.096910</td>\n",
              "    </tr>\n",
              "    <tr>\n",
              "      <th>368</th>\n",
              "      <td>0</td>\n",
              "      <td>-0.4191</td>\n",
              "      <td>0.175645</td>\n",
              "      <td>49.0791</td>\n",
              "      <td>58.261239</td>\n",
              "      <td>12</td>\n",
              "      <td>12</td>\n",
              "      <td>51</td>\n",
              "      <td>28</td>\n",
              "      <td>23</td>\n",
              "      <td>...</td>\n",
              "      <td>0</td>\n",
              "      <td>0</td>\n",
              "      <td>0</td>\n",
              "      <td>0</td>\n",
              "      <td>0</td>\n",
              "      <td>0</td>\n",
              "      <td>0</td>\n",
              "      <td>0</td>\n",
              "      <td>0</td>\n",
              "      <td>4.258848</td>\n",
              "    </tr>\n",
              "    <tr>\n",
              "      <th>369</th>\n",
              "      <td>0</td>\n",
              "      <td>-1.9079</td>\n",
              "      <td>3.640082</td>\n",
              "      <td>44.5948</td>\n",
              "      <td>55.167653</td>\n",
              "      <td>12</td>\n",
              "      <td>12</td>\n",
              "      <td>48</td>\n",
              "      <td>27</td>\n",
              "      <td>21</td>\n",
              "      <td>...</td>\n",
              "      <td>0</td>\n",
              "      <td>0</td>\n",
              "      <td>0</td>\n",
              "      <td>0</td>\n",
              "      <td>0</td>\n",
              "      <td>0</td>\n",
              "      <td>0</td>\n",
              "      <td>0</td>\n",
              "      <td>0</td>\n",
              "      <td>4.464706</td>\n",
              "    </tr>\n",
              "    <tr>\n",
              "      <th>371</th>\n",
              "      <td>0</td>\n",
              "      <td>-2.0054</td>\n",
              "      <td>4.021629</td>\n",
              "      <td>37.0838</td>\n",
              "      <td>69.884688</td>\n",
              "      <td>26</td>\n",
              "      <td>35</td>\n",
              "      <td>54</td>\n",
              "      <td>38</td>\n",
              "      <td>16</td>\n",
              "      <td>...</td>\n",
              "      <td>0</td>\n",
              "      <td>0</td>\n",
              "      <td>0</td>\n",
              "      <td>0</td>\n",
              "      <td>0</td>\n",
              "      <td>0</td>\n",
              "      <td>0</td>\n",
              "      <td>0</td>\n",
              "      <td>0</td>\n",
              "      <td>4.244125</td>\n",
              "    </tr>\n",
              "    <tr>\n",
              "      <th>372</th>\n",
              "      <td>0</td>\n",
              "      <td>-0.8215</td>\n",
              "      <td>0.674862</td>\n",
              "      <td>39.4075</td>\n",
              "      <td>55.348653</td>\n",
              "      <td>17</td>\n",
              "      <td>17</td>\n",
              "      <td>48</td>\n",
              "      <td>27</td>\n",
              "      <td>21</td>\n",
              "      <td>...</td>\n",
              "      <td>0</td>\n",
              "      <td>0</td>\n",
              "      <td>0</td>\n",
              "      <td>0</td>\n",
              "      <td>0</td>\n",
              "      <td>0</td>\n",
              "      <td>0</td>\n",
              "      <td>0</td>\n",
              "      <td>0</td>\n",
              "      <td>4.701147</td>\n",
              "    </tr>\n",
              "  </tbody>\n",
              "</table>\n",
              "<p>243 rows × 2757 columns</p>\n",
              "</div>\n",
              "      <button class=\"colab-df-convert\" onclick=\"convertToInteractive('df-d58c860d-9e37-49d8-9218-bc028367ed31')\"\n",
              "              title=\"Convert this dataframe to an interactive table.\"\n",
              "              style=\"display:none;\">\n",
              "        \n",
              "  <svg xmlns=\"http://www.w3.org/2000/svg\" height=\"24px\"viewBox=\"0 0 24 24\"\n",
              "       width=\"24px\">\n",
              "    <path d=\"M0 0h24v24H0V0z\" fill=\"none\"/>\n",
              "    <path d=\"M18.56 5.44l.94 2.06.94-2.06 2.06-.94-2.06-.94-.94-2.06-.94 2.06-2.06.94zm-11 1L8.5 8.5l.94-2.06 2.06-.94-2.06-.94L8.5 2.5l-.94 2.06-2.06.94zm10 10l.94 2.06.94-2.06 2.06-.94-2.06-.94-.94-2.06-.94 2.06-2.06.94z\"/><path d=\"M17.41 7.96l-1.37-1.37c-.4-.4-.92-.59-1.43-.59-.52 0-1.04.2-1.43.59L10.3 9.45l-7.72 7.72c-.78.78-.78 2.05 0 2.83L4 21.41c.39.39.9.59 1.41.59.51 0 1.02-.2 1.41-.59l7.78-7.78 2.81-2.81c.8-.78.8-2.07 0-2.86zM5.41 20L4 18.59l7.72-7.72 1.47 1.35L5.41 20z\"/>\n",
              "  </svg>\n",
              "      </button>\n",
              "      \n",
              "  <style>\n",
              "    .colab-df-container {\n",
              "      display:flex;\n",
              "      flex-wrap:wrap;\n",
              "      gap: 12px;\n",
              "    }\n",
              "\n",
              "    .colab-df-convert {\n",
              "      background-color: #E8F0FE;\n",
              "      border: none;\n",
              "      border-radius: 50%;\n",
              "      cursor: pointer;\n",
              "      display: none;\n",
              "      fill: #1967D2;\n",
              "      height: 32px;\n",
              "      padding: 0 0 0 0;\n",
              "      width: 32px;\n",
              "    }\n",
              "\n",
              "    .colab-df-convert:hover {\n",
              "      background-color: #E2EBFA;\n",
              "      box-shadow: 0px 1px 2px rgba(60, 64, 67, 0.3), 0px 1px 3px 1px rgba(60, 64, 67, 0.15);\n",
              "      fill: #174EA6;\n",
              "    }\n",
              "\n",
              "    [theme=dark] .colab-df-convert {\n",
              "      background-color: #3B4455;\n",
              "      fill: #D2E3FC;\n",
              "    }\n",
              "\n",
              "    [theme=dark] .colab-df-convert:hover {\n",
              "      background-color: #434B5C;\n",
              "      box-shadow: 0px 1px 3px 1px rgba(0, 0, 0, 0.15);\n",
              "      filter: drop-shadow(0px 1px 2px rgba(0, 0, 0, 0.3));\n",
              "      fill: #FFFFFF;\n",
              "    }\n",
              "  </style>\n",
              "\n",
              "      <script>\n",
              "        const buttonEl =\n",
              "          document.querySelector('#df-d58c860d-9e37-49d8-9218-bc028367ed31 button.colab-df-convert');\n",
              "        buttonEl.style.display =\n",
              "          google.colab.kernel.accessAllowed ? 'block' : 'none';\n",
              "\n",
              "        async function convertToInteractive(key) {\n",
              "          const element = document.querySelector('#df-d58c860d-9e37-49d8-9218-bc028367ed31');\n",
              "          const dataTable =\n",
              "            await google.colab.kernel.invokeFunction('convertToInteractive',\n",
              "                                                     [key], {});\n",
              "          if (!dataTable) return;\n",
              "\n",
              "          const docLinkHtml = 'Like what you see? Visit the ' +\n",
              "            '<a target=\"_blank\" href=https://colab.research.google.com/notebooks/data_table.ipynb>data table notebook</a>'\n",
              "            + ' to learn more about interactive tables.';\n",
              "          element.innerHTML = '';\n",
              "          dataTable['output_type'] = 'display_data';\n",
              "          await google.colab.output.renderOutput(dataTable, element);\n",
              "          const docLink = document.createElement('div');\n",
              "          docLink.innerHTML = docLinkHtml;\n",
              "          element.appendChild(docLink);\n",
              "        }\n",
              "      </script>\n",
              "    </div>\n",
              "  </div>\n",
              "  "
            ]
          },
          "metadata": {},
          "execution_count": 17
        }
      ]
    },
    {
      "cell_type": "code",
      "source": [
        "df_test"
      ],
      "metadata": {
        "id": "X7D26tYfopK9",
        "colab": {
          "base_uri": "https://localhost:8080/",
          "height": 142
        },
        "outputId": "93dfce55-8b6c-4081-c939-1ee86f85aead"
      },
      "execution_count": null,
      "outputs": [
        {
          "output_type": "execute_result",
          "data": {
            "text/plain": [
              "Empty DataFrame\n",
              "Columns: [nAcid, ALogP, ALogp2, AMR, apol, naAromAtom, nAromBond, nAtom, nHeavyAtom, nH, nB, nC, nN, nO, nS, nP, nF, nCl, nBr, nI, nX, ATS0m, ATS1m, ATS2m, ATS3m, ATS4m, ATS5m, ATS6m, ATS7m, ATS8m, ATS0v, ATS1v, ATS2v, ATS3v, ATS4v, ATS5v, ATS6v, ATS7v, ATS8v, ATS0e, ATS1e, ATS2e, ATS3e, ATS4e, ATS5e, ATS6e, ATS7e, ATS8e, ATS0p, ATS1p, ATS2p, ATS3p, ATS4p, ATS5p, ATS6p, ATS7p, ATS8p, ATS0i, ATS1i, ATS2i, ATS3i, ATS4i, ATS5i, ATS6i, ATS7i, ATS8i, ATS0s, ATS1s, ATS2s, ATS3s, ATS4s, ATS5s, ATS6s, ATS7s, ATS8s, AATS0m, AATS1m, AATS2m, AATS3m, AATS4m, AATS5m, AATS6m, AATS7m, AATS8m, AATS0v, AATS1v, AATS2v, AATS3v, AATS4v, AATS5v, AATS6v, AATS7v, AATS8v, AATS0e, AATS1e, AATS2e, AATS3e, AATS4e, AATS5e, AATS6e, ...]\n",
              "Index: []\n",
              "\n",
              "[0 rows x 2757 columns]"
            ],
            "text/html": [
              "\n",
              "  <div id=\"df-c7abbdaa-baf3-4d18-84a9-37f675d76355\">\n",
              "    <div class=\"colab-df-container\">\n",
              "      <div>\n",
              "<style scoped>\n",
              "    .dataframe tbody tr th:only-of-type {\n",
              "        vertical-align: middle;\n",
              "    }\n",
              "\n",
              "    .dataframe tbody tr th {\n",
              "        vertical-align: top;\n",
              "    }\n",
              "\n",
              "    .dataframe thead th {\n",
              "        text-align: right;\n",
              "    }\n",
              "</style>\n",
              "<table border=\"1\" class=\"dataframe\">\n",
              "  <thead>\n",
              "    <tr style=\"text-align: right;\">\n",
              "      <th></th>\n",
              "      <th>nAcid</th>\n",
              "      <th>ALogP</th>\n",
              "      <th>ALogp2</th>\n",
              "      <th>AMR</th>\n",
              "      <th>apol</th>\n",
              "      <th>naAromAtom</th>\n",
              "      <th>nAromBond</th>\n",
              "      <th>nAtom</th>\n",
              "      <th>nHeavyAtom</th>\n",
              "      <th>nH</th>\n",
              "      <th>...</th>\n",
              "      <th>PubchemFP872</th>\n",
              "      <th>PubchemFP873</th>\n",
              "      <th>PubchemFP874</th>\n",
              "      <th>PubchemFP875</th>\n",
              "      <th>PubchemFP876</th>\n",
              "      <th>PubchemFP877</th>\n",
              "      <th>PubchemFP878</th>\n",
              "      <th>PubchemFP879</th>\n",
              "      <th>PubchemFP880</th>\n",
              "      <th>pIC50</th>\n",
              "    </tr>\n",
              "  </thead>\n",
              "  <tbody>\n",
              "  </tbody>\n",
              "</table>\n",
              "<p>0 rows × 2757 columns</p>\n",
              "</div>\n",
              "      <button class=\"colab-df-convert\" onclick=\"convertToInteractive('df-c7abbdaa-baf3-4d18-84a9-37f675d76355')\"\n",
              "              title=\"Convert this dataframe to an interactive table.\"\n",
              "              style=\"display:none;\">\n",
              "        \n",
              "  <svg xmlns=\"http://www.w3.org/2000/svg\" height=\"24px\"viewBox=\"0 0 24 24\"\n",
              "       width=\"24px\">\n",
              "    <path d=\"M0 0h24v24H0V0z\" fill=\"none\"/>\n",
              "    <path d=\"M18.56 5.44l.94 2.06.94-2.06 2.06-.94-2.06-.94-.94-2.06-.94 2.06-2.06.94zm-11 1L8.5 8.5l.94-2.06 2.06-.94-2.06-.94L8.5 2.5l-.94 2.06-2.06.94zm10 10l.94 2.06.94-2.06 2.06-.94-2.06-.94-.94-2.06-.94 2.06-2.06.94z\"/><path d=\"M17.41 7.96l-1.37-1.37c-.4-.4-.92-.59-1.43-.59-.52 0-1.04.2-1.43.59L10.3 9.45l-7.72 7.72c-.78.78-.78 2.05 0 2.83L4 21.41c.39.39.9.59 1.41.59.51 0 1.02-.2 1.41-.59l7.78-7.78 2.81-2.81c.8-.78.8-2.07 0-2.86zM5.41 20L4 18.59l7.72-7.72 1.47 1.35L5.41 20z\"/>\n",
              "  </svg>\n",
              "      </button>\n",
              "      \n",
              "  <style>\n",
              "    .colab-df-container {\n",
              "      display:flex;\n",
              "      flex-wrap:wrap;\n",
              "      gap: 12px;\n",
              "    }\n",
              "\n",
              "    .colab-df-convert {\n",
              "      background-color: #E8F0FE;\n",
              "      border: none;\n",
              "      border-radius: 50%;\n",
              "      cursor: pointer;\n",
              "      display: none;\n",
              "      fill: #1967D2;\n",
              "      height: 32px;\n",
              "      padding: 0 0 0 0;\n",
              "      width: 32px;\n",
              "    }\n",
              "\n",
              "    .colab-df-convert:hover {\n",
              "      background-color: #E2EBFA;\n",
              "      box-shadow: 0px 1px 2px rgba(60, 64, 67, 0.3), 0px 1px 3px 1px rgba(60, 64, 67, 0.15);\n",
              "      fill: #174EA6;\n",
              "    }\n",
              "\n",
              "    [theme=dark] .colab-df-convert {\n",
              "      background-color: #3B4455;\n",
              "      fill: #D2E3FC;\n",
              "    }\n",
              "\n",
              "    [theme=dark] .colab-df-convert:hover {\n",
              "      background-color: #434B5C;\n",
              "      box-shadow: 0px 1px 3px 1px rgba(0, 0, 0, 0.15);\n",
              "      filter: drop-shadow(0px 1px 2px rgba(0, 0, 0, 0.3));\n",
              "      fill: #FFFFFF;\n",
              "    }\n",
              "  </style>\n",
              "\n",
              "      <script>\n",
              "        const buttonEl =\n",
              "          document.querySelector('#df-c7abbdaa-baf3-4d18-84a9-37f675d76355 button.colab-df-convert');\n",
              "        buttonEl.style.display =\n",
              "          google.colab.kernel.accessAllowed ? 'block' : 'none';\n",
              "\n",
              "        async function convertToInteractive(key) {\n",
              "          const element = document.querySelector('#df-c7abbdaa-baf3-4d18-84a9-37f675d76355');\n",
              "          const dataTable =\n",
              "            await google.colab.kernel.invokeFunction('convertToInteractive',\n",
              "                                                     [key], {});\n",
              "          if (!dataTable) return;\n",
              "\n",
              "          const docLinkHtml = 'Like what you see? Visit the ' +\n",
              "            '<a target=\"_blank\" href=https://colab.research.google.com/notebooks/data_table.ipynb>data table notebook</a>'\n",
              "            + ' to learn more about interactive tables.';\n",
              "          element.innerHTML = '';\n",
              "          dataTable['output_type'] = 'display_data';\n",
              "          await google.colab.output.renderOutput(dataTable, element);\n",
              "          const docLink = document.createElement('div');\n",
              "          docLink.innerHTML = docLinkHtml;\n",
              "          element.appendChild(docLink);\n",
              "        }\n",
              "      </script>\n",
              "    </div>\n",
              "  </div>\n",
              "  "
            ]
          },
          "metadata": {},
          "execution_count": 18
        }
      ]
    },
    {
      "cell_type": "code",
      "source": [
        "# info of each of the variables in our train set\n",
        "df_train.info()"
      ],
      "metadata": {
        "id": "TuH-5ypRov3E",
        "colab": {
          "base_uri": "https://localhost:8080/"
        },
        "outputId": "0baa6541-d505-4f39-abfd-37d7e60918af"
      },
      "execution_count": null,
      "outputs": [
        {
          "output_type": "stream",
          "name": "stdout",
          "text": [
            "<class 'pandas.core.frame.DataFrame'>\n",
            "Int64Index: 243 entries, 1 to 372\n",
            "Columns: 2757 entries, nAcid to pIC50\n",
            "dtypes: float64(1844), int64(913)\n",
            "memory usage: 5.1 MB\n"
          ]
        }
      ]
    },
    {
      "cell_type": "code",
      "source": [
        ""
      ],
      "metadata": {
        "id": "AN1bi5-H_jSc"
      },
      "execution_count": null,
      "outputs": []
    },
    {
      "cell_type": "markdown",
      "source": [
        "# split"
      ],
      "metadata": {
        "id": "oLltzQQZAJkd"
      }
    },
    {
      "cell_type": "code",
      "source": [
        "# Extract the features (X) and the target (y)\n",
        "# Features (X)\n",
        "X = df6[[i for i in list(\n",
        "    df6.columns) if i != \"pIC50\"]]\n",
        "print(X.shape)\n",
        "\n",
        "# Target (y)\n",
        "y = df6.loc[:, \"pIC50\"]\n",
        "print(y.shape)"
      ],
      "metadata": {
        "colab": {
          "base_uri": "https://localhost:8080/"
        },
        "id": "G7IDcDeJAPLU",
        "outputId": "0e9d4042-3da3-45cb-a9b3-b97f7137f713"
      },
      "execution_count": null,
      "outputs": [
        {
          "output_type": "stream",
          "name": "stdout",
          "text": [
            "(243, 2756)\n",
            "(243,)\n"
          ]
        }
      ]
    },
    {
      "cell_type": "code",
      "source": [
        "# Split the data\n",
        "X_train, X_test, y_train, y_test = train_test_split(X, y, test_size=0.2, shuffle=True)\n",
        "print(f\"X_train:{X_train.shape}\\ny_train:{y_train.shape}\")\n",
        "print(f\"\\nX_test:{X_test.shape}\\ny_test:{y_test.shape}\")"
      ],
      "metadata": {
        "colab": {
          "base_uri": "https://localhost:8080/"
        },
        "id": "qY4hpdWmAf_3",
        "outputId": "f2d6f8eb-1d14-44ab-f26c-fe749bda6da0"
      },
      "execution_count": null,
      "outputs": [
        {
          "output_type": "stream",
          "name": "stdout",
          "text": [
            "X_train:(194, 2756)\n",
            "y_train:(194,)\n",
            "\n",
            "X_test:(49, 2756)\n",
            "y_test:(49,)\n"
          ]
        }
      ]
    },
    {
      "cell_type": "markdown",
      "metadata": {
        "papermill": {
          "duration": 0.213117,
          "end_time": "2022-04-19T17:44:36.974897",
          "exception": false,
          "start_time": "2022-04-19T17:44:36.761780",
          "status": "completed"
        },
        "tags": [],
        "id": "3d4a9664"
      },
      "source": [
        "# <font color='darkblue'>IV. Modeling</font>"
      ]
    },
    {
      "cell_type": "markdown",
      "metadata": {
        "papermill": {
          "duration": 0.203926,
          "end_time": "2022-04-19T17:44:37.379732",
          "exception": false,
          "start_time": "2022-04-19T17:44:37.175806",
          "status": "completed"
        },
        "tags": [],
        "id": "e5e6a156"
      },
      "source": [
        "## <font color = 'darkblue'> IV.1. Models and metrics selection<font>"
      ]
    },
    {
      "cell_type": "markdown",
      "metadata": {
        "papermill": {
          "duration": 0.205942,
          "end_time": "2022-04-19T17:44:37.787983",
          "exception": false,
          "start_time": "2022-04-19T17:44:37.582041",
          "status": "completed"
        },
        "tags": [],
        "id": "484f49f9"
      },
      "source": [
        "<font color = 'darkblue'> Here I am going to use RMSE and R² metrics in order to measure the performance of the selected models and their predictions.\n",
        "    \n",
        "<font color = 'darkblue'>Then I will test the models that best meet the estimation of house prices. It's clearly a regression so here are the following models I will use:\n",
        "- Ridge regression\n",
        "- Lasso regression\n",
        "- Elastic Net regression\n",
        "- Support Vector regression (SVR)\n",
        "- Random Forest regression\n",
        "- XGBoost\n",
        "- LigthGBM\n",
        "    <font>"
      ]
    },
    {
      "cell_type": "code",
      "execution_count": null,
      "metadata": {
        "execution": {
          "iopub.execute_input": "2022-04-19T17:44:38.205576Z",
          "iopub.status.busy": "2022-04-19T17:44:38.204963Z",
          "iopub.status.idle": "2022-04-19T17:44:39.372233Z",
          "shell.execute_reply": "2022-04-19T17:44:39.371001Z"
        },
        "papermill": {
          "duration": 1.379377,
          "end_time": "2022-04-19T17:44:39.375653",
          "exception": false,
          "start_time": "2022-04-19T17:44:37.996276",
          "status": "completed"
        },
        "tags": [],
        "id": "4e1edd32"
      },
      "outputs": [],
      "source": [
        "import sklearn\n",
        "from sklearn.metrics import mean_squared_error, r2_score\n",
        "from sklearn.linear_model import Ridge\n",
        "from sklearn.linear_model import Lasso\n",
        "from sklearn.linear_model import ElasticNet\n",
        "from sklearn.svm import SVR\n",
        "from sklearn.ensemble import RandomForestRegressor\n",
        "from xgboost import XGBRegressor\n",
        "from lightgbm import LGBMRegressor"
      ]
    },
    {
      "cell_type": "code",
      "execution_count": null,
      "metadata": {
        "execution": {
          "iopub.execute_input": "2022-04-19T17:44:39.789131Z",
          "iopub.status.busy": "2022-04-19T17:44:39.788163Z",
          "iopub.status.idle": "2022-04-19T17:44:39.796042Z",
          "shell.execute_reply": "2022-04-19T17:44:39.794954Z"
        },
        "papermill": {
          "duration": 0.218226,
          "end_time": "2022-04-19T17:44:39.798206",
          "exception": false,
          "start_time": "2022-04-19T17:44:39.579980",
          "status": "completed"
        },
        "tags": [],
        "id": "50a56a9b"
      },
      "outputs": [],
      "source": [
        "# Let's define a function for each metrics\n",
        "# R²\n",
        "def rsqr_score(test, pred):\n",
        "    \"\"\"Calculate R squared score \n",
        "\n",
        "    Args:\n",
        "        test -- test data\n",
        "        pred -- predicted data\n",
        "\n",
        "    Returns:\n",
        "        R squared score \n",
        "    \"\"\"\n",
        "    r2_ = r2_score(test, pred)\n",
        "    return r2_\n",
        "\n",
        "\n",
        "# RMSE\n",
        "def rmse_score(test, pred):\n",
        "    \"\"\"Calculate Root Mean Square Error score \n",
        "\n",
        "    Args:\n",
        "        test -- test data\n",
        "        pred -- predicted data\n",
        "\n",
        "    Returns:\n",
        "        Root Mean Square Error score\n",
        "    \"\"\"\n",
        "    rmse_ = np.sqrt(mean_squared_error(test, pred))\n",
        "    return rmse_\n",
        "\n",
        "\n",
        "# Print the scores\n",
        "def print_score(test, pred):\n",
        "    \"\"\"Print calculated score \n",
        "\n",
        "    Args:\n",
        "        test -- test data\n",
        "        pred -- predicted data\n",
        "\n",
        "    Returns:\n",
        "        print the regressor name\n",
        "        print the R squared score\n",
        "        print Root Mean Square Error score\n",
        "    \"\"\"\n",
        "\n",
        "    print(f\"- Regressor: {regr.__class__.__name__}\")\n",
        "    print(f\"R²: {rsqr_score(test, pred)}\")\n",
        "    print(f\"RMSE: {rmse_score(test, pred)}\\n\")"
      ]
    },
    {
      "cell_type": "code",
      "execution_count": null,
      "metadata": {
        "execution": {
          "iopub.execute_input": "2022-04-19T17:44:40.207255Z",
          "iopub.status.busy": "2022-04-19T17:44:40.206762Z",
          "iopub.status.idle": "2022-04-19T17:44:41.886527Z",
          "shell.execute_reply": "2022-04-19T17:44:41.885868Z"
        },
        "papermill": {
          "duration": 1.88584,
          "end_time": "2022-04-19T17:44:41.888851",
          "exception": false,
          "start_time": "2022-04-19T17:44:40.003011",
          "status": "completed"
        },
        "tags": [],
        "id": "0d2693d0",
        "outputId": "59335838-ab42-4703-ef53-3d36ffae0743",
        "colab": {
          "base_uri": "https://localhost:8080/"
        }
      },
      "outputs": [
        {
          "output_type": "stream",
          "name": "stdout",
          "text": [
            "- Regressor: Ridge\n",
            "R²: -5.681245605828909\n",
            "RMSE: 1.5356933645592599\n",
            "\n",
            "- Regressor: Lasso\n",
            "R²: -2.0682789614201216\n",
            "RMSE: 1.0406943827261834\n",
            "\n",
            "- Regressor: ElasticNet\n",
            "R²: -2.3075891747860413\n",
            "RMSE: 1.0805169157338654\n",
            "\n",
            "- Regressor: SVR\n",
            "R²: -0.190129118635064\n",
            "RMSE: 0.6481459771904248\n",
            "\n",
            "- Regressor: RandomForestRegressor\n",
            "R²: 0.23406211616720807\n",
            "RMSE: 0.5199631481969414\n",
            "\n",
            "[10:37:28] WARNING: /workspace/src/objective/regression_obj.cu:152: reg:linear is now deprecated in favor of reg:squarederror.\n",
            "- Regressor: XGBRegressor\n",
            "R²: 0.25281604195034635\n",
            "RMSE: 0.5135580709163001\n",
            "\n",
            "- Regressor: LGBMRegressor\n",
            "R²: 0.10974163642814216\n",
            "RMSE: 0.5605751224859958\n",
            "\n"
          ]
        }
      ],
      "source": [
        "# Define regression models\n",
        "ridge = Ridge()\n",
        "lasso = Lasso(alpha=0.001)\n",
        "elastic = ElasticNet(alpha=0.001)\n",
        "svr = SVR()\n",
        "rdf = RandomForestRegressor()\n",
        "xgboost = XGBRegressor()\n",
        "lgbm = LGBMRegressor()\n",
        "\n",
        "# Train models on X_train and y_train\n",
        "for regr in [ridge, lasso, elastic, svr, rdf, xgboost, lgbm]:\n",
        "    # fit the corresponding model\n",
        "    regr.fit(X_train, y_train)\n",
        "    y_pred = regr.predict(X_test)\n",
        "    # Print the defined metrics above for each classifier\n",
        "    print_score(y_test, y_pred)"
      ]
    },
    {
      "cell_type": "markdown",
      "metadata": {
        "papermill": {
          "duration": 0.201176,
          "end_time": "2022-04-19T17:44:42.296580",
          "exception": false,
          "start_time": "2022-04-19T17:44:42.095404",
          "status": "completed"
        },
        "tags": [],
        "id": "fcefdedf"
      },
      "source": [
        "<font color = 'darkblue'>According to the result of R² and Root Mean Squared of these 7 models, we can conclude that the relationship between the features and the target variable is clearly linear. Thus, in the next part I will optimize the hyperparameters of all the models except SVR. <font>\n",
        "    \n",
        "<font color='darkblue'> Indeed, SVR acknowledges the presence of non-linearity in the data and provides a proficient prediction model. The basic idea behind SVR is to find the best fit line which is a hyperplane that has the maximum number of points. It is clear that our model is linear that's why I will not optimize the SVR model<font>\n",
        "\n",
        "[Click here for more information](https://towardsdatascience.com/unlocking-the-true-power-of-support-vector-regression-847fd123a4a0)"
      ]
    },
    {
      "cell_type": "markdown",
      "metadata": {
        "papermill": {
          "duration": 0.204519,
          "end_time": "2022-04-19T17:44:42.705467",
          "exception": false,
          "start_time": "2022-04-19T17:44:42.500948",
          "status": "completed"
        },
        "tags": [],
        "id": "f6d3bf08"
      },
      "source": [
        "## <font color = 'darkblue'> IV.2. Hyperparameters tuning and model optimization<font>"
      ]
    },
    {
      "cell_type": "markdown",
      "metadata": {
        "papermill": {
          "duration": 0.205359,
          "end_time": "2022-04-19T17:44:43.116780",
          "exception": false,
          "start_time": "2022-04-19T17:44:42.911421",
          "status": "completed"
        },
        "tags": [],
        "id": "07557b0b"
      },
      "source": [
        "### <font color='darkblue'> IV.2.1. Ridge regression<font>"
      ]
    },
    {
      "cell_type": "markdown",
      "metadata": {
        "papermill": {
          "duration": 0.203461,
          "end_time": "2022-04-19T17:44:43.524922",
          "exception": false,
          "start_time": "2022-04-19T17:44:43.321461",
          "status": "completed"
        },
        "tags": [],
        "id": "b8391c20"
      },
      "source": [
        "<font color='darkblue'> Ridge will reduce the impact of features that are not important in predicting the target values.\n",
        "    \n",
        "[Click here for more information about Ridge regression](https://medium.com/@vijay.swamy1/lasso-versus-ridge-versus-elastic-net-1d57cfc64b58)<font>\n"
      ]
    },
    {
      "cell_type": "code",
      "execution_count": null,
      "metadata": {
        "execution": {
          "iopub.execute_input": "2022-04-19T17:44:43.943367Z",
          "iopub.status.busy": "2022-04-19T17:44:43.941683Z",
          "iopub.status.idle": "2022-04-19T17:44:47.468858Z",
          "shell.execute_reply": "2022-04-19T17:44:47.467694Z"
        },
        "papermill": {
          "duration": 3.740402,
          "end_time": "2022-04-19T17:44:47.472618",
          "exception": false,
          "start_time": "2022-04-19T17:44:43.732216",
          "status": "completed"
        },
        "tags": [],
        "id": "ccd852d5",
        "outputId": "8a82cd56-67e9-4bc3-dcdd-23aa6d8d7741",
        "colab": {
          "base_uri": "https://localhost:8080/"
        }
      },
      "outputs": [
        {
          "output_type": "stream",
          "name": "stdout",
          "text": [
            "Fitting 10 folds for each of 50 candidates, totalling 500 fits\n",
            "Best hyperparameters: {'alpha': 9540.954763499964}\n",
            "Best R² (train): -22265.34510104013\n"
          ]
        }
      ],
      "source": [
        "from sklearn.model_selection import GridSearchCV\n",
        "\n",
        "# Define hyperparameters\n",
        "alphas = np.logspace(-5, 5, 50).tolist()\n",
        "\n",
        "tuned_parameters = {\"alpha\": alphas}\n",
        "\n",
        "# GridSearch\n",
        "ridge_cv = GridSearchCV(Ridge(), tuned_parameters, cv=10, n_jobs=-1, verbose=1)\n",
        "\n",
        "# fit the GridSearch on train set\n",
        "ridge_cv.fit(X_train, y_train)\n",
        "\n",
        "# print best params and the corresponding R²\n",
        "print(f\"Best hyperparameters: {ridge_cv.best_params_}\")\n",
        "print(f\"Best R² (train): {ridge_cv.best_score_}\")"
      ]
    },
    {
      "cell_type": "code",
      "execution_count": null,
      "metadata": {
        "execution": {
          "iopub.execute_input": "2022-04-19T17:44:47.938598Z",
          "iopub.status.busy": "2022-04-19T17:44:47.938328Z",
          "iopub.status.idle": "2022-04-19T17:44:47.959184Z",
          "shell.execute_reply": "2022-04-19T17:44:47.958155Z"
        },
        "papermill": {
          "duration": 0.230674,
          "end_time": "2022-04-19T17:44:47.962169",
          "exception": false,
          "start_time": "2022-04-19T17:44:47.731495",
          "status": "completed"
        },
        "tags": [],
        "id": "86d5eb33",
        "outputId": "52f89000-38e0-497e-b2ca-a4a4f1fe803a",
        "colab": {
          "base_uri": "https://localhost:8080/"
        }
      },
      "outputs": [
        {
          "output_type": "stream",
          "name": "stdout",
          "text": [
            "- Ridge\n",
            "R²: -0.7445660886373351\n",
            "RMSE: 0.7847286386261334\n"
          ]
        }
      ],
      "source": [
        "# Ridge Regressor with the best hyperparameters\n",
        "ridge_mod = Ridge(alpha=ridge_cv.best_params_[\"alpha\"])\n",
        "\n",
        "# Fit the model on train set\n",
        "ridge_mod.fit(X_train, y_train)\n",
        "\n",
        "# Predict on test set\n",
        "y_pred = ridge_mod.predict(X_test)\n",
        "\n",
        "print(f\"- {ridge_mod.__class__.__name__}\")\n",
        "print(f\"R²: {rsqr_score(y_test, y_pred)}\")\n",
        "print(f\"RMSE: {rmse_score(y_test, y_pred)}\")"
      ]
    },
    {
      "cell_type": "code",
      "execution_count": null,
      "metadata": {
        "execution": {
          "iopub.execute_input": "2022-04-19T17:44:48.426479Z",
          "iopub.status.busy": "2022-04-19T17:44:48.426190Z",
          "iopub.status.idle": "2022-04-19T17:44:48.434964Z",
          "shell.execute_reply": "2022-04-19T17:44:48.434374Z"
        },
        "papermill": {
          "duration": 0.217441,
          "end_time": "2022-04-19T17:44:48.437048",
          "exception": false,
          "start_time": "2022-04-19T17:44:48.219607",
          "status": "completed"
        },
        "tags": [],
        "id": "3cff4b81"
      },
      "outputs": [],
      "source": [
        "# Save the model results into lists\n",
        "model_list = []\n",
        "r2_list = []\n",
        "rmse_list = []\n",
        "\n",
        "model_list.append(ridge_mod.__class__.__name__)\n",
        "r2_list.append(round(rsqr_score(y_test, y_pred), 4))\n",
        "rmse_list.append(round(rmse_score(y_test, y_pred), 4))"
      ]
    },
    {
      "cell_type": "code",
      "source": [
        "y_test"
      ],
      "metadata": {
        "id": "d2d4quA2WlTZ"
      },
      "execution_count": null,
      "outputs": []
    },
    {
      "cell_type": "code",
      "execution_count": null,
      "metadata": {
        "execution": {
          "iopub.execute_input": "2022-04-19T17:44:48.845561Z",
          "iopub.status.busy": "2022-04-19T17:44:48.844905Z",
          "iopub.status.idle": "2022-04-19T17:44:49.136873Z",
          "shell.execute_reply": "2022-04-19T17:44:49.135965Z"
        },
        "papermill": {
          "duration": 0.499475,
          "end_time": "2022-04-19T17:44:49.138970",
          "exception": false,
          "start_time": "2022-04-19T17:44:48.639495",
          "status": "completed"
        },
        "tags": [],
        "id": "9fdfb045",
        "outputId": "e318c8cf-46b2-4152-fd63-590321964f21",
        "colab": {
          "base_uri": "https://localhost:8080/",
          "height": 347
        }
      },
      "outputs": [
        {
          "output_type": "display_data",
          "data": {
            "text/plain": [
              "<Figure size 432x288 with 1 Axes>"
            ],
            "image/png": "[encoded data removed]"
          },
          "metadata": {
            "needs_background": "light"
          }
        }
      ],
      "source": [
        "# Plot Actual vs. Predicted house prices\n",
        "actual_price = np.exp(y_test)\n",
        "predicted_price = np.exp(y_pred)\n",
        "\n",
        "plt.figure()\n",
        "plt.title(\"Actual vs. Predicted house prices\\n (Ridge)\", fontsize=20)\n",
        "plt.scatter(actual_price, predicted_price,\n",
        "            color=\"deepskyblue\", marker=\"o\", facecolors=\"none\")\n",
        "plt.plot([0, 800000], [0, 800000], \"darkorange\", lw=2)\n",
        "plt.xlim(0, 800000)\n",
        "plt.ylim(0, 800000)\n",
        "plt.xlabel(\"\\nActual Price\", fontsize=16)\n",
        "plt.ylabel(\"Predicted Price\\n\", fontsize=16)\n",
        "plt.show()"
      ]
    },
    {
      "cell_type": "markdown",
      "metadata": {
        "papermill": {
          "duration": 0.21039,
          "end_time": "2022-04-19T17:44:49.563427",
          "exception": false,
          "start_time": "2022-04-19T17:44:49.353037",
          "status": "completed"
        },
        "tags": [],
        "id": "1ec015e4"
      },
      "source": [
        "<font color='darkblue'> The model is able to predict house prices. However, it underestimates the prices of houses above 400,000 dollars <font>"
      ]
    },
    {
      "cell_type": "markdown",
      "metadata": {
        "papermill": {
          "duration": 0.240183,
          "end_time": "2022-04-19T17:44:50.020396",
          "exception": false,
          "start_time": "2022-04-19T17:44:49.780213",
          "status": "completed"
        },
        "tags": [],
        "id": "481d95f2"
      },
      "source": [
        "### <font color='darkblue'> IV.2.2. Lasso regression<font>"
      ]
    },
    {
      "cell_type": "markdown",
      "metadata": {
        "papermill": {
          "duration": 0.231285,
          "end_time": "2022-04-19T17:44:50.485013",
          "exception": false,
          "start_time": "2022-04-19T17:44:50.253728",
          "status": "completed"
        },
        "tags": [],
        "id": "f35c817c"
      },
      "source": [
        "<font color='darkblue'> Lasso will eliminate many features, and reduce overfitting in the linear model.\n",
        "\n",
        "[Click here for more information about Lasso regression](https://medium.com/@vijay.swamy1/lasso-versus-ridge-versus-elastic-net-1d57cfc64b58)<font>"
      ]
    },
    {
      "cell_type": "code",
      "execution_count": null,
      "metadata": {
        "execution": {
          "iopub.execute_input": "2022-04-19T17:44:50.922409Z",
          "iopub.status.busy": "2022-04-19T17:44:50.922027Z",
          "iopub.status.idle": "2022-04-19T17:44:53.088198Z",
          "shell.execute_reply": "2022-04-19T17:44:53.086297Z"
        },
        "papermill": {
          "duration": 2.383705,
          "end_time": "2022-04-19T17:44:53.092808",
          "exception": false,
          "start_time": "2022-04-19T17:44:50.709103",
          "status": "completed"
        },
        "tags": [],
        "id": "99dddb74",
        "outputId": "8dfe512c-ea08-4e0e-9a0e-fd83fb484b9a",
        "colab": {
          "base_uri": "https://localhost:8080/",
          "height": 407
        }
      },
      "outputs": [
        {
          "output_type": "stream",
          "name": "stdout",
          "text": [
            "Fitting 10 folds for each of 50 candidates, totalling 500 fits\n"
          ]
        },
        {
          "output_type": "error",
          "ename": "KeyboardInterrupt",
          "evalue": "ignored",
          "traceback": [
            "\u001b[0;31m---------------------------------------------------------------------------\u001b[0m",
            "\u001b[0;31mKeyboardInterrupt\u001b[0m                         Traceback (most recent call last)",
            "\u001b[0;32m<ipython-input-32-d32a84ac1901>\u001b[0m in \u001b[0;36m<module>\u001b[0;34m()\u001b[0m\n\u001b[1;32m      8\u001b[0m \u001b[0;34m\u001b[0m\u001b[0m\n\u001b[1;32m      9\u001b[0m \u001b[0;31m# fit the GridSearch on train set\u001b[0m\u001b[0;34m\u001b[0m\u001b[0;34m\u001b[0m\u001b[0;34m\u001b[0m\u001b[0m\n\u001b[0;32m---> 10\u001b[0;31m \u001b[0mlasso_cv\u001b[0m\u001b[0;34m.\u001b[0m\u001b[0mfit\u001b[0m\u001b[0;34m(\u001b[0m\u001b[0mX_train\u001b[0m\u001b[0;34m,\u001b[0m \u001b[0my_train\u001b[0m\u001b[0;34m)\u001b[0m\u001b[0;34m\u001b[0m\u001b[0;34m\u001b[0m\u001b[0m\n\u001b[0m\u001b[1;32m     11\u001b[0m \u001b[0;34m\u001b[0m\u001b[0m\n\u001b[1;32m     12\u001b[0m \u001b[0;31m# print best params and the corresponding R²\u001b[0m\u001b[0;34m\u001b[0m\u001b[0;34m\u001b[0m\u001b[0;34m\u001b[0m\u001b[0m\n",
            "\u001b[0;32m/usr/local/lib/python3.7/dist-packages/sklearn/model_selection/_search.py\u001b[0m in \u001b[0;36mfit\u001b[0;34m(self, X, y, groups, **fit_params)\u001b[0m\n\u001b[1;32m    889\u001b[0m                 \u001b[0;32mreturn\u001b[0m \u001b[0mresults\u001b[0m\u001b[0;34m\u001b[0m\u001b[0;34m\u001b[0m\u001b[0m\n\u001b[1;32m    890\u001b[0m \u001b[0;34m\u001b[0m\u001b[0m\n\u001b[0;32m--> 891\u001b[0;31m             \u001b[0mself\u001b[0m\u001b[0;34m.\u001b[0m\u001b[0m_run_search\u001b[0m\u001b[0;34m(\u001b[0m\u001b[0mevaluate_candidates\u001b[0m\u001b[0;34m)\u001b[0m\u001b[0;34m\u001b[0m\u001b[0;34m\u001b[0m\u001b[0m\n\u001b[0m\u001b[1;32m    892\u001b[0m \u001b[0;34m\u001b[0m\u001b[0m\n\u001b[1;32m    893\u001b[0m             \u001b[0;31m# multimetric is determined here because in the case of a callable\u001b[0m\u001b[0;34m\u001b[0m\u001b[0;34m\u001b[0m\u001b[0;34m\u001b[0m\u001b[0m\n",
            "\u001b[0;32m/usr/local/lib/python3.7/dist-packages/sklearn/model_selection/_search.py\u001b[0m in \u001b[0;36m_run_search\u001b[0;34m(self, evaluate_candidates)\u001b[0m\n\u001b[1;32m   1390\u001b[0m     \u001b[0;32mdef\u001b[0m \u001b[0m_run_search\u001b[0m\u001b[0;34m(\u001b[0m\u001b[0mself\u001b[0m\u001b[0;34m,\u001b[0m \u001b[0mevaluate_candidates\u001b[0m\u001b[0;34m)\u001b[0m\u001b[0;34m:\u001b[0m\u001b[0;34m\u001b[0m\u001b[0;34m\u001b[0m\u001b[0m\n\u001b[1;32m   1391\u001b[0m         \u001b[0;34m\"\"\"Search all candidates in param_grid\"\"\"\u001b[0m\u001b[0;34m\u001b[0m\u001b[0;34m\u001b[0m\u001b[0m\n\u001b[0;32m-> 1392\u001b[0;31m         \u001b[0mevaluate_candidates\u001b[0m\u001b[0;34m(\u001b[0m\u001b[0mParameterGrid\u001b[0m\u001b[0;34m(\u001b[0m\u001b[0mself\u001b[0m\u001b[0;34m.\u001b[0m\u001b[0mparam_grid\u001b[0m\u001b[0;34m)\u001b[0m\u001b[0;34m)\u001b[0m\u001b[0;34m\u001b[0m\u001b[0;34m\u001b[0m\u001b[0m\n\u001b[0m\u001b[1;32m   1393\u001b[0m \u001b[0;34m\u001b[0m\u001b[0m\n\u001b[1;32m   1394\u001b[0m \u001b[0;34m\u001b[0m\u001b[0m\n",
            "\u001b[0;32m/usr/local/lib/python3.7/dist-packages/sklearn/model_selection/_search.py\u001b[0m in \u001b[0;36mevaluate_candidates\u001b[0;34m(candidate_params, cv, more_results)\u001b[0m\n\u001b[1;32m    849\u001b[0m                     )\n\u001b[1;32m    850\u001b[0m                     for (cand_idx, parameters), (split_idx, (train, test)) in product(\n\u001b[0;32m--> 851\u001b[0;31m                         \u001b[0menumerate\u001b[0m\u001b[0;34m(\u001b[0m\u001b[0mcandidate_params\u001b[0m\u001b[0;34m)\u001b[0m\u001b[0;34m,\u001b[0m \u001b[0menumerate\u001b[0m\u001b[0;34m(\u001b[0m\u001b[0mcv\u001b[0m\u001b[0;34m.\u001b[0m\u001b[0msplit\u001b[0m\u001b[0;34m(\u001b[0m\u001b[0mX\u001b[0m\u001b[0;34m,\u001b[0m \u001b[0my\u001b[0m\u001b[0;34m,\u001b[0m \u001b[0mgroups\u001b[0m\u001b[0;34m)\u001b[0m\u001b[0;34m)\u001b[0m\u001b[0;34m\u001b[0m\u001b[0;34m\u001b[0m\u001b[0m\n\u001b[0m\u001b[1;32m    852\u001b[0m                     )\n\u001b[1;32m    853\u001b[0m                 )\n",
            "\u001b[0;32m/usr/local/lib/python3.7/dist-packages/joblib/parallel.py\u001b[0m in \u001b[0;36m__call__\u001b[0;34m(self, iterable)\u001b[0m\n\u001b[1;32m   1054\u001b[0m \u001b[0;34m\u001b[0m\u001b[0m\n\u001b[1;32m   1055\u001b[0m             \u001b[0;32mwith\u001b[0m \u001b[0mself\u001b[0m\u001b[0;34m.\u001b[0m\u001b[0m_backend\u001b[0m\u001b[0;34m.\u001b[0m\u001b[0mretrieval_context\u001b[0m\u001b[0;34m(\u001b[0m\u001b[0;34m)\u001b[0m\u001b[0;34m:\u001b[0m\u001b[0;34m\u001b[0m\u001b[0;34m\u001b[0m\u001b[0m\n\u001b[0;32m-> 1056\u001b[0;31m                 \u001b[0mself\u001b[0m\u001b[0;34m.\u001b[0m\u001b[0mretrieve\u001b[0m\u001b[0;34m(\u001b[0m\u001b[0;34m)\u001b[0m\u001b[0;34m\u001b[0m\u001b[0;34m\u001b[0m\u001b[0m\n\u001b[0m\u001b[1;32m   1057\u001b[0m             \u001b[0;31m# Make sure that we get a last message telling us we are done\u001b[0m\u001b[0;34m\u001b[0m\u001b[0;34m\u001b[0m\u001b[0;34m\u001b[0m\u001b[0m\n\u001b[1;32m   1058\u001b[0m             \u001b[0melapsed_time\u001b[0m \u001b[0;34m=\u001b[0m \u001b[0mtime\u001b[0m\u001b[0;34m.\u001b[0m\u001b[0mtime\u001b[0m\u001b[0;34m(\u001b[0m\u001b[0;34m)\u001b[0m \u001b[0;34m-\u001b[0m \u001b[0mself\u001b[0m\u001b[0;34m.\u001b[0m\u001b[0m_start_time\u001b[0m\u001b[0;34m\u001b[0m\u001b[0;34m\u001b[0m\u001b[0m\n",
            "\u001b[0;32m/usr/local/lib/python3.7/dist-packages/joblib/parallel.py\u001b[0m in \u001b[0;36mretrieve\u001b[0;34m(self)\u001b[0m\n\u001b[1;32m    933\u001b[0m             \u001b[0;32mtry\u001b[0m\u001b[0;34m:\u001b[0m\u001b[0;34m\u001b[0m\u001b[0;34m\u001b[0m\u001b[0m\n\u001b[1;32m    934\u001b[0m                 \u001b[0;32mif\u001b[0m \u001b[0mgetattr\u001b[0m\u001b[0;34m(\u001b[0m\u001b[0mself\u001b[0m\u001b[0;34m.\u001b[0m\u001b[0m_backend\u001b[0m\u001b[0;34m,\u001b[0m \u001b[0;34m'supports_timeout'\u001b[0m\u001b[0;34m,\u001b[0m \u001b[0;32mFalse\u001b[0m\u001b[0;34m)\u001b[0m\u001b[0;34m:\u001b[0m\u001b[0;34m\u001b[0m\u001b[0;34m\u001b[0m\u001b[0m\n\u001b[0;32m--> 935\u001b[0;31m                     \u001b[0mself\u001b[0m\u001b[0;34m.\u001b[0m\u001b[0m_output\u001b[0m\u001b[0;34m.\u001b[0m\u001b[0mextend\u001b[0m\u001b[0;34m(\u001b[0m\u001b[0mjob\u001b[0m\u001b[0;34m.\u001b[0m\u001b[0mget\u001b[0m\u001b[0;34m(\u001b[0m\u001b[0mtimeout\u001b[0m\u001b[0;34m=\u001b[0m\u001b[0mself\u001b[0m\u001b[0;34m.\u001b[0m\u001b[0mtimeout\u001b[0m\u001b[0;34m)\u001b[0m\u001b[0;34m)\u001b[0m\u001b[0;34m\u001b[0m\u001b[0;34m\u001b[0m\u001b[0m\n\u001b[0m\u001b[1;32m    936\u001b[0m                 \u001b[0;32melse\u001b[0m\u001b[0;34m:\u001b[0m\u001b[0;34m\u001b[0m\u001b[0;34m\u001b[0m\u001b[0m\n\u001b[1;32m    937\u001b[0m                     \u001b[0mself\u001b[0m\u001b[0;34m.\u001b[0m\u001b[0m_output\u001b[0m\u001b[0;34m.\u001b[0m\u001b[0mextend\u001b[0m\u001b[0;34m(\u001b[0m\u001b[0mjob\u001b[0m\u001b[0;34m.\u001b[0m\u001b[0mget\u001b[0m\u001b[0;34m(\u001b[0m\u001b[0;34m)\u001b[0m\u001b[0;34m)\u001b[0m\u001b[0;34m\u001b[0m\u001b[0;34m\u001b[0m\u001b[0m\n",
            "\u001b[0;32m/usr/local/lib/python3.7/dist-packages/joblib/_parallel_backends.py\u001b[0m in \u001b[0;36mwrap_future_result\u001b[0;34m(future, timeout)\u001b[0m\n\u001b[1;32m    540\u001b[0m         AsyncResults.get from multiprocessing.\"\"\"\n\u001b[1;32m    541\u001b[0m         \u001b[0;32mtry\u001b[0m\u001b[0;34m:\u001b[0m\u001b[0;34m\u001b[0m\u001b[0;34m\u001b[0m\u001b[0m\n\u001b[0;32m--> 542\u001b[0;31m             \u001b[0;32mreturn\u001b[0m \u001b[0mfuture\u001b[0m\u001b[0;34m.\u001b[0m\u001b[0mresult\u001b[0m\u001b[0;34m(\u001b[0m\u001b[0mtimeout\u001b[0m\u001b[0;34m=\u001b[0m\u001b[0mtimeout\u001b[0m\u001b[0;34m)\u001b[0m\u001b[0;34m\u001b[0m\u001b[0;34m\u001b[0m\u001b[0m\n\u001b[0m\u001b[1;32m    543\u001b[0m         \u001b[0;32mexcept\u001b[0m \u001b[0mCfTimeoutError\u001b[0m \u001b[0;32mas\u001b[0m \u001b[0me\u001b[0m\u001b[0;34m:\u001b[0m\u001b[0;34m\u001b[0m\u001b[0;34m\u001b[0m\u001b[0m\n\u001b[1;32m    544\u001b[0m             \u001b[0;32mraise\u001b[0m \u001b[0mTimeoutError\u001b[0m \u001b[0;32mfrom\u001b[0m \u001b[0me\u001b[0m\u001b[0;34m\u001b[0m\u001b[0;34m\u001b[0m\u001b[0m\n",
            "\u001b[0;32m/usr/lib/python3.7/concurrent/futures/_base.py\u001b[0m in \u001b[0;36mresult\u001b[0;34m(self, timeout)\u001b[0m\n\u001b[1;32m    428\u001b[0m                 \u001b[0;32mreturn\u001b[0m \u001b[0mself\u001b[0m\u001b[0;34m.\u001b[0m\u001b[0m__get_result\u001b[0m\u001b[0;34m(\u001b[0m\u001b[0;34m)\u001b[0m\u001b[0;34m\u001b[0m\u001b[0;34m\u001b[0m\u001b[0m\n\u001b[1;32m    429\u001b[0m \u001b[0;34m\u001b[0m\u001b[0m\n\u001b[0;32m--> 430\u001b[0;31m             \u001b[0mself\u001b[0m\u001b[0;34m.\u001b[0m\u001b[0m_condition\u001b[0m\u001b[0;34m.\u001b[0m\u001b[0mwait\u001b[0m\u001b[0;34m(\u001b[0m\u001b[0mtimeout\u001b[0m\u001b[0;34m)\u001b[0m\u001b[0;34m\u001b[0m\u001b[0;34m\u001b[0m\u001b[0m\n\u001b[0m\u001b[1;32m    431\u001b[0m \u001b[0;34m\u001b[0m\u001b[0m\n\u001b[1;32m    432\u001b[0m             \u001b[0;32mif\u001b[0m \u001b[0mself\u001b[0m\u001b[0;34m.\u001b[0m\u001b[0m_state\u001b[0m \u001b[0;32min\u001b[0m \u001b[0;34m[\u001b[0m\u001b[0mCANCELLED\u001b[0m\u001b[0;34m,\u001b[0m \u001b[0mCANCELLED_AND_NOTIFIED\u001b[0m\u001b[0;34m]\u001b[0m\u001b[0;34m:\u001b[0m\u001b[0;34m\u001b[0m\u001b[0;34m\u001b[0m\u001b[0m\n",
            "\u001b[0;32m/usr/lib/python3.7/threading.py\u001b[0m in \u001b[0;36mwait\u001b[0;34m(self, timeout)\u001b[0m\n\u001b[1;32m    294\u001b[0m         \u001b[0;32mtry\u001b[0m\u001b[0;34m:\u001b[0m    \u001b[0;31m# restore state no matter what (e.g., KeyboardInterrupt)\u001b[0m\u001b[0;34m\u001b[0m\u001b[0;34m\u001b[0m\u001b[0m\n\u001b[1;32m    295\u001b[0m             \u001b[0;32mif\u001b[0m \u001b[0mtimeout\u001b[0m \u001b[0;32mis\u001b[0m \u001b[0;32mNone\u001b[0m\u001b[0;34m:\u001b[0m\u001b[0;34m\u001b[0m\u001b[0;34m\u001b[0m\u001b[0m\n\u001b[0;32m--> 296\u001b[0;31m                 \u001b[0mwaiter\u001b[0m\u001b[0;34m.\u001b[0m\u001b[0macquire\u001b[0m\u001b[0;34m(\u001b[0m\u001b[0;34m)\u001b[0m\u001b[0;34m\u001b[0m\u001b[0;34m\u001b[0m\u001b[0m\n\u001b[0m\u001b[1;32m    297\u001b[0m                 \u001b[0mgotit\u001b[0m \u001b[0;34m=\u001b[0m \u001b[0;32mTrue\u001b[0m\u001b[0;34m\u001b[0m\u001b[0;34m\u001b[0m\u001b[0m\n\u001b[1;32m    298\u001b[0m             \u001b[0;32melse\u001b[0m\u001b[0;34m:\u001b[0m\u001b[0;34m\u001b[0m\u001b[0;34m\u001b[0m\u001b[0m\n",
            "\u001b[0;31mKeyboardInterrupt\u001b[0m: "
          ]
        }
      ],
      "source": [
        "# Define hyperparameters\n",
        "alphas = np.logspace(-5, 5, 50).tolist()\n",
        "\n",
        "tuned_parameters = {\"alpha\": alphas}\n",
        "\n",
        "# GridSearch\n",
        "lasso_cv = GridSearchCV(Lasso(), tuned_parameters, cv=10, n_jobs=-1, verbose=1)\n",
        "\n",
        "# fit the GridSearch on train set\n",
        "lasso_cv.fit(X_train, y_train)\n",
        "\n",
        "# print best params and the corresponding R²\n",
        "print(f\"Best hyperparameters: {lasso_cv.best_params_}\")\n",
        "print(f\"Best R² (train): {lasso_cv.best_score_}\")"
      ]
    },
    {
      "cell_type": "code",
      "execution_count": null,
      "metadata": {
        "execution": {
          "iopub.execute_input": "2022-04-19T17:44:53.578812Z",
          "iopub.status.busy": "2022-04-19T17:44:53.578517Z",
          "iopub.status.idle": "2022-04-19T17:44:53.616029Z",
          "shell.execute_reply": "2022-04-19T17:44:53.614753Z"
        },
        "papermill": {
          "duration": 0.2552,
          "end_time": "2022-04-19T17:44:53.619246",
          "exception": false,
          "start_time": "2022-04-19T17:44:53.364046",
          "status": "completed"
        },
        "tags": [],
        "id": "c3dc9314"
      },
      "outputs": [],
      "source": [
        "# Lasso Regressor with the best hyperparameters\n",
        "lasso_mod = Lasso(alpha=lasso_cv.best_params_[\"alpha\"])\n",
        "\n",
        "# Fit the model on train set\n",
        "lasso_mod.fit(X_train, y_train)\n",
        "\n",
        "# Predict on test set\n",
        "y_pred = lasso_mod.predict(X_test)\n",
        "\n",
        "print(f\"- {lasso_mod.__class__.__name__}\")\n",
        "print(f\"R²: {rsqr_score(y_test, y_pred)}\")\n",
        "print(f\"RMSE: {rmse_score(y_test, y_pred)}\")"
      ]
    },
    {
      "cell_type": "code",
      "execution_count": null,
      "metadata": {
        "execution": {
          "iopub.execute_input": "2022-04-19T17:44:54.135170Z",
          "iopub.status.busy": "2022-04-19T17:44:54.134870Z",
          "iopub.status.idle": "2022-04-19T17:44:54.143505Z",
          "shell.execute_reply": "2022-04-19T17:44:54.142782Z"
        },
        "papermill": {
          "duration": 0.235866,
          "end_time": "2022-04-19T17:44:54.145492",
          "exception": false,
          "start_time": "2022-04-19T17:44:53.909626",
          "status": "completed"
        },
        "tags": [],
        "id": "31e70794"
      },
      "outputs": [],
      "source": [
        "# Save the model results into lists\n",
        "model_list.append(lasso_mod.__class__.__name__)\n",
        "r2_list.append(round(rsqr_score(y_test, y_pred), 4))\n",
        "rmse_list.append(round(rmse_score(y_test, y_pred), 4))"
      ]
    },
    {
      "cell_type": "code",
      "execution_count": null,
      "metadata": {
        "execution": {
          "iopub.execute_input": "2022-04-19T17:44:54.595947Z",
          "iopub.status.busy": "2022-04-19T17:44:54.595313Z",
          "iopub.status.idle": "2022-04-19T17:44:54.889645Z",
          "shell.execute_reply": "2022-04-19T17:44:54.888722Z"
        },
        "papermill": {
          "duration": 0.52013,
          "end_time": "2022-04-19T17:44:54.891915",
          "exception": false,
          "start_time": "2022-04-19T17:44:54.371785",
          "status": "completed"
        },
        "tags": [],
        "id": "c5c6df4f"
      },
      "outputs": [],
      "source": [
        "# Plot Actual vs. Predicted house prices\n",
        "actual_price = np.exp(y_test[\"SalePriceLog\"])\n",
        "predicted_price = np.exp(y_pred)\n",
        "\n",
        "plt.figure()\n",
        "plt.title(\"Actual vs. Predicted house prices\\n (Lasso)\", fontsize=20)\n",
        "plt.scatter(actual_price, predicted_price,\n",
        "            color=\"deepskyblue\", marker=\"o\", facecolors=\"none\")\n",
        "plt.plot([0, 800000], [0, 800000], \"darkorange\", lw=2)\n",
        "plt.xlim(0, 800000)\n",
        "plt.ylim(0, 800000)\n",
        "plt.xlabel(\"\\nActual Price\", fontsize=16)\n",
        "plt.ylabel(\"Predicted Price\\n\", fontsize=16)\n",
        "plt.show()"
      ]
    },
    {
      "cell_type": "markdown",
      "metadata": {
        "papermill": {
          "duration": 0.213198,
          "end_time": "2022-04-19T17:44:55.323180",
          "exception": false,
          "start_time": "2022-04-19T17:44:55.109982",
          "status": "completed"
        },
        "tags": [],
        "id": "4023ab72"
      },
      "source": [
        "### <font color = 'darkblue'> IV.2.3. XGBoost regression <font>"
      ]
    },
    {
      "cell_type": "markdown",
      "metadata": {
        "papermill": {
          "duration": 0.21128,
          "end_time": "2022-04-19T17:44:55.748591",
          "exception": false,
          "start_time": "2022-04-19T17:44:55.537311",
          "status": "completed"
        },
        "tags": [],
        "id": "99d7ed3b"
      },
      "source": [
        "<font color='darkblue'>XGBoost is one of the most popular algorithms that are based on Gradient Boosted Machines. Gradient Boosting refers to a methodology where an ensemble of weak learners is used to improve the model performance in terms of efficiency, accuracy, and interpretability. Gradient Boosting can be applied to a regression by taking the average of the outputs by the weak learners. <font>\n",
        "\n",
        "[Click here for more information about XGBoost](https://neptune.ai/blog/xgboost-vs-lightgbm)"
      ]
    },
    {
      "cell_type": "code",
      "execution_count": null,
      "metadata": {
        "execution": {
          "iopub.execute_input": "2022-04-19T17:44:56.180694Z",
          "iopub.status.busy": "2022-04-19T17:44:56.180185Z",
          "iopub.status.idle": "2022-04-19T18:10:16.958351Z",
          "shell.execute_reply": "2022-04-19T18:10:16.957132Z"
        },
        "papermill": {
          "duration": 1521.209363,
          "end_time": "2022-04-19T18:10:17.174376",
          "exception": false,
          "start_time": "2022-04-19T17:44:55.965013",
          "status": "completed"
        },
        "tags": [],
        "id": "ab12752c",
        "outputId": "338efc65-a5e4-4aad-ab25-062ccb18c7bf",
        "colab": {
          "base_uri": "https://localhost:8080/"
        }
      },
      "outputs": [
        {
          "output_type": "stream",
          "name": "stdout",
          "text": [
            "Fitting 5 folds for each of 12 candidates, totalling 60 fits\n",
            "[10:43:19] WARNING: /workspace/src/objective/regression_obj.cu:152: reg:linear is now deprecated in favor of reg:squarederror.\n",
            "Best hyperparameters: {'colsample_bytree': 0.3, 'learning_rate': 0.1, 'max_depth': 3, 'n_estimators': 100}\n",
            "\n",
            "Best R²: 0.2436861423298188\n"
          ]
        }
      ],
      "source": [
        "# Define hyperparameters\n",
        "tuned_parameters = {\"max_depth\": [3],\n",
        "                    \"colsample_bytree\": [0.3, 0.7],\n",
        "                    \"learning_rate\": [0.01, 0.05, 0.1],\n",
        "                    \"n_estimators\": [100, 500]}\n",
        "\n",
        "# GridSearch\n",
        "xgbr_cv = GridSearchCV(estimator=XGBRegressor(),\n",
        "                       param_grid=tuned_parameters,\n",
        "                       cv=5,\n",
        "                       n_jobs=-1,\n",
        "                       verbose=1)\n",
        "\n",
        "# fit the GridSearch on train set\n",
        "xgbr_cv.fit(X_train, y_train)\n",
        "\n",
        "# print best params and the corresponding R²\n",
        "print(f\"Best hyperparameters: {xgbr_cv.best_params_}\\n\")\n",
        "print(f\"Best R²: {xgbr_cv.best_score_}\")"
      ]
    },
    {
      "cell_type": "markdown",
      "metadata": {
        "papermill": {
          "duration": 0.208842,
          "end_time": "2022-04-19T18:10:17.591823",
          "exception": false,
          "start_time": "2022-04-19T18:10:17.382981",
          "status": "completed"
        },
        "tags": [],
        "id": "f485019a"
      },
      "source": [
        "<font color='darkblue'>It's always better to set more hyperparameters with more cross validation but it's very time consuming with XGBRegressor in kaggle kerner. Thus, I limited the tuning to 3 hyperparameters with 5 cross validation only."
      ]
    },
    {
      "cell_type": "code",
      "execution_count": null,
      "metadata": {
        "execution": {
          "iopub.execute_input": "2022-04-19T18:10:18.012296Z",
          "iopub.status.busy": "2022-04-19T18:10:18.011977Z",
          "iopub.status.idle": "2022-04-19T18:10:19.556070Z",
          "shell.execute_reply": "2022-04-19T18:10:19.554950Z"
        },
        "papermill": {
          "duration": 1.759557,
          "end_time": "2022-04-19T18:10:19.559267",
          "exception": false,
          "start_time": "2022-04-19T18:10:17.799710",
          "status": "completed"
        },
        "tags": [],
        "id": "9bd8d71b",
        "outputId": "080de8e0-36ad-4dfd-9448-9f481b2b40a3",
        "colab": {
          "base_uri": "https://localhost:8080/"
        }
      },
      "outputs": [
        {
          "output_type": "stream",
          "name": "stdout",
          "text": [
            "[10:43:20] WARNING: /workspace/src/objective/regression_obj.cu:152: reg:linear is now deprecated in favor of reg:squarederror.\n",
            "- XGBRegressor\n",
            "R²: 0.19362791062681195\n",
            "RMSE: 0.5335111901240662\n"
          ]
        }
      ],
      "source": [
        "# XGB Regressor with the best hyperparameters\n",
        "xgbr_mod = XGBRegressor(seed=20,\n",
        "                        colsample_bytree=xgbr_cv.best_params_[\"colsample_bytree\"],\n",
        "                        learning_rate=xgbr_cv.best_params_[\"learning_rate\"],\n",
        "                        max_depth=xgbr_cv.best_params_[\"max_depth\"],\n",
        "                        n_estimators=xgbr_cv.best_params_[\"n_estimators\"])\n",
        "\n",
        "# Fit the model on train set\n",
        "xgbr_mod.fit(X_train, y_train)\n",
        "\n",
        "# Predict on test set\n",
        "y_pred = xgbr_mod.predict(X_test)\n",
        "\n",
        "print(f\"- {xgbr_mod.__class__.__name__}\")\n",
        "print(f\"R²: {rsqr_score(y_test, y_pred)}\")\n",
        "print(f\"RMSE: {rmse_score(y_test, y_pred)}\")"
      ]
    },
    {
      "cell_type": "code",
      "execution_count": null,
      "metadata": {
        "execution": {
          "iopub.execute_input": "2022-04-19T18:10:19.996640Z",
          "iopub.status.busy": "2022-04-19T18:10:19.996327Z",
          "iopub.status.idle": "2022-04-19T18:10:20.006487Z",
          "shell.execute_reply": "2022-04-19T18:10:20.005736Z"
        },
        "papermill": {
          "duration": 0.227037,
          "end_time": "2022-04-19T18:10:20.008724",
          "exception": false,
          "start_time": "2022-04-19T18:10:19.781687",
          "status": "completed"
        },
        "tags": [],
        "id": "aaac8718"
      },
      "outputs": [],
      "source": [
        "# Save the model results into lists\n",
        "model_list.append(xgbr_mod.__class__.__name__)\n",
        "r2_list.append(round(rsqr_score(y_test, y_pred), 4))\n",
        "rmse_list.append(round(rmse_score(y_test, y_pred), 4))"
      ]
    },
    {
      "cell_type": "code",
      "source": [
        "y_test.to_list()"
      ],
      "metadata": {
        "colab": {
          "base_uri": "https://localhost:8080/"
        },
        "id": "tXFRZlTrX1i2",
        "outputId": "3f2161c0-ffce-4159-b0d5-71ff61a601a3"
      },
      "execution_count": null,
      "outputs": [
        {
          "output_type": "execute_result",
          "data": {
            "text/plain": [
              "[4.838631997765025,\n",
              " 4.580044251510242,\n",
              " 4.82102305270683,\n",
              " 4.892790030352131,\n",
              " 4.966576244513051,\n",
              " 5.293282217663241,\n",
              " 5.041436116778033,\n",
              " 5.188424994129407,\n",
              " 6.29929628285498,\n",
              " 4.954677021213342,\n",
              " 5.590066876668706,\n",
              " 4.85078088734462,\n",
              " 5.166852888087215,\n",
              " 7.136677139879544,\n",
              " 5.694648630553377,\n",
              " 5.26440110030182,\n",
              " 5.452225294612178,\n",
              " 6.5003129173815966,\n",
              " 5.795880017344075,\n",
              " 4.906578314837765,\n",
              " 4.688246138944246,\n",
              " 4.931814138253838,\n",
              " 4.366531544420414,\n",
              " 4.876148359032914,\n",
              " 5.730487055782084,\n",
              " 5.886056647693163,\n",
              " 5.089375595110798,\n",
              " 6.443697499232712,\n",
              " 5.091514981121351,\n",
              " 6.142667503568731,\n",
              " 4.832682665251824,\n",
              " 4.718966632752273,\n",
              " 4.804100347590766,\n",
              " 5.0195421077239,\n",
              " 4.292429823902063,\n",
              " 4.096910013008056,\n",
              " 4.728158393463501,\n",
              " 5.044793462458058,\n",
              " 5.175874166083451,\n",
              " 5.966576244513051,\n",
              " 4.913640169325252,\n",
              " 5.247951552180561,\n",
              " 4.761953896871205,\n",
              " 5.11975822410452,\n",
              " 4.767003889607846,\n",
              " 5.769551078621726,\n",
              " 4.892790030352131,\n",
              " 5.3872161432802645,\n",
              " 5.067526235322847]"
            ]
          },
          "metadata": {},
          "execution_count": 40
        }
      ]
    },
    {
      "cell_type": "code",
      "execution_count": null,
      "metadata": {
        "execution": {
          "iopub.execute_input": "2022-04-19T18:10:20.439915Z",
          "iopub.status.busy": "2022-04-19T18:10:20.438943Z",
          "iopub.status.idle": "2022-04-19T18:10:20.683293Z",
          "shell.execute_reply": "2022-04-19T18:10:20.681964Z"
        },
        "papermill": {
          "duration": 0.460065,
          "end_time": "2022-04-19T18:10:20.685559",
          "exception": false,
          "start_time": "2022-04-19T18:10:20.225494",
          "status": "completed"
        },
        "tags": [],
        "id": "95ca54ba",
        "outputId": "790373ed-ce98-4824-d229-44c6c9db407a",
        "colab": {
          "base_uri": "https://localhost:8080/",
          "height": 347
        }
      },
      "outputs": [
        {
          "output_type": "display_data",
          "data": {
            "text/plain": [
              "<Figure size 432x288 with 1 Axes>"
            ],
            "image/png": "[encoded data removed]"
          },
          "metadata": {
            "needs_background": "light"
          }
        }
      ],
      "source": [
        "# Plot Actual vs. Predicted house prices\n",
        "actual_price = np.exp(y_test.to_list())\n",
        "predicted_price = np.exp(y_pred)\n",
        "\n",
        "plt.figure()\n",
        "plt.title(\"Actual vs. Predicted house prices\\n (XGBoost)\", fontsize=20)\n",
        "plt.scatter(actual_price, predicted_price,\n",
        "            color=\"deepskyblue\", marker=\"o\", facecolors=\"none\")\n",
        "plt.plot([0, 800000], [0, 800000], \"darkorange\", lw=2)\n",
        "plt.xlim(0, 800000)\n",
        "plt.ylim(0, 800000)\n",
        "plt.xlabel(\"\\nActual Price\", fontsize=16)\n",
        "plt.ylabel(\"Predicted Price\\n\", fontsize=16)\n",
        "plt.show()"
      ]
    },
    {
      "cell_type": "markdown",
      "metadata": {
        "papermill": {
          "duration": 0.226469,
          "end_time": "2022-04-19T18:10:21.167614",
          "exception": false,
          "start_time": "2022-04-19T18:10:20.941145",
          "status": "completed"
        },
        "tags": [],
        "id": "132adcca"
      },
      "source": [
        "### <font color = 'darkblue'> IV.2.4. LightGBM regression <font>"
      ]
    },
    {
      "cell_type": "markdown",
      "metadata": {
        "papermill": {
          "duration": 0.291691,
          "end_time": "2022-04-19T18:10:21.680610",
          "exception": false,
          "start_time": "2022-04-19T18:10:21.388919",
          "status": "completed"
        },
        "tags": [],
        "id": "3cfa16f1"
      },
      "source": [
        "<font color='darkblue'> LightGBM is also one of the most popular algorithms that are based on Gradient Boosted Machines.<font>\n",
        "\n",
        "[Click here for more information about LightGBM](https://neptune.ai/blog/xgboost-vs-lightgbm)"
      ]
    },
    {
      "cell_type": "code",
      "execution_count": null,
      "metadata": {
        "execution": {
          "iopub.execute_input": "2022-04-19T18:10:22.134235Z",
          "iopub.status.busy": "2022-04-19T18:10:22.133597Z",
          "iopub.status.idle": "2022-04-19T18:11:00.430786Z",
          "shell.execute_reply": "2022-04-19T18:11:00.429584Z"
        },
        "papermill": {
          "duration": 38.740065,
          "end_time": "2022-04-19T18:11:00.645282",
          "exception": false,
          "start_time": "2022-04-19T18:10:21.905217",
          "status": "completed"
        },
        "tags": [],
        "id": "2fb6b726"
      },
      "outputs": [],
      "source": [
        "# Define hyperparameters\n",
        "tuned_parameters = {\"max_depth\": [3, 6, 10], \"learning_rate\": [\n",
        "    0.01, 0.05, 0.1], \"n_estimators\": [100, 500, 1000], }\n",
        "\n",
        "# GridSearch\n",
        "lgbm_cv = GridSearchCV(estimator=LGBMRegressor(\n",
        "), param_grid=tuned_parameters, cv=10, n_jobs=-1, verbose=1)\n",
        "\n",
        "# fit the GridSearch on train set\n",
        "lgbm_cv.fit(X_train, y_train)\n",
        "\n",
        "# print best params and the corresponding R²\n",
        "print(f\"Best hyperparameters: {lgbm_cv.best_params_}\\n\")\n",
        "print(f\"Best R²: {lgbm_cv.best_score_}\")"
      ]
    },
    {
      "cell_type": "code",
      "execution_count": null,
      "metadata": {
        "execution": {
          "iopub.execute_input": "2022-04-19T18:11:01.090721Z",
          "iopub.status.busy": "2022-04-19T18:11:01.090400Z",
          "iopub.status.idle": "2022-04-19T18:11:01.286493Z",
          "shell.execute_reply": "2022-04-19T18:11:01.285774Z"
        },
        "papermill": {
          "duration": 0.422373,
          "end_time": "2022-04-19T18:11:01.289135",
          "exception": false,
          "start_time": "2022-04-19T18:11:00.866762",
          "status": "completed"
        },
        "tags": [],
        "id": "106a4088"
      },
      "outputs": [],
      "source": [
        "# LGBM Regressor with the best hyperparameters\n",
        "lgbm_mod = LGBMRegressor(learning_rate=lgbm_cv.best_params_[\"learning_rate\"],\n",
        "                         max_depth=lgbm_cv.best_params_[\"max_depth\"],\n",
        "                         n_estimators=lgbm_cv.best_params_[\"n_estimators\"])\n",
        "\n",
        "# Fit the model on train set\n",
        "lgbm_mod.fit(X_train, y_train)\n",
        "\n",
        "# Predict on test set\n",
        "y_pred = lgbm_mod.predict(X_test)\n",
        "\n",
        "print(f\"- {lgbm_mod.__class__.__name__}\")\n",
        "print(f\"R²: {rsqr_score(y_test, y_pred)}\")\n",
        "print(f\"RMSE: {rmse_score(y_test, y_pred)}\")"
      ]
    },
    {
      "cell_type": "code",
      "execution_count": null,
      "metadata": {
        "execution": {
          "iopub.execute_input": "2022-04-19T18:11:01.725173Z",
          "iopub.status.busy": "2022-04-19T18:11:01.724796Z",
          "iopub.status.idle": "2022-04-19T18:11:01.734249Z",
          "shell.execute_reply": "2022-04-19T18:11:01.733390Z"
        },
        "papermill": {
          "duration": 0.228096,
          "end_time": "2022-04-19T18:11:01.736243",
          "exception": false,
          "start_time": "2022-04-19T18:11:01.508147",
          "status": "completed"
        },
        "tags": [],
        "id": "071dc304"
      },
      "outputs": [],
      "source": [
        "# Save the model results into lists\n",
        "model_list.append(lgbm_mod.__class__.__name__)\n",
        "r2_list.append(round(rsqr_score(y_test, y_pred), 4))\n",
        "rmse_list.append(round(rmse_score(y_test, y_pred), 4))"
      ]
    },
    {
      "cell_type": "code",
      "execution_count": null,
      "metadata": {
        "execution": {
          "iopub.execute_input": "2022-04-19T18:11:02.170845Z",
          "iopub.status.busy": "2022-04-19T18:11:02.170203Z",
          "iopub.status.idle": "2022-04-19T18:11:02.418359Z",
          "shell.execute_reply": "2022-04-19T18:11:02.417482Z"
        },
        "papermill": {
          "duration": 0.468731,
          "end_time": "2022-04-19T18:11:02.420981",
          "exception": false,
          "start_time": "2022-04-19T18:11:01.952250",
          "status": "completed"
        },
        "tags": [],
        "id": "3cf22119"
      },
      "outputs": [],
      "source": [
        "# Plot Actual vs. Predicted house prices\n",
        "actual_price = np.exp(y_test[\"SalePriceLog\"])\n",
        "predicted_price = np.exp(y_pred)\n",
        "\n",
        "plt.figure()\n",
        "plt.title(\"Actual vs. Predicted house prices\\n (LGBM)\", fontsize=20)\n",
        "plt.scatter(actual_price, predicted_price,\n",
        "            color=\"deepskyblue\", marker=\"o\", facecolors=\"none\")\n",
        "plt.plot([0, 800000], [0, 800000], \"darkorange\", lw=2)\n",
        "plt.xlim(0, 800000)\n",
        "plt.ylim(0, 800000)\n",
        "plt.xlabel(\"\\nActual Price\", fontsize=16)\n",
        "plt.ylabel(\"Predicted Price\\n\", fontsize=16)\n",
        "plt.show()"
      ]
    },
    {
      "cell_type": "markdown",
      "metadata": {
        "papermill": {
          "duration": 0.222509,
          "end_time": "2022-04-19T18:11:02.863910",
          "exception": false,
          "start_time": "2022-04-19T18:11:02.641401",
          "status": "completed"
        },
        "tags": [],
        "id": "05645004"
      },
      "source": [
        "## <font color ='darkblue'> IV.3. Choosing the best model<font>"
      ]
    },
    {
      "cell_type": "code",
      "execution_count": null,
      "metadata": {
        "execution": {
          "iopub.execute_input": "2022-04-19T18:11:03.309290Z",
          "iopub.status.busy": "2022-04-19T18:11:03.308973Z",
          "iopub.status.idle": "2022-04-19T18:11:03.321075Z",
          "shell.execute_reply": "2022-04-19T18:11:03.320204Z"
        },
        "papermill": {
          "duration": 0.237126,
          "end_time": "2022-04-19T18:11:03.323175",
          "exception": false,
          "start_time": "2022-04-19T18:11:03.086049",
          "status": "completed"
        },
        "tags": [],
        "id": "1c8b35f1"
      },
      "outputs": [],
      "source": [
        "# Create a table with pd.DataFrame\n",
        "model_results = pd.DataFrame({\"Model\": model_list,\n",
        "                              \"R²\": r2_list,\n",
        "                              \"RMSE\": rmse_list})\n",
        "\n",
        "model_results"
      ]
    },
    {
      "cell_type": "markdown",
      "metadata": {
        "papermill": {
          "duration": 0.22111,
          "end_time": "2022-04-19T18:11:03.764942",
          "exception": false,
          "start_time": "2022-04-19T18:11:03.543832",
          "status": "completed"
        },
        "tags": [],
        "id": "766801e4"
      },
      "source": [
        "<font color='darkblue'>The results show that that the best performances in terms of R squared (R²) and Root Mean Square Error (RMSE) correspond to Ridge, Lasso and XGB Regressor.\n",
        "     \n",
        "<font color='darkblue'>Based on these results and the results of the figures that show the Actual prices vs. Predicted prices, we can conclude that the XGB Regressor model has the best performance.<font>\n",
        "    \n",
        "<font color='red'>Thus, XGB Regressor model will be chosen to predict house prices of the Test set of this Kaggle competition."
      ]
    },
    {
      "cell_type": "markdown",
      "metadata": {
        "papermill": {
          "duration": 0.216068,
          "end_time": "2022-04-19T18:11:04.199976",
          "exception": false,
          "start_time": "2022-04-19T18:11:03.983908",
          "status": "completed"
        },
        "tags": [],
        "id": "09c1a7ff"
      },
      "source": [
        "## <font color ='darkblue'> IV.4. Prediction on 'House Prices-Advanced Regression Techniques' test data set<font>"
      ]
    },
    {
      "cell_type": "markdown",
      "metadata": {
        "papermill": {
          "duration": 0.216149,
          "end_time": "2022-04-19T18:11:04.630675",
          "exception": false,
          "start_time": "2022-04-19T18:11:04.414526",
          "status": "completed"
        },
        "tags": [],
        "id": "649a3e30"
      },
      "source": [
        "<font color='darkblue'>By spliting the training data into X_train and X_test we kind of lost some of this training data. A solution will be to update our model chosen on the X_test dataset before predicting on the test dataset of the competition. "
      ]
    },
    {
      "cell_type": "code",
      "execution_count": null,
      "metadata": {
        "execution": {
          "iopub.execute_input": "2022-04-19T18:11:05.092278Z",
          "iopub.status.busy": "2022-04-19T18:11:05.091901Z",
          "iopub.status.idle": "2022-04-19T18:11:05.124904Z",
          "shell.execute_reply": "2022-04-19T18:11:05.124193Z"
        },
        "papermill": {
          "duration": 0.253431,
          "end_time": "2022-04-19T18:11:05.126875",
          "exception": false,
          "start_time": "2022-04-19T18:11:04.873444",
          "status": "completed"
        },
        "tags": [],
        "id": "9683299e"
      },
      "outputs": [],
      "source": [
        "# Predictions from Ridge model\n",
        "predictions_list = xgbr_mod.predict(df_test_new)\n",
        "\n",
        "# Conversion of logarithmic predictions to logical data Sale Price\n",
        "saleprice_preds = np.exp(predictions_list)\n",
        "\n",
        "# DataFrame of test ID and their corresponding predictions\n",
        "output = pd.DataFrame({\"Id\": Id_test_list,\n",
        "                       \"SalePrice\": saleprice_preds})\n",
        "output.head(10)"
      ]
    },
    {
      "cell_type": "code",
      "execution_count": null,
      "metadata": {
        "execution": {
          "iopub.execute_input": "2022-04-19T18:11:05.562671Z",
          "iopub.status.busy": "2022-04-19T18:11:05.562106Z",
          "iopub.status.idle": "2022-04-19T18:11:05.574059Z",
          "shell.execute_reply": "2022-04-19T18:11:05.573296Z"
        },
        "papermill": {
          "duration": 0.233738,
          "end_time": "2022-04-19T18:11:05.576396",
          "exception": false,
          "start_time": "2022-04-19T18:11:05.342658",
          "status": "completed"
        },
        "tags": [],
        "id": "f2596a3e"
      },
      "outputs": [],
      "source": [
        "# Save the output\n",
        "output.to_csv(\"submission.csv\", index=False)"
      ]
    }
  ]
}