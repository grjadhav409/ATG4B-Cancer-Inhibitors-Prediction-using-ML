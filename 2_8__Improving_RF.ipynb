{
  "cells": [
    {
      "cell_type": "markdown",
      "metadata": {
        "id": "view-in-github",
        "colab_type": "text"
      },
      "source": [
        "<a href=\"https://colab.research.google.com/github/grjadhav409/ATG4B-inhibitors-prediction-using-ML/blob/main/2_8__Improving_RF.ipynb\" target=\"_parent\"><img src=\"https://colab.research.google.com/assets/colab-badge.svg\" alt=\"Open In Colab\"/></a>"
      ]
    },
    {
      "cell_type": "markdown",
      "source": [
        "### lib"
      ],
      "metadata": {
        "id": "MtgjXyTzNBEB"
      }
    },
    {
      "cell_type": "code",
      "source": [
        "from google.colab import drive\n",
        "drive.mount('/content/drive')"
      ],
      "metadata": {
        "colab": {
          "base_uri": "https://localhost:8080/"
        },
        "id": "myv4LBENIPmq",
        "outputId": "38a05023-0f8d-4e88-c60c-3db130713f18"
      },
      "execution_count": null,
      "outputs": [
        {
          "output_type": "stream",
          "name": "stdout",
          "text": [
            "Mounted at /content/drive\n"
          ]
        }
      ]
    },
    {
      "cell_type": "code",
      "execution_count": null,
      "metadata": {
        "id": "Je5GQ091lKwf"
      },
      "outputs": [],
      "source": [
        "# Load libraries\n",
        "import numpy as np\n",
        "import pandas as pd\n",
        "from numpy import arange\n",
        "from matplotlib import pyplot\n",
        "from pandas import read_csv\n",
        "from pandas import set_option\n",
        "from pandas.plotting import scatter_matrix\n",
        "from sklearn.preprocessing import StandardScaler\n",
        "from sklearn.model_selection import train_test_split\n",
        "from sklearn.model_selection import KFold\n",
        "from sklearn.model_selection import cross_val_score\n",
        "from sklearn.model_selection import GridSearchCV\n",
        "from sklearn.linear_model import LinearRegression\n",
        "from sklearn.linear_model import Lasso\n",
        "from sklearn.linear_model import ElasticNet\n",
        "from sklearn.tree import DecisionTreeRegressor\n",
        "from sklearn.neighbors import KNeighborsRegressor\n",
        "from sklearn.svm import SVR\n",
        "from sklearn.pipeline import Pipeline\n",
        "from sklearn.ensemble import RandomForestRegressor\n",
        "from sklearn.ensemble import GradientBoostingRegressor\n",
        "from sklearn.ensemble import ExtraTreesRegressor\n",
        "from sklearn.ensemble import AdaBoostRegressor\n",
        "from sklearn.metrics import mean_squared_error"
      ]
    },
    {
      "cell_type": "code",
      "source": [
        "# SVM Regression\n",
        "from pandas import read_csv\n",
        "from sklearn.model_selection import KFold\n",
        "from sklearn.model_selection import cross_val_score\n",
        "from sklearn.svm import SVR"
      ],
      "metadata": {
        "id": "7PZe7XlvMJVT"
      },
      "execution_count": null,
      "outputs": []
    },
    {
      "cell_type": "markdown",
      "source": [
        "### x and y"
      ],
      "metadata": {
        "id": "ExVdc4KzNE0X"
      }
    },
    {
      "cell_type": "code",
      "source": [
        "#load X and Y\n",
        "df1= pd.read_csv(\"/content/drive/MyDrive/Colab Notebooks/drug discovery/ATG4B/data_atg4b/X_padel.csv\")\n",
        "df2= pd.read_csv(\"/content/drive/MyDrive/Colab Notebooks/drug discovery/ATG4B/data_atg4b/y_pic50.csv\")\n",
        "\n",
        "#combine X and Y \n",
        "df4= pd.concat([df1,df2],axis=1)\n",
        "\n",
        "#remove unnamed column\n",
        "df5 = df4.loc[:,~df4.columns.str.match(\"Unnamed\")]\n",
        "\n",
        "# Replace to drop rows or columns infinite values\n",
        "df6 = df5.replace([np.inf, -np.inf], np.nan).dropna(axis=0)\n",
        "\n",
        "#reset index\n",
        "df7= df6.reset_index()\n",
        "df7 = df7.loc[:,~df7.columns.str.match(\"index\")]\n",
        "\n",
        "\n",
        "# define X and Y\n",
        "X = df7.drop(\"pIC50\", axis=1)\n",
        "X=X.astype('int')\n",
        "Y= df7[\"pIC50\"]\n",
        "Y=Y.astype('float')\n",
        "\n",
        "X"
      ],
      "metadata": {
        "colab": {
          "base_uri": "https://localhost:8080/",
          "height": 487
        },
        "id": "0t_B8barmfEV",
        "outputId": "ba9f5650-edfe-4148-c825-994816d0bebd"
      },
      "execution_count": null,
      "outputs": [
        {
          "output_type": "execute_result",
          "data": {
            "text/plain": [
              "     nAcid  ALogP  ALogp2  AMR  apol  naAromAtom  nAromBond  nAtom  \\\n",
              "0        0      1       1   36    42          12         12     34   \n",
              "1        0     -1       2   59    60          11         11     54   \n",
              "2        0     -1       1   14    33          12         13     26   \n",
              "3        0      1       2   80    65          12         17     51   \n",
              "4        0      0       0   41    58          17         17     47   \n",
              "..     ...    ...     ...  ...   ...         ...        ...    ...   \n",
              "238      0      0       0   57    66          16         17     54   \n",
              "239      0      0       0   49    58          12         12     51   \n",
              "240      0     -1       3   44    55          12         12     48   \n",
              "241      0     -2       4   37    69          26         35     54   \n",
              "242      0      0       0   39    55          17         17     48   \n",
              "\n",
              "     nHeavyAtom  nH  ...  PubchemFP871  PubchemFP872  PubchemFP873  \\\n",
              "0            26   8  ...             0             0             0   \n",
              "1            26  28  ...             0             0             0   \n",
              "2            17   9  ...             0             0             0   \n",
              "3            30  21  ...             0             0             0   \n",
              "4            27  20  ...             0             0             0   \n",
              "..          ...  ..  ...           ...           ...           ...   \n",
              "238          33  21  ...             0             0             0   \n",
              "239          28  23  ...             0             0             0   \n",
              "240          27  21  ...             0             0             0   \n",
              "241          38  16  ...             0             0             0   \n",
              "242          27  21  ...             0             0             0   \n",
              "\n",
              "     PubchemFP874  PubchemFP875  PubchemFP876  PubchemFP877  PubchemFP878  \\\n",
              "0               0             0             0             0             0   \n",
              "1               0             0             0             0             0   \n",
              "2               0             0             0             0             0   \n",
              "3               0             0             0             0             0   \n",
              "4               0             0             0             0             0   \n",
              "..            ...           ...           ...           ...           ...   \n",
              "238             0             0             0             0             0   \n",
              "239             0             0             0             0             0   \n",
              "240             0             0             0             0             0   \n",
              "241             0             0             0             0             0   \n",
              "242             0             0             0             0             0   \n",
              "\n",
              "     PubchemFP879  PubchemFP880  \n",
              "0               0             0  \n",
              "1               0             0  \n",
              "2               0             0  \n",
              "3               0             0  \n",
              "4               0             0  \n",
              "..            ...           ...  \n",
              "238             0             0  \n",
              "239             0             0  \n",
              "240             0             0  \n",
              "241             0             0  \n",
              "242             0             0  \n",
              "\n",
              "[243 rows x 2756 columns]"
            ],
            "text/html": [
              "\n",
              "  <div id=\"df-7edbd336-e7c6-4d3d-9bd6-69878658571d\">\n",
              "    <div class=\"colab-df-container\">\n",
              "      <div>\n",
              "<style scoped>\n",
              "    .dataframe tbody tr th:only-of-type {\n",
              "        vertical-align: middle;\n",
              "    }\n",
              "\n",
              "    .dataframe tbody tr th {\n",
              "        vertical-align: top;\n",
              "    }\n",
              "\n",
              "    .dataframe thead th {\n",
              "        text-align: right;\n",
              "    }\n",
              "</style>\n",
              "<table border=\"1\" class=\"dataframe\">\n",
              "  <thead>\n",
              "    <tr style=\"text-align: right;\">\n",
              "      <th></th>\n",
              "      <th>nAcid</th>\n",
              "      <th>ALogP</th>\n",
              "      <th>ALogp2</th>\n",
              "      <th>AMR</th>\n",
              "      <th>apol</th>\n",
              "      <th>naAromAtom</th>\n",
              "      <th>nAromBond</th>\n",
              "      <th>nAtom</th>\n",
              "      <th>nHeavyAtom</th>\n",
              "      <th>nH</th>\n",
              "      <th>...</th>\n",
              "      <th>PubchemFP871</th>\n",
              "      <th>PubchemFP872</th>\n",
              "      <th>PubchemFP873</th>\n",
              "      <th>PubchemFP874</th>\n",
              "      <th>PubchemFP875</th>\n",
              "      <th>PubchemFP876</th>\n",
              "      <th>PubchemFP877</th>\n",
              "      <th>PubchemFP878</th>\n",
              "      <th>PubchemFP879</th>\n",
              "      <th>PubchemFP880</th>\n",
              "    </tr>\n",
              "  </thead>\n",
              "  <tbody>\n",
              "    <tr>\n",
              "      <th>0</th>\n",
              "      <td>0</td>\n",
              "      <td>1</td>\n",
              "      <td>1</td>\n",
              "      <td>36</td>\n",
              "      <td>42</td>\n",
              "      <td>12</td>\n",
              "      <td>12</td>\n",
              "      <td>34</td>\n",
              "      <td>26</td>\n",
              "      <td>8</td>\n",
              "      <td>...</td>\n",
              "      <td>0</td>\n",
              "      <td>0</td>\n",
              "      <td>0</td>\n",
              "      <td>0</td>\n",
              "      <td>0</td>\n",
              "      <td>0</td>\n",
              "      <td>0</td>\n",
              "      <td>0</td>\n",
              "      <td>0</td>\n",
              "      <td>0</td>\n",
              "    </tr>\n",
              "    <tr>\n",
              "      <th>1</th>\n",
              "      <td>0</td>\n",
              "      <td>-1</td>\n",
              "      <td>2</td>\n",
              "      <td>59</td>\n",
              "      <td>60</td>\n",
              "      <td>11</td>\n",
              "      <td>11</td>\n",
              "      <td>54</td>\n",
              "      <td>26</td>\n",
              "      <td>28</td>\n",
              "      <td>...</td>\n",
              "      <td>0</td>\n",
              "      <td>0</td>\n",
              "      <td>0</td>\n",
              "      <td>0</td>\n",
              "      <td>0</td>\n",
              "      <td>0</td>\n",
              "      <td>0</td>\n",
              "      <td>0</td>\n",
              "      <td>0</td>\n",
              "      <td>0</td>\n",
              "    </tr>\n",
              "    <tr>\n",
              "      <th>2</th>\n",
              "      <td>0</td>\n",
              "      <td>-1</td>\n",
              "      <td>1</td>\n",
              "      <td>14</td>\n",
              "      <td>33</td>\n",
              "      <td>12</td>\n",
              "      <td>13</td>\n",
              "      <td>26</td>\n",
              "      <td>17</td>\n",
              "      <td>9</td>\n",
              "      <td>...</td>\n",
              "      <td>0</td>\n",
              "      <td>0</td>\n",
              "      <td>0</td>\n",
              "      <td>0</td>\n",
              "      <td>0</td>\n",
              "      <td>0</td>\n",
              "      <td>0</td>\n",
              "      <td>0</td>\n",
              "      <td>0</td>\n",
              "      <td>0</td>\n",
              "    </tr>\n",
              "    <tr>\n",
              "      <th>3</th>\n",
              "      <td>0</td>\n",
              "      <td>1</td>\n",
              "      <td>2</td>\n",
              "      <td>80</td>\n",
              "      <td>65</td>\n",
              "      <td>12</td>\n",
              "      <td>17</td>\n",
              "      <td>51</td>\n",
              "      <td>30</td>\n",
              "      <td>21</td>\n",
              "      <td>...</td>\n",
              "      <td>0</td>\n",
              "      <td>0</td>\n",
              "      <td>0</td>\n",
              "      <td>0</td>\n",
              "      <td>0</td>\n",
              "      <td>0</td>\n",
              "      <td>0</td>\n",
              "      <td>0</td>\n",
              "      <td>0</td>\n",
              "      <td>0</td>\n",
              "    </tr>\n",
              "    <tr>\n",
              "      <th>4</th>\n",
              "      <td>0</td>\n",
              "      <td>0</td>\n",
              "      <td>0</td>\n",
              "      <td>41</td>\n",
              "      <td>58</td>\n",
              "      <td>17</td>\n",
              "      <td>17</td>\n",
              "      <td>47</td>\n",
              "      <td>27</td>\n",
              "      <td>20</td>\n",
              "      <td>...</td>\n",
              "      <td>0</td>\n",
              "      <td>0</td>\n",
              "      <td>0</td>\n",
              "      <td>0</td>\n",
              "      <td>0</td>\n",
              "      <td>0</td>\n",
              "      <td>0</td>\n",
              "      <td>0</td>\n",
              "      <td>0</td>\n",
              "      <td>0</td>\n",
              "    </tr>\n",
              "    <tr>\n",
              "      <th>...</th>\n",
              "      <td>...</td>\n",
              "      <td>...</td>\n",
              "      <td>...</td>\n",
              "      <td>...</td>\n",
              "      <td>...</td>\n",
              "      <td>...</td>\n",
              "      <td>...</td>\n",
              "      <td>...</td>\n",
              "      <td>...</td>\n",
              "      <td>...</td>\n",
              "      <td>...</td>\n",
              "      <td>...</td>\n",
              "      <td>...</td>\n",
              "      <td>...</td>\n",
              "      <td>...</td>\n",
              "      <td>...</td>\n",
              "      <td>...</td>\n",
              "      <td>...</td>\n",
              "      <td>...</td>\n",
              "      <td>...</td>\n",
              "      <td>...</td>\n",
              "    </tr>\n",
              "    <tr>\n",
              "      <th>238</th>\n",
              "      <td>0</td>\n",
              "      <td>0</td>\n",
              "      <td>0</td>\n",
              "      <td>57</td>\n",
              "      <td>66</td>\n",
              "      <td>16</td>\n",
              "      <td>17</td>\n",
              "      <td>54</td>\n",
              "      <td>33</td>\n",
              "      <td>21</td>\n",
              "      <td>...</td>\n",
              "      <td>0</td>\n",
              "      <td>0</td>\n",
              "      <td>0</td>\n",
              "      <td>0</td>\n",
              "      <td>0</td>\n",
              "      <td>0</td>\n",
              "      <td>0</td>\n",
              "      <td>0</td>\n",
              "      <td>0</td>\n",
              "      <td>0</td>\n",
              "    </tr>\n",
              "    <tr>\n",
              "      <th>239</th>\n",
              "      <td>0</td>\n",
              "      <td>0</td>\n",
              "      <td>0</td>\n",
              "      <td>49</td>\n",
              "      <td>58</td>\n",
              "      <td>12</td>\n",
              "      <td>12</td>\n",
              "      <td>51</td>\n",
              "      <td>28</td>\n",
              "      <td>23</td>\n",
              "      <td>...</td>\n",
              "      <td>0</td>\n",
              "      <td>0</td>\n",
              "      <td>0</td>\n",
              "      <td>0</td>\n",
              "      <td>0</td>\n",
              "      <td>0</td>\n",
              "      <td>0</td>\n",
              "      <td>0</td>\n",
              "      <td>0</td>\n",
              "      <td>0</td>\n",
              "    </tr>\n",
              "    <tr>\n",
              "      <th>240</th>\n",
              "      <td>0</td>\n",
              "      <td>-1</td>\n",
              "      <td>3</td>\n",
              "      <td>44</td>\n",
              "      <td>55</td>\n",
              "      <td>12</td>\n",
              "      <td>12</td>\n",
              "      <td>48</td>\n",
              "      <td>27</td>\n",
              "      <td>21</td>\n",
              "      <td>...</td>\n",
              "      <td>0</td>\n",
              "      <td>0</td>\n",
              "      <td>0</td>\n",
              "      <td>0</td>\n",
              "      <td>0</td>\n",
              "      <td>0</td>\n",
              "      <td>0</td>\n",
              "      <td>0</td>\n",
              "      <td>0</td>\n",
              "      <td>0</td>\n",
              "    </tr>\n",
              "    <tr>\n",
              "      <th>241</th>\n",
              "      <td>0</td>\n",
              "      <td>-2</td>\n",
              "      <td>4</td>\n",
              "      <td>37</td>\n",
              "      <td>69</td>\n",
              "      <td>26</td>\n",
              "      <td>35</td>\n",
              "      <td>54</td>\n",
              "      <td>38</td>\n",
              "      <td>16</td>\n",
              "      <td>...</td>\n",
              "      <td>0</td>\n",
              "      <td>0</td>\n",
              "      <td>0</td>\n",
              "      <td>0</td>\n",
              "      <td>0</td>\n",
              "      <td>0</td>\n",
              "      <td>0</td>\n",
              "      <td>0</td>\n",
              "      <td>0</td>\n",
              "      <td>0</td>\n",
              "    </tr>\n",
              "    <tr>\n",
              "      <th>242</th>\n",
              "      <td>0</td>\n",
              "      <td>0</td>\n",
              "      <td>0</td>\n",
              "      <td>39</td>\n",
              "      <td>55</td>\n",
              "      <td>17</td>\n",
              "      <td>17</td>\n",
              "      <td>48</td>\n",
              "      <td>27</td>\n",
              "      <td>21</td>\n",
              "      <td>...</td>\n",
              "      <td>0</td>\n",
              "      <td>0</td>\n",
              "      <td>0</td>\n",
              "      <td>0</td>\n",
              "      <td>0</td>\n",
              "      <td>0</td>\n",
              "      <td>0</td>\n",
              "      <td>0</td>\n",
              "      <td>0</td>\n",
              "      <td>0</td>\n",
              "    </tr>\n",
              "  </tbody>\n",
              "</table>\n",
              "<p>243 rows × 2756 columns</p>\n",
              "</div>\n",
              "      <button class=\"colab-df-convert\" onclick=\"convertToInteractive('df-7edbd336-e7c6-4d3d-9bd6-69878658571d')\"\n",
              "              title=\"Convert this dataframe to an interactive table.\"\n",
              "              style=\"display:none;\">\n",
              "        \n",
              "  <svg xmlns=\"http://www.w3.org/2000/svg\" height=\"24px\"viewBox=\"0 0 24 24\"\n",
              "       width=\"24px\">\n",
              "    <path d=\"M0 0h24v24H0V0z\" fill=\"none\"/>\n",
              "    <path d=\"M18.56 5.44l.94 2.06.94-2.06 2.06-.94-2.06-.94-.94-2.06-.94 2.06-2.06.94zm-11 1L8.5 8.5l.94-2.06 2.06-.94-2.06-.94L8.5 2.5l-.94 2.06-2.06.94zm10 10l.94 2.06.94-2.06 2.06-.94-2.06-.94-.94-2.06-.94 2.06-2.06.94z\"/><path d=\"M17.41 7.96l-1.37-1.37c-.4-.4-.92-.59-1.43-.59-.52 0-1.04.2-1.43.59L10.3 9.45l-7.72 7.72c-.78.78-.78 2.05 0 2.83L4 21.41c.39.39.9.59 1.41.59.51 0 1.02-.2 1.41-.59l7.78-7.78 2.81-2.81c.8-.78.8-2.07 0-2.86zM5.41 20L4 18.59l7.72-7.72 1.47 1.35L5.41 20z\"/>\n",
              "  </svg>\n",
              "      </button>\n",
              "      \n",
              "  <style>\n",
              "    .colab-df-container {\n",
              "      display:flex;\n",
              "      flex-wrap:wrap;\n",
              "      gap: 12px;\n",
              "    }\n",
              "\n",
              "    .colab-df-convert {\n",
              "      background-color: #E8F0FE;\n",
              "      border: none;\n",
              "      border-radius: 50%;\n",
              "      cursor: pointer;\n",
              "      display: none;\n",
              "      fill: #1967D2;\n",
              "      height: 32px;\n",
              "      padding: 0 0 0 0;\n",
              "      width: 32px;\n",
              "    }\n",
              "\n",
              "    .colab-df-convert:hover {\n",
              "      background-color: #E2EBFA;\n",
              "      box-shadow: 0px 1px 2px rgba(60, 64, 67, 0.3), 0px 1px 3px 1px rgba(60, 64, 67, 0.15);\n",
              "      fill: #174EA6;\n",
              "    }\n",
              "\n",
              "    [theme=dark] .colab-df-convert {\n",
              "      background-color: #3B4455;\n",
              "      fill: #D2E3FC;\n",
              "    }\n",
              "\n",
              "    [theme=dark] .colab-df-convert:hover {\n",
              "      background-color: #434B5C;\n",
              "      box-shadow: 0px 1px 3px 1px rgba(0, 0, 0, 0.15);\n",
              "      filter: drop-shadow(0px 1px 2px rgba(0, 0, 0, 0.3));\n",
              "      fill: #FFFFFF;\n",
              "    }\n",
              "  </style>\n",
              "\n",
              "      <script>\n",
              "        const buttonEl =\n",
              "          document.querySelector('#df-7edbd336-e7c6-4d3d-9bd6-69878658571d button.colab-df-convert');\n",
              "        buttonEl.style.display =\n",
              "          google.colab.kernel.accessAllowed ? 'block' : 'none';\n",
              "\n",
              "        async function convertToInteractive(key) {\n",
              "          const element = document.querySelector('#df-7edbd336-e7c6-4d3d-9bd6-69878658571d');\n",
              "          const dataTable =\n",
              "            await google.colab.kernel.invokeFunction('convertToInteractive',\n",
              "                                                     [key], {});\n",
              "          if (!dataTable) return;\n",
              "\n",
              "          const docLinkHtml = 'Like what you see? Visit the ' +\n",
              "            '<a target=\"_blank\" href=https://colab.research.google.com/notebooks/data_table.ipynb>data table notebook</a>'\n",
              "            + ' to learn more about interactive tables.';\n",
              "          element.innerHTML = '';\n",
              "          dataTable['output_type'] = 'display_data';\n",
              "          await google.colab.output.renderOutput(dataTable, element);\n",
              "          const docLink = document.createElement('div');\n",
              "          docLink.innerHTML = docLinkHtml;\n",
              "          element.appendChild(docLink);\n",
              "        }\n",
              "      </script>\n",
              "    </div>\n",
              "  </div>\n",
              "  "
            ]
          },
          "metadata": {},
          "execution_count": 4
        }
      ]
    },
    {
      "cell_type": "code",
      "source": [
        "# Use numpy to convert to arrays\n",
        "import numpy as np\n",
        "\n",
        "# Labels are the values we want to predict\n",
        "labels = np.array(df7['pIC50'])\n",
        "\n",
        "# Remove the labels from the features\n",
        "# axis 1 refers to the columns\n",
        "features= df7.drop('pIC50', axis = 1)\n",
        "\n",
        "# Saving feature names for later use\n",
        "feature_list = list(features.columns)\n",
        "\n",
        "# Convert to numpy array\n",
        "features = np.array(features)"
      ],
      "metadata": {
        "id": "B4O-Bbg-qPbJ"
      },
      "execution_count": null,
      "outputs": []
    },
    {
      "cell_type": "code",
      "source": [
        "# Using Skicit-learn to split data into training and testing sets\n",
        "from sklearn.model_selection import train_test_split\n",
        "\n",
        "# Split the data into training and testing sets\n",
        "train_features, test_features, train_labels, test_labels = train_test_split(features, labels, test_size = 0.25,\n",
        "                                                                           random_state = 42)"
      ],
      "metadata": {
        "id": "gk7LWfRZqy48"
      },
      "execution_count": null,
      "outputs": []
    },
    {
      "cell_type": "code",
      "source": [
        "print('Training Features Shape:', train_features.shape)\n",
        "print('Training Labels Shape:', train_labels.shape)\n",
        "print('Testing Features Shape:', test_features.shape)\n",
        "print('Testing Labels Shape:', test_labels.shape)"
      ],
      "metadata": {
        "colab": {
          "base_uri": "https://localhost:8080/"
        },
        "id": "_ErTD5-oq2Uu",
        "outputId": "0a654d36-49a6-48d6-dd78-296b1fa665dc"
      },
      "execution_count": null,
      "outputs": [
        {
          "output_type": "stream",
          "name": "stdout",
          "text": [
            "Training Features Shape: (182, 2756)\n",
            "Training Labels Shape: (182,)\n",
            "Testing Features Shape: (61, 2756)\n",
            "Testing Labels Shape: (61,)\n"
          ]
        }
      ]
    },
    {
      "cell_type": "markdown",
      "metadata": {
        "id": "t6s0BfcKuA9w"
      },
      "source": [
        "## Data Preparation"
      ]
    },
    {
      "cell_type": "code",
      "execution_count": null,
      "metadata": {
        "id": "KrHuGMSRuA9w",
        "outputId": "94fa9fc9-5eeb-49b2-bee0-83db0c22587d",
        "colab": {
          "base_uri": "https://localhost:8080/"
        }
      },
      "outputs": [
        {
          "output_type": "stream",
          "name": "stdout",
          "text": [
            "Training Features Shape: (182, 2756)\n",
            "Training Labels Shape: (182,)\n",
            "Testing Features Shape: (61, 2756)\n",
            "Testing Labels Shape: (61,)\n"
          ]
        }
      ],
      "source": [
        "print('Training Features Shape:', train_features.shape)\n",
        "print('Training Labels Shape:', train_labels.shape)\n",
        "print('Testing Features Shape:', test_features.shape)\n",
        "print('Testing Labels Shape:', test_labels.shape)"
      ]
    },
    {
      "cell_type": "markdown",
      "metadata": {
        "id": "GBmcdUxNuA9w"
      },
      "source": [
        "## Establish baseline"
      ]
    },
    {
      "cell_type": "code",
      "source": [
        "# Import the model we are using\n",
        "from sklearn.ensemble import RandomForestRegressor\n",
        "\n",
        "# Instantiate model \n",
        "rf = RandomForestRegressor(n_estimators= 1000, random_state=42)\n",
        "\n",
        "# Train the model on training data\n",
        "rf.fit(train_features, train_labels);"
      ],
      "metadata": {
        "id": "ruHmAQf1rT1i"
      },
      "execution_count": null,
      "outputs": []
    },
    {
      "cell_type": "code",
      "source": [
        "# Use the forest's predict method on the test data\n",
        "predictions = rf.predict(test_features)\n",
        "\n",
        "# Calculate the absolute errors\n",
        "errors = abs(predictions - test_labels)\n",
        "\n",
        "# Print out the mean absolute error (mae)\n",
        "print('Mean Absolute Error:', round(np.mean(errors), 2), 'pIC50 value')"
      ],
      "metadata": {
        "colab": {
          "base_uri": "https://localhost:8080/"
        },
        "id": "Y8h2vVFLrfFm",
        "outputId": "aba943b6-141b-4e5c-e116-32aa95b52377"
      },
      "execution_count": null,
      "outputs": [
        {
          "output_type": "stream",
          "name": "stdout",
          "text": [
            "Mean Absolute Error: 0.34 pIC50 value\n"
          ]
        }
      ]
    },
    {
      "cell_type": "code",
      "source": [
        "# Calculate mean absolute percentage error (MAPE)\n",
        "mape = 100 * (errors / test_labels)\n",
        "\n",
        "# Calculate and display accuracy\n",
        "accuracy = 100 - np.mean(mape)\n",
        "print('Accuracy:', round(accuracy, 2), '%.')"
      ],
      "metadata": {
        "colab": {
          "base_uri": "https://localhost:8080/"
        },
        "id": "Yp1IAxSfrs8S",
        "outputId": "20c417a8-30d6-4551-d9b7-11e2aed41328"
      },
      "execution_count": null,
      "outputs": [
        {
          "output_type": "stream",
          "name": "stdout",
          "text": [
            "Accuracy: 93.21 %.\n"
          ]
        }
      ]
    },
    {
      "cell_type": "markdown",
      "metadata": {
        "id": "Z2H1uB-nuA9x"
      },
      "source": [
        "## Train on Expanded Data and Features"
      ]
    },
    {
      "cell_type": "code",
      "execution_count": null,
      "metadata": {
        "id": "tQTdM4tcuA9x"
      },
      "outputs": [],
      "source": [
        "# Instantiate random forest and train on new features\n",
        "from sklearn.ensemble import RandomForestRegressor\n",
        "\n",
        "rf_exp = RandomForestRegressor(n_estimators= 1000, random_state=42)\n",
        "rf_exp.fit(train_features, train_labels);"
      ]
    },
    {
      "cell_type": "markdown",
      "metadata": {
        "id": "s90ngtgOuA9x"
      },
      "source": [
        "## Metrics for Expanded Data and Features"
      ]
    },
    {
      "cell_type": "code",
      "execution_count": null,
      "metadata": {
        "id": "S1HtbGPluA9x",
        "outputId": "ea7815d3-fbac-443f-bf45-1ee73f66df32",
        "colab": {
          "base_uri": "https://localhost:8080/"
        }
      },
      "outputs": [
        {
          "output_type": "stream",
          "name": "stdout",
          "text": [
            "Metrics for Random Forest Trained on Expanded Data\n",
            "Average absolute error: 0.3367 degrees.\n",
            "Accuracy: 93.21 %.\n"
          ]
        }
      ],
      "source": [
        "# Make predictions on test data\n",
        "predictions = rf_exp.predict(test_features)\n",
        "\n",
        "# Performance metrics\n",
        "errors = abs(predictions - test_labels)\n",
        "\n",
        "print('Metrics for Random Forest Trained on Expanded Data')\n",
        "print('Average absolute error:', round(np.mean(errors), 4), 'degrees.')\n",
        "\n",
        "# Calculate mean absolute percentage error (MAPE)\n",
        "mape = np.mean(100 * (errors / test_labels))\n",
        "\n",
        "# Calculate and display accuracy\n",
        "accuracy = 100 - mape\n",
        "print('Accuracy:', round(accuracy, 2), '%.')"
      ]
    },
    {
      "cell_type": "code",
      "source": [
        ""
      ],
      "metadata": {
        "id": "7fv4FDUvzwN8"
      },
      "execution_count": null,
      "outputs": []
    },
    {
      "cell_type": "markdown",
      "metadata": {
        "id": "nwmVA6T-uA9x"
      },
      "source": [
        "# Feature Reduction\n",
        "\n",
        "From previous experience and the graphs produced at the beginning, we know that some features are not useful for our pIC50 prediction problem. To reduce the number of features, which will reduce runtime, hopefully without significantly reducing performance, we can examine the feature importances from the random forest."
      ]
    },
    {
      "cell_type": "markdown",
      "metadata": {
        "id": "rr2LP-n2uA9x"
      },
      "source": [
        "### Feature Importances"
      ]
    },
    {
      "cell_type": "code",
      "execution_count": null,
      "metadata": {
        "id": "s4VeddtKuA9x"
      },
      "outputs": [],
      "source": [
        "# Get numerical feature importances\n",
        "importances = list(rf_exp.feature_importances_)\n",
        "\n",
        "# List of tuples with variable and importance\n",
        "feature_importances = [(feature, round(importance, 2)) for feature, importance in zip(feature_list, importances)]\n",
        "\n",
        "# Sort the feature importances by most important first\n",
        "feature_importances = sorted(feature_importances, key = lambda x: x[1], reverse = True)\n",
        "\n",
        "# Print out the feature and importances \n",
        "[print('Variable: {:20} Importance: {}'.format(*pair)) for pair in feature_importances];"
      ]
    },
    {
      "cell_type": "markdown",
      "metadata": {
        "id": "vQIqgfgeuA9y"
      },
      "source": [
        "#### Visualize Feature Importances"
      ]
    },
    {
      "cell_type": "code",
      "source": [
        "import matplotlib.pyplot as plt \n",
        "%matplotlib inline"
      ],
      "metadata": {
        "id": "Rz-44eTuvrSt"
      },
      "execution_count": null,
      "outputs": []
    },
    {
      "cell_type": "code",
      "execution_count": null,
      "metadata": {
        "id": "Tdf7jCC9uA9y",
        "outputId": "ec66620c-7a34-410d-bf9e-6fafe7b263e2",
        "colab": {
          "base_uri": "https://localhost:8080/",
          "height": 438
        }
      },
      "outputs": [
        {
          "output_type": "display_data",
          "data": {
            "text/plain": [
              "<Figure size 432x288 with 1 Axes>"
            ],
            "image/png": "[encoded data removed]"
          },
          "metadata": {}
        }
      ],
      "source": [
        "# Reset style \n",
        "plt.style.use('fivethirtyeight')\n",
        "\n",
        "# list of x locations for plotting\n",
        "x_values = list(range(len(importances)))\n",
        "\n",
        "# Make a bar chart\n",
        "plt.bar(x_values, importances, orientation = 'vertical', color = 'r', edgecolor = 'k', linewidth = 1.2)\n",
        "\n",
        "# Tick labels for x axis\n",
        "plt.xticks(x_values, feature_list, rotation='vertical')\n",
        "\n",
        "# Axis labels and title\n",
        "plt.ylabel('Importance'); plt.xlabel('Variable'); plt.title('Variable Importances');"
      ]
    },
    {
      "cell_type": "code",
      "execution_count": null,
      "metadata": {
        "id": "nx7SCq30uA9y",
        "outputId": "ea47260c-94c1-413b-da0e-6b8c7aaca865",
        "colab": {
          "base_uri": "https://localhost:8080/",
          "height": 438
        }
      },
      "outputs": [
        {
          "output_type": "display_data",
          "data": {
            "text/plain": [
              "<Figure size 432x288 with 1 Axes>"
            ],
            "image/png": "[encoded data removed]"
          },
          "metadata": {}
        }
      ],
      "source": [
        "# List of features sorted from most to least important\n",
        "sorted_importances = [importance[1] for importance in feature_importances]\n",
        "sorted_features = [importance[0] for importance in feature_importances]\n",
        "\n",
        "# Cumulative importances\n",
        "cumulative_importances = np.cumsum(sorted_importances)\n",
        "\n",
        "# Make a line graph\n",
        "plt.plot(x_values, cumulative_importances, 'g-')\n",
        "\n",
        "# Draw line at 95% of importance retained\n",
        "plt.hlines(y = 0.95, xmin=0, xmax=len(sorted_importances), color = 'r', linestyles = 'dashed')\n",
        "\n",
        "# Format x ticks and labels\n",
        "plt.xticks(x_values, sorted_features, rotation = 'vertical')\n",
        "\n",
        "# Axis labels and title\n",
        "plt.xlabel('Variable'); plt.ylabel('Cumulative Importance'); plt.title('Cumulative Importances');"
      ]
    },
    {
      "cell_type": "markdown",
      "metadata": {
        "id": "aT_1iXPmuA9y"
      },
      "source": [
        "### Limit Number of Features \n",
        "\n",
        "We will now reduce the number of features in use by the model to only those required to account for 95% of the importance. \n",
        "The same number of features must be used in the training and testing sets."
      ]
    },
    {
      "cell_type": "code",
      "execution_count": null,
      "metadata": {
        "id": "-wbBx-fcuA9y",
        "outputId": "2c265ae5-c4e2-458d-c3a1-0734698d9e06",
        "colab": {
          "base_uri": "https://localhost:8080/"
        }
      },
      "outputs": [
        {
          "output_type": "stream",
          "name": "stdout",
          "text": [
            "Important train features shape: (182, 31)\n",
            "Important test features shape: (61, 31)\n"
          ]
        }
      ],
      "source": [
        "# Extract the names of the most important features\n",
        "important_feature_names = [feature[0] for feature in feature_importances[0:31]]\n",
        "# Find the columns of the most important features\n",
        "important_indices = [feature_list.index(feature) for feature in important_feature_names]\n",
        "\n",
        "# Create training and testing sets with only the important features\n",
        "important_train_features = train_features[:, important_indices]\n",
        "important_test_features = test_features[:, important_indices]\n",
        "\n",
        "# Sanity check on operations\n",
        "print('Important train features shape:', important_train_features.shape)\n",
        "print('Important test features shape:', important_test_features.shape)\n"
      ]
    },
    {
      "cell_type": "code",
      "source": [
        "feature_importances[0:31]"
      ],
      "metadata": {
        "id": "65VJAS91xPkb",
        "outputId": "b6becadf-7925-495f-826c-19da24fe7941",
        "colab": {
          "base_uri": "https://localhost:8080/"
        }
      },
      "execution_count": null,
      "outputs": [
        {
          "output_type": "execute_result",
          "data": {
            "text/plain": [
              "[('VE1_Dt', 0.08),\n",
              " ('minHBint5', 0.05),\n",
              " ('SHssNH', 0.03),\n",
              " ('ATSC3c', 0.02),\n",
              " ('GATS5s', 0.02),\n",
              " ('SpMax1_Bhm', 0.02),\n",
              " ('minHBint3', 0.02),\n",
              " ('AATS0s', 0.01),\n",
              " ('MATS4c', 0.01),\n",
              " ('MATS5c', 0.01),\n",
              " ('MATS2m', 0.01),\n",
              " ('GATS1e', 0.01),\n",
              " ('AVP-0', 0.01),\n",
              " ('VE2_Dt', 0.01),\n",
              " ('VE3_Dt', 0.01),\n",
              " ('nHBint5', 0.01),\n",
              " ('SssCH2', 0.01),\n",
              " ('SsOm', 0.01),\n",
              " ('minHBint7', 0.01),\n",
              " ('minHCsats', 0.01),\n",
              " ('minsOm', 0.01),\n",
              " ('maxHCsats', 0.01),\n",
              " ('maxsOm', 0.01),\n",
              " ('ETA_Shape_Y', 0.01),\n",
              " ('nFRing', 0.01),\n",
              " ('nF11Ring', 0.01),\n",
              " ('nT11Ring', 0.01),\n",
              " ('nT11HeteroRing', 0.01),\n",
              " ('L3m', 0.01),\n",
              " ('Dp', 0.01),\n",
              " ('PubchemFP346', 0.01)]"
            ]
          },
          "metadata": {},
          "execution_count": 34
        }
      ]
    },
    {
      "cell_type": "markdown",
      "metadata": {
        "id": "b8QfKK40uA9y"
      },
      "source": [
        "### Training on Important Features"
      ]
    },
    {
      "cell_type": "code",
      "execution_count": null,
      "metadata": {
        "id": "d1pKW0bruA9y"
      },
      "outputs": [],
      "source": [
        "# Train the expanded model on only the important features\n",
        "rf_exp.fit(important_train_features, train_labels);"
      ]
    },
    {
      "cell_type": "markdown",
      "metadata": {
        "id": "gp7UXGVWuA9y"
      },
      "source": [
        "### Evaluate on Important features"
      ]
    },
    {
      "cell_type": "code",
      "execution_count": null,
      "metadata": {
        "id": "smIyaRXOuA9y",
        "outputId": "1a0a5bfa-755a-43fe-b38a-c0d549795df9",
        "colab": {
          "base_uri": "https://localhost:8080/"
        }
      },
      "outputs": [
        {
          "output_type": "stream",
          "name": "stdout",
          "text": [
            "Average absolute error: 0.3431 pIC50\n",
            "Accuracy: 93.06 %.\n"
          ]
        }
      ],
      "source": [
        "# Make predictions on test data\n",
        "predictions = rf_exp.predict(important_test_features)\n",
        "\n",
        "# Performance metrics\n",
        "errors = abs(predictions - test_labels)\n",
        "\n",
        "print('Average absolute error:', round(np.mean(errors), 4), 'pIC50')\n",
        "\n",
        "# Calculate mean absolute percentage error (MAPE)\n",
        "mape = 100 * (errors / test_labels)\n",
        "\n",
        "# Calculate and display accuracy\n",
        "accuracy = 100 - np.mean(mape)\n",
        "print('Accuracy:', round(accuracy, 2), '%.')"
      ]
    },
    {
      "cell_type": "markdown",
      "metadata": {
        "id": "k02TrPOhuA9z"
      },
      "source": [
        "Using only the 31 most important features (instead of all 2756) results in a minor decrease in accuracy by 0.17. For some models, decreasing the number of features can increase performance and therefore should be done. However, in other situations, performance will decrease but run time will also decrease. The final decision on how many features to retain will therefore be a trade-off between accuracy and run time. "
      ]
    },
    {
      "cell_type": "markdown",
      "metadata": {
        "id": "4zhhJR2ouA9z"
      },
      "source": [
        "## Compare Trade-Offs"
      ]
    },
    {
      "cell_type": "code",
      "execution_count": null,
      "metadata": {
        "id": "gUFtlyKguA9z",
        "outputId": "67cdc92c-dbd7-4e39-ef62-2d4707549df5",
        "colab": {
          "base_uri": "https://localhost:8080/"
        }
      },
      "outputs": [
        {
          "metadata": {
            "tags": null
          },
          "name": "stdout",
          "output_type": "stream",
          "text": [
            "All features total training and testing time: 111.3 seconds.\n"
          ]
        }
      ],
      "source": [
        "# Use time library for run time evaluation\n",
        "import time\n",
        "\n",
        "# All features training and testing time\n",
        "all_features_time = []\n",
        "\n",
        "# Do 10 iterations and take average for all features\n",
        "for _ in range(10):\n",
        "    start_time = time.time()\n",
        "    rf_exp.fit(train_features, train_labels)\n",
        "    all_features_predictions = rf_exp.predict(test_features)\n",
        "    end_time = time.time()\n",
        "    all_features_time.append(end_time - start_time)\n",
        "\n",
        "all_features_time = np.mean(all_features_time)\n",
        "print('All features total training and testing time:', round(all_features_time, 2), 'seconds.')"
      ]
    },
    {
      "cell_type": "code",
      "execution_count": null,
      "metadata": {
        "id": "eIHFEp5fuA9z",
        "outputId": "96eb6aee-81e2-4cd7-ef89-4874195c8efe",
        "colab": {
          "base_uri": "https://localhost:8080/"
        }
      },
      "outputs": [
        {
          "metadata": {
            "tags": null
          },
          "name": "stdout",
          "output_type": "stream",
          "text": [
            "Reduced features total training and testing time: 3.06 seconds.\n"
          ]
        }
      ],
      "source": [
        "# Time training and testing for reduced feature set\n",
        "reduced_features_time = []\n",
        "\n",
        "# Do 10 iterations and take average\n",
        "for _ in range(10):\n",
        "    start_time = time.time()\n",
        "    rf_exp.fit(important_train_features, train_labels)\n",
        "    reduced_features_predictions = rf_exp.predict(important_test_features)\n",
        "    end_time = time.time()\n",
        "    reduced_features_time.append(end_time - start_time)\n",
        "\n",
        "reduced_features_time = np.mean(reduced_features_time)\n",
        "print('Reduced features total training and testing time:', round(reduced_features_time, 2), 'seconds.')"
      ]
    },
    {
      "cell_type": "markdown",
      "metadata": {
        "id": "9lqAXsI_uA9z"
      },
      "source": [
        "### Accuracy vs Run-Time"
      ]
    },
    {
      "cell_type": "code",
      "execution_count": null,
      "metadata": {
        "id": "gdFXw0AcuA9z",
        "outputId": "2c66e044-1e4c-4d7d-c255-6641914b09d8",
        "colab": {
          "base_uri": "https://localhost:8080/",
          "height": 112
        }
      },
      "outputs": [
        {
          "data": {
            "text/html": [
              "\n",
              "  <div id=\"df-c5c894b1-6d2e-4f1b-9703-e283787134a7\">\n",
              "    <div class=\"colab-df-container\">\n",
              "      <div>\n",
              "<style scoped>\n",
              "    .dataframe tbody tr th:only-of-type {\n",
              "        vertical-align: middle;\n",
              "    }\n",
              "\n",
              "    .dataframe tbody tr th {\n",
              "        vertical-align: top;\n",
              "    }\n",
              "\n",
              "    .dataframe thead th {\n",
              "        text-align: right;\n",
              "    }\n",
              "</style>\n",
              "<table border=\"1\" class=\"dataframe\">\n",
              "  <thead>\n",
              "    <tr style=\"text-align: right;\">\n",
              "      <th></th>\n",
              "      <th>features</th>\n",
              "      <th>accuracy</th>\n",
              "      <th>run_time</th>\n",
              "    </tr>\n",
              "  </thead>\n",
              "  <tbody>\n",
              "    <tr>\n",
              "      <th>0</th>\n",
              "      <td>all (17)</td>\n",
              "      <td>93.21</td>\n",
              "      <td>111.30</td>\n",
              "    </tr>\n",
              "    <tr>\n",
              "      <th>1</th>\n",
              "      <td>reduced (5)</td>\n",
              "      <td>93.06</td>\n",
              "      <td>3.06</td>\n",
              "    </tr>\n",
              "  </tbody>\n",
              "</table>\n",
              "</div>\n",
              "      <button class=\"colab-df-convert\" onclick=\"convertToInteractive('df-c5c894b1-6d2e-4f1b-9703-e283787134a7')\"\n",
              "              title=\"Convert this dataframe to an interactive table.\"\n",
              "              style=\"display:none;\">\n",
              "        \n",
              "  <svg xmlns=\"http://www.w3.org/2000/svg\" height=\"24px\"viewBox=\"0 0 24 24\"\n",
              "       width=\"24px\">\n",
              "    <path d=\"M0 0h24v24H0V0z\" fill=\"none\"/>\n",
              "    <path d=\"M18.56 5.44l.94 2.06.94-2.06 2.06-.94-2.06-.94-.94-2.06-.94 2.06-2.06.94zm-11 1L8.5 8.5l.94-2.06 2.06-.94-2.06-.94L8.5 2.5l-.94 2.06-2.06.94zm10 10l.94 2.06.94-2.06 2.06-.94-2.06-.94-.94-2.06-.94 2.06-2.06.94z\"/><path d=\"M17.41 7.96l-1.37-1.37c-.4-.4-.92-.59-1.43-.59-.52 0-1.04.2-1.43.59L10.3 9.45l-7.72 7.72c-.78.78-.78 2.05 0 2.83L4 21.41c.39.39.9.59 1.41.59.51 0 1.02-.2 1.41-.59l7.78-7.78 2.81-2.81c.8-.78.8-2.07 0-2.86zM5.41 20L4 18.59l7.72-7.72 1.47 1.35L5.41 20z\"/>\n",
              "  </svg>\n",
              "      </button>\n",
              "      \n",
              "  <style>\n",
              "    .colab-df-container {\n",
              "      display:flex;\n",
              "      flex-wrap:wrap;\n",
              "      gap: 12px;\n",
              "    }\n",
              "\n",
              "    .colab-df-convert {\n",
              "      background-color: #E8F0FE;\n",
              "      border: none;\n",
              "      border-radius: 50%;\n",
              "      cursor: pointer;\n",
              "      display: none;\n",
              "      fill: #1967D2;\n",
              "      height: 32px;\n",
              "      padding: 0 0 0 0;\n",
              "      width: 32px;\n",
              "    }\n",
              "\n",
              "    .colab-df-convert:hover {\n",
              "      background-color: #E2EBFA;\n",
              "      box-shadow: 0px 1px 2px rgba(60, 64, 67, 0.3), 0px 1px 3px 1px rgba(60, 64, 67, 0.15);\n",
              "      fill: #174EA6;\n",
              "    }\n",
              "\n",
              "    [theme=dark] .colab-df-convert {\n",
              "      background-color: #3B4455;\n",
              "      fill: #D2E3FC;\n",
              "    }\n",
              "\n",
              "    [theme=dark] .colab-df-convert:hover {\n",
              "      background-color: #434B5C;\n",
              "      box-shadow: 0px 1px 3px 1px rgba(0, 0, 0, 0.15);\n",
              "      filter: drop-shadow(0px 1px 2px rgba(0, 0, 0, 0.3));\n",
              "      fill: #FFFFFF;\n",
              "    }\n",
              "  </style>\n",
              "\n",
              "      <script>\n",
              "        const buttonEl =\n",
              "          document.querySelector('#df-c5c894b1-6d2e-4f1b-9703-e283787134a7 button.colab-df-convert');\n",
              "        buttonEl.style.display =\n",
              "          google.colab.kernel.accessAllowed ? 'block' : 'none';\n",
              "\n",
              "        async function convertToInteractive(key) {\n",
              "          const element = document.querySelector('#df-c5c894b1-6d2e-4f1b-9703-e283787134a7');\n",
              "          const dataTable =\n",
              "            await google.colab.kernel.invokeFunction('convertToInteractive',\n",
              "                                                     [key], {});\n",
              "          if (!dataTable) return;\n",
              "\n",
              "          const docLinkHtml = 'Like what you see? Visit the ' +\n",
              "            '<a target=\"_blank\" href=https://colab.research.google.com/notebooks/data_table.ipynb>data table notebook</a>'\n",
              "            + ' to learn more about interactive tables.';\n",
              "          element.innerHTML = '';\n",
              "          dataTable['output_type'] = 'display_data';\n",
              "          await google.colab.output.renderOutput(dataTable, element);\n",
              "          const docLink = document.createElement('div');\n",
              "          docLink.innerHTML = docLinkHtml;\n",
              "          element.appendChild(docLink);\n",
              "        }\n",
              "      </script>\n",
              "    </div>\n",
              "  </div>\n",
              "  "
            ],
            "text/plain": [
              "      features  accuracy  run_time\n",
              "0     all (17)     93.21    111.30\n",
              "1  reduced (5)     93.06      3.06"
            ]
          },
          "execution_count": null,
          "metadata": {},
          "output_type": "execute_result"
        }
      ],
      "source": [
        "all_accuracy =  100 * (1- np.mean(abs(all_features_predictions - test_labels) / test_labels))\n",
        "reduced_accuracy = 100 * (1- np.mean(abs(reduced_features_predictions - test_labels) / test_labels))\n",
        "\n",
        "comparison = pd.DataFrame({'features': ['all (17)', 'reduced (5)'], \n",
        "                           'run_time': [round(all_features_time, 2), round(reduced_features_time, 2)],\n",
        "                           'accuracy': [round(all_accuracy, 2), round(reduced_accuracy, 2)]})\n",
        "\n",
        "comparison[['features', 'accuracy', 'run_time']]"
      ]
    },
    {
      "cell_type": "code",
      "execution_count": null,
      "metadata": {
        "id": "gZ0OAu_SuA9z",
        "outputId": "c4800b4c-f866-4550-96a5-7ed5d1fe5b7a",
        "colab": {
          "base_uri": "https://localhost:8080/"
        }
      },
      "outputs": [
        {
          "metadata": {
            "tags": null
          },
          "name": "stdout",
          "output_type": "stream",
          "text": [
            "Relative decrease in accuracy: 0.155 %.\n",
            "Relative decrease in run time: 97.249 %.\n"
          ]
        }
      ],
      "source": [
        "relative_accuracy_decrease = 100 * (all_accuracy - reduced_accuracy) / all_accuracy\n",
        "print('Relative decrease in accuracy:', round(relative_accuracy_decrease, 3), '%.')\n",
        "\n",
        "relative_runtime_decrease = 100 * (all_features_time - reduced_features_time) / all_features_time\n",
        "print('Relative decrease in run time:', round(relative_runtime_decrease, 3), '%.')"
      ]
    },
    {
      "cell_type": "markdown",
      "source": [
        "## improve accuracy"
      ],
      "metadata": {
        "id": "GhcG97nE8YuG"
      }
    },
    {
      "cell_type": "code",
      "source": [
        "# Use only the most important features\n",
        "train_features = important_train_features[:]\n",
        "test_features = important_test_features[:]\n",
        "\n",
        "# Update feature list for visualizations\n",
        "feature_list = important_feature_names[:]"
      ],
      "metadata": {
        "id": "tm8yQpST8b6_"
      },
      "execution_count": null,
      "outputs": []
    },
    {
      "cell_type": "code",
      "source": [
        "from pprint import pprint\n",
        "# Look at parameters used by our current forest\n",
        "print('Parameters currently in use:\\n')\n",
        "pprint(rf_exp.get_params())"
      ],
      "metadata": {
        "id": "F2x_KhZi8nxW",
        "outputId": "33894301-6011-42c9-e913-95b5079b23e5",
        "colab": {
          "base_uri": "https://localhost:8080/"
        }
      },
      "execution_count": null,
      "outputs": [
        {
          "output_type": "stream",
          "name": "stdout",
          "text": [
            "Parameters currently in use:\n",
            "\n",
            "{'bootstrap': True,\n",
            " 'ccp_alpha': 0.0,\n",
            " 'criterion': 'squared_error',\n",
            " 'max_depth': None,\n",
            " 'max_features': 'auto',\n",
            " 'max_leaf_nodes': None,\n",
            " 'max_samples': None,\n",
            " 'min_impurity_decrease': 0.0,\n",
            " 'min_samples_leaf': 1,\n",
            " 'min_samples_split': 2,\n",
            " 'min_weight_fraction_leaf': 0.0,\n",
            " 'n_estimators': 1000,\n",
            " 'n_jobs': None,\n",
            " 'oob_score': False,\n",
            " 'random_state': 42,\n",
            " 'verbose': 0,\n",
            " 'warm_start': False}\n"
          ]
        }
      ]
    },
    {
      "cell_type": "markdown",
      "source": [
        "### Random Search with Cross Validation"
      ],
      "metadata": {
        "id": "3_0QT92n83G2"
      }
    },
    {
      "cell_type": "code",
      "source": [
        "from sklearn.model_selection import RandomizedSearchCV\n",
        "\n",
        "# Number of trees in random forest\n",
        "n_estimators = [int(x) for x in np.linspace(start = 200, stop = 2000, num = 10)]\n",
        "# Number of features to consider at every split\n",
        "max_features = ['auto', 'sqrt']\n",
        "# Maximum number of levels in tree\n",
        "max_depth = [int(x) for x in np.linspace(10, 100, num = 10)]\n",
        "max_depth.append(None)\n",
        "# Minimum number of samples required to split a node\n",
        "min_samples_split = [2, 5, 10]\n",
        "# Minimum number of samples required at each leaf node\n",
        "min_samples_leaf = [1, 2, 4]\n",
        "# Method of selecting samples for training each tree\n",
        "bootstrap = [True, False]\n",
        "\n",
        "# Create the random grid\n",
        "random_grid = {'n_estimators': n_estimators,\n",
        "               'max_features': max_features,\n",
        "               'max_depth': max_depth,\n",
        "               'min_samples_split': min_samples_split,\n",
        "               'min_samples_leaf': min_samples_leaf,\n",
        "               'bootstrap': bootstrap}"
      ],
      "metadata": {
        "id": "LATvZkeY8xsr"
      },
      "execution_count": null,
      "outputs": []
    },
    {
      "cell_type": "code",
      "source": [
        "# Use the random grid to search for best hyperparameters\n",
        "# First create the base model to tune\n",
        "rf = RandomForestRegressor()\n",
        "# Random search of parameters, using 3 fold cross validation, \n",
        "# search across 100 different combinations, and use all available cores\n",
        "rf_random = RandomizedSearchCV(estimator=rf, param_distributions=random_grid,\n",
        "                              n_iter = 100, scoring='neg_mean_absolute_error', \n",
        "                              cv = 3, verbose=2, random_state=42, n_jobs=-1)\n",
        "\n",
        "# Fit the random search model\n",
        "rf_random.fit(train_features, train_labels)"
      ],
      "metadata": {
        "id": "4k6rmanV8-WJ",
        "outputId": "2983db2a-c9d1-47da-9dbd-50ed13126038",
        "colab": {
          "base_uri": "https://localhost:8080/"
        }
      },
      "execution_count": null,
      "outputs": [
        {
          "output_type": "stream",
          "name": "stdout",
          "text": [
            "Fitting 3 folds for each of 100 candidates, totalling 300 fits\n"
          ]
        }
      ]
    },
    {
      "cell_type": "code",
      "source": [
        "rf_random.best_params_"
      ],
      "metadata": {
        "id": "o83QkjSd9Ms7"
      },
      "execution_count": null,
      "outputs": []
    },
    {
      "cell_type": "markdown",
      "source": [
        "### evaluate function"
      ],
      "metadata": {
        "id": "1JHdxLoW9QF1"
      }
    },
    {
      "cell_type": "code",
      "source": [
        "def evaluate(model, test_features, test_labels):\n",
        "    predictions = model.predict(test_features)\n",
        "    errors = abs(predictions - test_labels)\n",
        "    mape = 100 * np.mean(errors / test_labels)\n",
        "    accuracy = 100 - mape\n",
        "    print('Model Performance')\n",
        "    print('Average Error: {:0.4f} degrees.'.format(np.mean(errors)))\n",
        "    print('Accuracy = {:0.2f}%.'.format(accuracy))"
      ],
      "metadata": {
        "id": "29kHMWDJ9NMG"
      },
      "execution_count": null,
      "outputs": []
    },
    {
      "cell_type": "markdown",
      "source": [
        "Evaluate the Default Model"
      ],
      "metadata": {
        "id": "fubDUbc29djV"
      }
    },
    {
      "cell_type": "code",
      "source": [
        "base_model = RandomForestRegressor(n_estimators = 1000, random_state = 42)\n",
        "base_model.fit(train_features, train_labels)\n",
        "evaluate(base_model, test_features, test_labels)"
      ],
      "metadata": {
        "id": "naJ15i3W9Zdl"
      },
      "execution_count": null,
      "outputs": []
    },
    {
      "cell_type": "markdown",
      "source": [
        "Evaluate the Best Random Search Model"
      ],
      "metadata": {
        "id": "iHjphpWE9iBQ"
      }
    },
    {
      "cell_type": "code",
      "source": [
        "best_random = rf_random.best_estimator_\n",
        "evaluate(best_random, test_features, test_labels)"
      ],
      "metadata": {
        "id": "kZTJKWhX9hbf"
      },
      "execution_count": null,
      "outputs": []
    }
  ],
  "metadata": {
    "kernelspec": {
      "display_name": "Python 3",
      "language": "python",
      "name": "python3"
    },
    "language_info": {
      "codemirror_mode": {
        "name": "ipython",
        "version": 3
      },
      "file_extension": ".py",
      "mimetype": "text/x-python",
      "name": "python",
      "nbconvert_exporter": "python",
      "pygments_lexer": "ipython3",
      "version": "3.6.0"
    },
    "colab": {
      "name": "2.8_ Improving RF.ipynb",
      "provenance": [],
      "include_colab_link": true
    }
  },
  "nbformat": 4,
  "nbformat_minor": 0
}