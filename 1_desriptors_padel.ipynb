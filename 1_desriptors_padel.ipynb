{
  "cells": [
    {
      "cell_type": "markdown",
      "metadata": {
        "id": "view-in-github",
        "colab_type": "text"
      },
      "source": [
        "<a href=\"https://colab.research.google.com/github/grjadhav409/ATG4B-inhibitors-prediction-using-ML/blob/main/1_desriptors_padel.ipynb\" target=\"_parent\"><img src=\"https://colab.research.google.com/assets/colab-badge.svg\" alt=\"Open In Colab\"/></a>"
      ]
    },
    {
      "cell_type": "code",
      "execution_count": null,
      "metadata": {
        "id": "vu3B1hvGm3P1",
        "outputId": "8c520785-f8ed-4056-fb02-59b0fd5de38c",
        "colab": {
          "base_uri": "https://localhost:8080/"
        }
      },
      "outputs": [
        {
          "output_type": "stream",
          "name": "stdout",
          "text": [
            "Mounted at /content/drive\n"
          ]
        }
      ],
      "source": [
        "from google.colab import drive\n",
        "drive.mount('/content/drive')"
      ]
    },
    {
      "cell_type": "code",
      "execution_count": null,
      "metadata": {
        "id": "feFQ1T8GWoXQ",
        "outputId": "49a0ec2a-38af-4500-8afd-72881c394b33",
        "colab": {
          "base_uri": "https://localhost:8080/"
        }
      },
      "outputs": [
        {
          "output_type": "stream",
          "name": "stdout",
          "text": [
            "Collecting padelpy\n",
            "  Downloading padelpy-0.1.11-py2.py3-none-any.whl (20.9 MB)\n",
            "\u001b[K     |████████████████████████████████| 20.9 MB 1.2 MB/s \n",
            "\u001b[?25hInstalling collected packages: padelpy\n",
            "Successfully installed padelpy-0.1.11\n"
          ]
        }
      ],
      "source": [
        "! pip install padelpy\n",
        "from padelpy import from_smiles\n",
        "import pandas as pd"
      ]
    },
    {
      "cell_type": "code",
      "execution_count": null,
      "metadata": {
        "id": "GCcE8J5XwjtB"
      },
      "outputs": [],
      "source": [
        "df= pd.read_csv(\"/content/drive/MyDrive/Colab Notebooks/drug discovery/ATG4B/data_atg4b/2_pIC50_lipinski_ATG4B.csv\")"
      ]
    },
    {
      "cell_type": "code",
      "execution_count": null,
      "metadata": {
        "id": "60z_N6egNiSJ",
        "outputId": "a2d39eff-e1a5-4645-b6ff-41e96c2b4cc7",
        "colab": {
          "base_uri": "https://localhost:8080/",
          "height": 467
        }
      },
      "outputs": [
        {
          "output_type": "execute_result",
          "data": {
            "text/plain": [
              "     Unnamed: 0  Unnamed: 0.1 molecule_chembl_id  \\\n",
              "0             0             0      CHEMBL1978651   \n",
              "1             1             1      CHEMBL1419772   \n",
              "2             2             2      CHEMBL1337070   \n",
              "3             3             3      CHEMBL1485315   \n",
              "4             4             4      CHEMBL1477862   \n",
              "..          ...           ...                ...   \n",
              "369         369           403      CHEMBL4527514   \n",
              "370         370           407      CHEMBL3195142   \n",
              "371         371           408       CHEMBL286494   \n",
              "372         372           410      CHEMBL1365132   \n",
              "373         373           413      CHEMBL4586459   \n",
              "\n",
              "                                      canonical_smiles         class       MW  \\\n",
              "0    C=C(C)Cn1c(SCC(=O)N/N=C/c2c(O)ccc3ccccc23)nc2c...      inactive  458.543   \n",
              "1    Nc1ncc(Br)cc1S(=O)(=O)Nc1cc(C(F)(F)F)cc(C(F)(F...  intermediate  464.185   \n",
              "2                         Fc1ccc(CN=C(S)NCc2ccccc2)cc1      inactive  274.364   \n",
              "3          CC(=C\\c1ccccc1)/C=C1/SC(=S)N(CCCC(=O)O)C1=O      inactive  347.461   \n",
              "4       CC(C)c1ccc(NC2CCCN(C(=O)c3[nH]nc4c3CCC4)C2)cc1      inactive  352.482   \n",
              "..                                                 ...           ...      ...   \n",
              "369     O=C(CF)CNC(=O)[C@H](Cc1ccccc1)NC(=O)COc1ccccc1      inactive  372.396   \n",
              "370  Cc1c(Cl)c([N+](=O)[O-])nn1Cc1ccc(C(=O)N/N=C\\c2...        active  438.227   \n",
              "371  Cc1cc(O)c2c(=O)c3c(O)cc(O)c4c5c(O)cc(O)c6c(=O)...        active  504.450   \n",
              "372         COc1ccc(OC)c(NC(=O)c2nnn(Cc3ccccc3C)c2N)c1  intermediate  367.409   \n",
              "373   O=C(/C=C1/Nc2cc(Cl)c(Cl)cc2NC1=O)N/N=C/c1ccccc1O        active  391.214   \n",
              "\n",
              "        LogP  NumHDonors  NumHAcceptors     pIC50  \n",
              "0    4.07380         2.0            7.0  4.876148  \n",
              "1    4.26470         2.0            4.0  5.048662  \n",
              "2    3.40130         2.0            1.0  4.735182  \n",
              "3    3.69890         1.0            4.0  4.767004  \n",
              "4    3.73850         2.0            3.0  4.928118  \n",
              "..       ...         ...            ...       ...  \n",
              "369  1.44770         2.0            4.0  4.464706  \n",
              "370  3.51732         2.0            8.0  4.677781  \n",
              "371  5.08104         6.0            8.0  4.244125  \n",
              "372  2.48652         2.0            7.0  4.701147  \n",
              "373  3.09720         4.0            5.0  3.501689  \n",
              "\n",
              "[374 rows x 10 columns]"
            ],
            "text/html": [
              "\n",
              "  <div id=\"df-4ca7389e-2cdf-4318-ba6e-ca2942a9a729\">\n",
              "    <div class=\"colab-df-container\">\n",
              "      <div>\n",
              "<style scoped>\n",
              "    .dataframe tbody tr th:only-of-type {\n",
              "        vertical-align: middle;\n",
              "    }\n",
              "\n",
              "    .dataframe tbody tr th {\n",
              "        vertical-align: top;\n",
              "    }\n",
              "\n",
              "    .dataframe thead th {\n",
              "        text-align: right;\n",
              "    }\n",
              "</style>\n",
              "<table border=\"1\" class=\"dataframe\">\n",
              "  <thead>\n",
              "    <tr style=\"text-align: right;\">\n",
              "      <th></th>\n",
              "      <th>Unnamed: 0</th>\n",
              "      <th>Unnamed: 0.1</th>\n",
              "      <th>molecule_chembl_id</th>\n",
              "      <th>canonical_smiles</th>\n",
              "      <th>class</th>\n",
              "      <th>MW</th>\n",
              "      <th>LogP</th>\n",
              "      <th>NumHDonors</th>\n",
              "      <th>NumHAcceptors</th>\n",
              "      <th>pIC50</th>\n",
              "    </tr>\n",
              "  </thead>\n",
              "  <tbody>\n",
              "    <tr>\n",
              "      <th>0</th>\n",
              "      <td>0</td>\n",
              "      <td>0</td>\n",
              "      <td>CHEMBL1978651</td>\n",
              "      <td>C=C(C)Cn1c(SCC(=O)N/N=C/c2c(O)ccc3ccccc23)nc2c...</td>\n",
              "      <td>inactive</td>\n",
              "      <td>458.543</td>\n",
              "      <td>4.07380</td>\n",
              "      <td>2.0</td>\n",
              "      <td>7.0</td>\n",
              "      <td>4.876148</td>\n",
              "    </tr>\n",
              "    <tr>\n",
              "      <th>1</th>\n",
              "      <td>1</td>\n",
              "      <td>1</td>\n",
              "      <td>CHEMBL1419772</td>\n",
              "      <td>Nc1ncc(Br)cc1S(=O)(=O)Nc1cc(C(F)(F)F)cc(C(F)(F...</td>\n",
              "      <td>intermediate</td>\n",
              "      <td>464.185</td>\n",
              "      <td>4.26470</td>\n",
              "      <td>2.0</td>\n",
              "      <td>4.0</td>\n",
              "      <td>5.048662</td>\n",
              "    </tr>\n",
              "    <tr>\n",
              "      <th>2</th>\n",
              "      <td>2</td>\n",
              "      <td>2</td>\n",
              "      <td>CHEMBL1337070</td>\n",
              "      <td>Fc1ccc(CN=C(S)NCc2ccccc2)cc1</td>\n",
              "      <td>inactive</td>\n",
              "      <td>274.364</td>\n",
              "      <td>3.40130</td>\n",
              "      <td>2.0</td>\n",
              "      <td>1.0</td>\n",
              "      <td>4.735182</td>\n",
              "    </tr>\n",
              "    <tr>\n",
              "      <th>3</th>\n",
              "      <td>3</td>\n",
              "      <td>3</td>\n",
              "      <td>CHEMBL1485315</td>\n",
              "      <td>CC(=C\\c1ccccc1)/C=C1/SC(=S)N(CCCC(=O)O)C1=O</td>\n",
              "      <td>inactive</td>\n",
              "      <td>347.461</td>\n",
              "      <td>3.69890</td>\n",
              "      <td>1.0</td>\n",
              "      <td>4.0</td>\n",
              "      <td>4.767004</td>\n",
              "    </tr>\n",
              "    <tr>\n",
              "      <th>4</th>\n",
              "      <td>4</td>\n",
              "      <td>4</td>\n",
              "      <td>CHEMBL1477862</td>\n",
              "      <td>CC(C)c1ccc(NC2CCCN(C(=O)c3[nH]nc4c3CCC4)C2)cc1</td>\n",
              "      <td>inactive</td>\n",
              "      <td>352.482</td>\n",
              "      <td>3.73850</td>\n",
              "      <td>2.0</td>\n",
              "      <td>3.0</td>\n",
              "      <td>4.928118</td>\n",
              "    </tr>\n",
              "    <tr>\n",
              "      <th>...</th>\n",
              "      <td>...</td>\n",
              "      <td>...</td>\n",
              "      <td>...</td>\n",
              "      <td>...</td>\n",
              "      <td>...</td>\n",
              "      <td>...</td>\n",
              "      <td>...</td>\n",
              "      <td>...</td>\n",
              "      <td>...</td>\n",
              "      <td>...</td>\n",
              "    </tr>\n",
              "    <tr>\n",
              "      <th>369</th>\n",
              "      <td>369</td>\n",
              "      <td>403</td>\n",
              "      <td>CHEMBL4527514</td>\n",
              "      <td>O=C(CF)CNC(=O)[C@H](Cc1ccccc1)NC(=O)COc1ccccc1</td>\n",
              "      <td>inactive</td>\n",
              "      <td>372.396</td>\n",
              "      <td>1.44770</td>\n",
              "      <td>2.0</td>\n",
              "      <td>4.0</td>\n",
              "      <td>4.464706</td>\n",
              "    </tr>\n",
              "    <tr>\n",
              "      <th>370</th>\n",
              "      <td>370</td>\n",
              "      <td>407</td>\n",
              "      <td>CHEMBL3195142</td>\n",
              "      <td>Cc1c(Cl)c([N+](=O)[O-])nn1Cc1ccc(C(=O)N/N=C\\c2...</td>\n",
              "      <td>active</td>\n",
              "      <td>438.227</td>\n",
              "      <td>3.51732</td>\n",
              "      <td>2.0</td>\n",
              "      <td>8.0</td>\n",
              "      <td>4.677781</td>\n",
              "    </tr>\n",
              "    <tr>\n",
              "      <th>371</th>\n",
              "      <td>371</td>\n",
              "      <td>408</td>\n",
              "      <td>CHEMBL286494</td>\n",
              "      <td>Cc1cc(O)c2c(=O)c3c(O)cc(O)c4c5c(O)cc(O)c6c(=O)...</td>\n",
              "      <td>active</td>\n",
              "      <td>504.450</td>\n",
              "      <td>5.08104</td>\n",
              "      <td>6.0</td>\n",
              "      <td>8.0</td>\n",
              "      <td>4.244125</td>\n",
              "    </tr>\n",
              "    <tr>\n",
              "      <th>372</th>\n",
              "      <td>372</td>\n",
              "      <td>410</td>\n",
              "      <td>CHEMBL1365132</td>\n",
              "      <td>COc1ccc(OC)c(NC(=O)c2nnn(Cc3ccccc3C)c2N)c1</td>\n",
              "      <td>intermediate</td>\n",
              "      <td>367.409</td>\n",
              "      <td>2.48652</td>\n",
              "      <td>2.0</td>\n",
              "      <td>7.0</td>\n",
              "      <td>4.701147</td>\n",
              "    </tr>\n",
              "    <tr>\n",
              "      <th>373</th>\n",
              "      <td>373</td>\n",
              "      <td>413</td>\n",
              "      <td>CHEMBL4586459</td>\n",
              "      <td>O=C(/C=C1/Nc2cc(Cl)c(Cl)cc2NC1=O)N/N=C/c1ccccc1O</td>\n",
              "      <td>active</td>\n",
              "      <td>391.214</td>\n",
              "      <td>3.09720</td>\n",
              "      <td>4.0</td>\n",
              "      <td>5.0</td>\n",
              "      <td>3.501689</td>\n",
              "    </tr>\n",
              "  </tbody>\n",
              "</table>\n",
              "<p>374 rows × 10 columns</p>\n",
              "</div>\n",
              "      <button class=\"colab-df-convert\" onclick=\"convertToInteractive('df-4ca7389e-2cdf-4318-ba6e-ca2942a9a729')\"\n",
              "              title=\"Convert this dataframe to an interactive table.\"\n",
              "              style=\"display:none;\">\n",
              "        \n",
              "  <svg xmlns=\"http://www.w3.org/2000/svg\" height=\"24px\"viewBox=\"0 0 24 24\"\n",
              "       width=\"24px\">\n",
              "    <path d=\"M0 0h24v24H0V0z\" fill=\"none\"/>\n",
              "    <path d=\"M18.56 5.44l.94 2.06.94-2.06 2.06-.94-2.06-.94-.94-2.06-.94 2.06-2.06.94zm-11 1L8.5 8.5l.94-2.06 2.06-.94-2.06-.94L8.5 2.5l-.94 2.06-2.06.94zm10 10l.94 2.06.94-2.06 2.06-.94-2.06-.94-.94-2.06-.94 2.06-2.06.94z\"/><path d=\"M17.41 7.96l-1.37-1.37c-.4-.4-.92-.59-1.43-.59-.52 0-1.04.2-1.43.59L10.3 9.45l-7.72 7.72c-.78.78-.78 2.05 0 2.83L4 21.41c.39.39.9.59 1.41.59.51 0 1.02-.2 1.41-.59l7.78-7.78 2.81-2.81c.8-.78.8-2.07 0-2.86zM5.41 20L4 18.59l7.72-7.72 1.47 1.35L5.41 20z\"/>\n",
              "  </svg>\n",
              "      </button>\n",
              "      \n",
              "  <style>\n",
              "    .colab-df-container {\n",
              "      display:flex;\n",
              "      flex-wrap:wrap;\n",
              "      gap: 12px;\n",
              "    }\n",
              "\n",
              "    .colab-df-convert {\n",
              "      background-color: #E8F0FE;\n",
              "      border: none;\n",
              "      border-radius: 50%;\n",
              "      cursor: pointer;\n",
              "      display: none;\n",
              "      fill: #1967D2;\n",
              "      height: 32px;\n",
              "      padding: 0 0 0 0;\n",
              "      width: 32px;\n",
              "    }\n",
              "\n",
              "    .colab-df-convert:hover {\n",
              "      background-color: #E2EBFA;\n",
              "      box-shadow: 0px 1px 2px rgba(60, 64, 67, 0.3), 0px 1px 3px 1px rgba(60, 64, 67, 0.15);\n",
              "      fill: #174EA6;\n",
              "    }\n",
              "\n",
              "    [theme=dark] .colab-df-convert {\n",
              "      background-color: #3B4455;\n",
              "      fill: #D2E3FC;\n",
              "    }\n",
              "\n",
              "    [theme=dark] .colab-df-convert:hover {\n",
              "      background-color: #434B5C;\n",
              "      box-shadow: 0px 1px 3px 1px rgba(0, 0, 0, 0.15);\n",
              "      filter: drop-shadow(0px 1px 2px rgba(0, 0, 0, 0.3));\n",
              "      fill: #FFFFFF;\n",
              "    }\n",
              "  </style>\n",
              "\n",
              "      <script>\n",
              "        const buttonEl =\n",
              "          document.querySelector('#df-4ca7389e-2cdf-4318-ba6e-ca2942a9a729 button.colab-df-convert');\n",
              "        buttonEl.style.display =\n",
              "          google.colab.kernel.accessAllowed ? 'block' : 'none';\n",
              "\n",
              "        async function convertToInteractive(key) {\n",
              "          const element = document.querySelector('#df-4ca7389e-2cdf-4318-ba6e-ca2942a9a729');\n",
              "          const dataTable =\n",
              "            await google.colab.kernel.invokeFunction('convertToInteractive',\n",
              "                                                     [key], {});\n",
              "          if (!dataTable) return;\n",
              "\n",
              "          const docLinkHtml = 'Like what you see? Visit the ' +\n",
              "            '<a target=\"_blank\" href=https://colab.research.google.com/notebooks/data_table.ipynb>data table notebook</a>'\n",
              "            + ' to learn more about interactive tables.';\n",
              "          element.innerHTML = '';\n",
              "          dataTable['output_type'] = 'display_data';\n",
              "          await google.colab.output.renderOutput(dataTable, element);\n",
              "          const docLink = document.createElement('div');\n",
              "          docLink.innerHTML = docLinkHtml;\n",
              "          element.appendChild(docLink);\n",
              "        }\n",
              "      </script>\n",
              "    </div>\n",
              "  </div>\n",
              "  "
            ]
          },
          "metadata": {},
          "execution_count": 4
        }
      ],
      "source": [
        "df"
      ]
    },
    {
      "cell_type": "code",
      "execution_count": null,
      "metadata": {
        "id": "cldcgK-yUYqo"
      },
      "outputs": [],
      "source": [
        "smiles = df['canonical_smiles'].tolist()"
      ]
    },
    {
      "cell_type": "code",
      "execution_count": null,
      "metadata": {
        "id": "eFyjgffe8xWA"
      },
      "outputs": [],
      "source": [
        "A= []\n",
        "for i in smiles:\n",
        "  c =from_smiles(i, fingerprints=True, descriptors=True)\n",
        "  A.append(c)\n",
        "discriptors = pd.DataFrame(data = A)"
      ]
    },
    {
      "cell_type": "code",
      "source": [
        "X_padel = discriptors\n",
        "X_padel"
      ],
      "metadata": {
        "id": "UQC2ic9-Vc5G"
      },
      "execution_count": null,
      "outputs": []
    },
    {
      "cell_type": "code",
      "execution_count": null,
      "metadata": {
        "id": "PjG26KY5G4_L"
      },
      "outputs": [],
      "source": [
        "X_padel.to_csv('X_padel.csv')\n",
        "!cp X_padel.csv \"/content/drive/MyDrive/Colab Notebooks/drug discovery/ATG4B/data_atg4b\""
      ]
    }
  ],
  "metadata": {
    "colab": {
      "name": "1_desriptors_padel.ipynb",
      "provenance": [],
      "collapsed_sections": [],
      "authorship_tag": "ABX9TyMkvsGQy7aBaYqsM1+Cbobo",
      "include_colab_link": true
    },
    "kernelspec": {
      "display_name": "Python 3",
      "name": "python3"
    },
    "language_info": {
      "name": "python"
    }
  },
  "nbformat": 4,
  "nbformat_minor": 0
}